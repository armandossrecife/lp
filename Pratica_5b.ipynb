{
  "nbformat": 4,
  "nbformat_minor": 0,
  "metadata": {
    "colab": {
      "provenance": [],
      "authorship_tag": "ABX9TyPqkHzLo7i0n/RBbL/Oo3us",
      "include_colab_link": true
    },
    "kernelspec": {
      "name": "python3",
      "display_name": "Python 3"
    },
    "language_info": {
      "name": "python"
    }
  },
  "cells": [
    {
      "cell_type": "markdown",
      "metadata": {
        "id": "view-in-github",
        "colab_type": "text"
      },
      "source": [
        "<a href=\"https://colab.research.google.com/github/armandossrecife/lp/blob/main/Pratica_5b.ipynb\" target=\"_parent\"><img src=\"https://colab.research.google.com/assets/colab-badge.svg\" alt=\"Open In Colab\"/></a>"
      ]
    },
    {
      "cell_type": "markdown",
      "source": [
        "# Prática 5b - Programa para manipular uma mini-agenda"
      ],
      "metadata": {
        "id": "zXQGM6HpAoJS"
      }
    },
    {
      "cell_type": "markdown",
      "source": [
        "## As seguintes funções devem ser criadas\n",
        "\n",
        "inicializa_agenda(nome_arquivo = 'agenda.txt')\n",
        "\n",
        "ler_contato()\n",
        "\n",
        "insere_contato(contato, nome_arquivo)\n",
        "\n",
        "listar_contatos(nome_arquivo)\n",
        "\n",
        "mostra_menu()\n",
        "\n",
        "\n",
        "\n"
      ],
      "metadata": {
        "id": "d3SDbvIIAt-j"
      }
    },
    {
      "cell_type": "code",
      "execution_count": 2,
      "metadata": {
        "id": "mynW_AqCAbcd"
      },
      "outputs": [],
      "source": [
        "# Inicializa a mini-agenda\n",
        "# Dado um nome de arquivo, cria o arquivo e deixa pronto para escrita\n",
        "def inicializa_agenda(nome_arquivo = 'agenda.txt'):\n",
        "  pass\n",
        "  return nome_arquivo\n",
        "  \n",
        "# ler um contato\n",
        "# ler as entradas de id_contato e nome_contato\n",
        "# cria uma tupla contato para representar contato\n",
        "def ler_contato():\n",
        "  pass\n",
        "  return contato\n",
        "\n",
        "# Insere um novo contato\n",
        "# abre o arquivo para inserir no final\n",
        "# salva o contato no arquivo\n",
        "# uma linha representa os dados do contato separados por virgula\n",
        "# fecha o arquivo\n",
        "def insere_contato(contato, nome_arquivo):\n",
        "  pass\n",
        "\n",
        "# Lista os contatos salvos no arquivo\n",
        "# abre o arquivo para leitura\n",
        "# lista todas as linhas do arquivo\n",
        "def listar_contatos(nome_arquivo):\n",
        "  pass\n",
        "\n",
        "def mostra_menu():\n",
        "  print(\"--- Bem vindo a mini-agenda ---\")\n",
        "  print(\"1 - Mostra os contatos registrados\")\n",
        "  print(\"2 - Insere um novo contato\")\n",
        "  print(\"3 - Sair\")"
      ]
    },
    {
      "cell_type": "markdown",
      "source": [
        "## Executa o programa"
      ],
      "metadata": {
        "id": "KXmzrs21BNwG"
      }
    },
    {
      "cell_type": "code",
      "source": [
        "nome_arquivo = inicializa_agenda()\n",
        "mostra_menu()\n",
        "opcao = int(input('Qual a opção? '))\n",
        "while(opcao != 3):\n",
        "  if (opcao == 1):\n",
        "    print('# Lista contatos da agenda #')\n",
        "    listar_contatos('agenda.txt')\n",
        "  if (opcao == 2):\n",
        "    print('# Novo contato #')\n",
        "    contato = ler_contato()\n",
        "    insere_contato(contato, nome_arquivo)\n",
        "  mostra_menu()\n",
        "  opcao = int(input('Qual a opção? '))"
      ],
      "metadata": {
        "id": "aGvtTYnzAkYX"
      },
      "execution_count": null,
      "outputs": []
    }
  ]
}