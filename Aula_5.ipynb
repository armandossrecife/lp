{
  "nbformat": 4,
  "nbformat_minor": 0,
  "metadata": {
    "colab": {
      "provenance": [],
      "authorship_tag": "ABX9TyMijxL8xqijzmDK/LL8RVnd",
      "include_colab_link": true
    },
    "kernelspec": {
      "name": "python3",
      "display_name": "Python 3"
    },
    "language_info": {
      "name": "python"
    }
  },
  "cells": [
    {
      "cell_type": "markdown",
      "metadata": {
        "id": "view-in-github",
        "colab_type": "text"
      },
      "source": [
        "<a href=\"https://colab.research.google.com/github/armandossrecife/lp/blob/main/Aula_5.ipynb\" target=\"_parent\"><img src=\"https://colab.research.google.com/assets/colab-badge.svg\" alt=\"Open In Colab\"/></a>"
      ]
    },
    {
      "cell_type": "code",
      "execution_count": 3,
      "metadata": {
        "id": "Tr9mQ9_8bJQS"
      },
      "outputs": [],
      "source": [
        "def f(x):\n",
        "  resultado = x + 1\n",
        "  return resultado"
      ]
    },
    {
      "cell_type": "code",
      "source": [
        "y = f(1)\n",
        "print(y)"
      ],
      "metadata": {
        "colab": {
          "base_uri": "https://localhost:8080/"
        },
        "id": "uPrM1AGSeEMF",
        "outputId": "7efc563e-04a3-4a98-ad5b-67c1c0505a0c"
      },
      "execution_count": 5,
      "outputs": [
        {
          "output_type": "stream",
          "name": "stdout",
          "text": [
            "2\n"
          ]
        }
      ]
    },
    {
      "cell_type": "code",
      "source": [
        "def g(x, w):\n",
        "  return (x+w)"
      ],
      "metadata": {
        "id": "xVnb_mtbeGP0"
      },
      "execution_count": 6,
      "outputs": []
    },
    {
      "cell_type": "code",
      "source": [
        "g(1,3)"
      ],
      "metadata": {
        "colab": {
          "base_uri": "https://localhost:8080/"
        },
        "id": "W9KOj1gmgjqQ",
        "outputId": "c9b0a6a0-af41-44bc-9167-debefed17819"
      },
      "execution_count": 7,
      "outputs": [
        {
          "output_type": "execute_result",
          "data": {
            "text/plain": [
              "4"
            ]
          },
          "metadata": {},
          "execution_count": 7
        }
      ]
    },
    {
      "cell_type": "code",
      "source": [
        "g(x=1, w=3)"
      ],
      "metadata": {
        "colab": {
          "base_uri": "https://localhost:8080/"
        },
        "id": "8uR61T_5glUb",
        "outputId": "f50fc41d-d979-4f3e-a78c-d1ff4fcedd43"
      },
      "execution_count": 8,
      "outputs": [
        {
          "output_type": "execute_result",
          "data": {
            "text/plain": [
              "4"
            ]
          },
          "metadata": {},
          "execution_count": 8
        }
      ]
    },
    {
      "cell_type": "code",
      "source": [
        "g(w=3, x=1)"
      ],
      "metadata": {
        "colab": {
          "base_uri": "https://localhost:8080/"
        },
        "id": "6DirCZxXgpTp",
        "outputId": "e74b6d29-6703-43af-ba59-a60ba4df5dcd"
      },
      "execution_count": 9,
      "outputs": [
        {
          "output_type": "execute_result",
          "data": {
            "text/plain": [
              "4"
            ]
          },
          "metadata": {},
          "execution_count": 9
        }
      ]
    },
    {
      "cell_type": "code",
      "source": [
        "def minhas_palavras(*argv):\n",
        "  print(argv)\n",
        "  for argumento in argv:\n",
        "    print(argumento)"
      ],
      "metadata": {
        "id": "9OQYJXLgg9pW"
      },
      "execution_count": 13,
      "outputs": []
    },
    {
      "cell_type": "code",
      "source": [
        "minhas_palavras(\"Armando\", \"Soares\", \"Sousa\")"
      ],
      "metadata": {
        "colab": {
          "base_uri": "https://localhost:8080/"
        },
        "id": "AY0nbq7VjXV2",
        "outputId": "609631ca-2a98-4bb1-dec2-09d052f7d651"
      },
      "execution_count": 14,
      "outputs": [
        {
          "output_type": "stream",
          "name": "stdout",
          "text": [
            "('Armando', 'Soares', 'Sousa')\n",
            "Armando\n",
            "Soares\n",
            "Sousa\n"
          ]
        }
      ]
    },
    {
      "cell_type": "code",
      "source": [
        "minhas_palavras('Maria', 'Joaquina', 'de', 'Amaral', 'Pereira', 'Goes')"
      ],
      "metadata": {
        "colab": {
          "base_uri": "https://localhost:8080/"
        },
        "id": "vh7k_-Fyjijh",
        "outputId": "5dc93fca-0727-42a0-9eda-cc429cebacdd"
      },
      "execution_count": 15,
      "outputs": [
        {
          "output_type": "stream",
          "name": "stdout",
          "text": [
            "('Maria', 'Joaquina', 'de', 'Amaral', 'Pereira', 'Goes')\n",
            "Maria\n",
            "Joaquina\n",
            "de\n",
            "Amaral\n",
            "Pereira\n",
            "Goes\n"
          ]
        }
      ]
    },
    {
      "cell_type": "code",
      "source": [
        "def meus_contatos(**kargs):\n",
        "  for k, v in kargs.items():\n",
        "    print(k, v)"
      ],
      "metadata": {
        "id": "JjMkhhEVkwIj"
      },
      "execution_count": 16,
      "outputs": []
    },
    {
      "cell_type": "code",
      "source": [
        "meus_contatos(nome=\"Maria Joaquina\", email='mj@gmail.com')"
      ],
      "metadata": {
        "colab": {
          "base_uri": "https://localhost:8080/"
        },
        "id": "QH0xTVBQlAYk",
        "outputId": "1401ffc3-b2a9-411c-f003-2ffe3883ddfb"
      },
      "execution_count": 17,
      "outputs": [
        {
          "output_type": "stream",
          "name": "stdout",
          "text": [
            "nome Maria Joaquina\n",
            "email mj@gmail.com\n"
          ]
        }
      ]
    },
    {
      "cell_type": "code",
      "source": [
        "meus_contatos(nome=\"Maria Joaquina\", email='mj@gmail.com', lista_teleones =  ['988776655', '977886677'])"
      ],
      "metadata": {
        "colab": {
          "base_uri": "https://localhost:8080/"
        },
        "id": "bZDv70HalKmc",
        "outputId": "5ee50466-5283-46fb-a2a5-db750aef5f3b"
      },
      "execution_count": 18,
      "outputs": [
        {
          "output_type": "stream",
          "name": "stdout",
          "text": [
            "nome Maria Joaquina\n",
            "email mj@gmail.com\n",
            "lista_teleones ['988776655', '977886677']\n"
          ]
        }
      ]
    },
    {
      "cell_type": "code",
      "source": [
        "import datetime as dt"
      ],
      "metadata": {
        "id": "wNSgFA8YllhG"
      },
      "execution_count": 23,
      "outputs": []
    },
    {
      "cell_type": "code",
      "source": [
        "data_atual = dt.datetime.now()\n",
        "print(data_atual)"
      ],
      "metadata": {
        "colab": {
          "base_uri": "https://localhost:8080/"
        },
        "id": "cVZS7OCOotnX",
        "outputId": "9b056800-c3e1-456d-8a82-6e85e990b425"
      },
      "execution_count": 22,
      "outputs": [
        {
          "output_type": "stream",
          "name": "stdout",
          "text": [
            "2022-12-06 18:13:15.010958\n"
          ]
        }
      ]
    },
    {
      "cell_type": "code",
      "source": [
        "data_atual = dt.datetime.now()\n",
        "print(data_atual)"
      ],
      "metadata": {
        "colab": {
          "base_uri": "https://localhost:8080/"
        },
        "id": "EgQiI2L8o12A",
        "outputId": "e2f824a7-ebd1-4d3e-947a-b5cc3125a6b4"
      },
      "execution_count": 24,
      "outputs": [
        {
          "output_type": "stream",
          "name": "stdout",
          "text": [
            "2022-12-06 18:13:33.390494\n"
          ]
        }
      ]
    },
    {
      "cell_type": "code",
      "source": [
        "import math"
      ],
      "metadata": {
        "id": "3kaZ4R1_paOg"
      },
      "execution_count": 25,
      "outputs": []
    },
    {
      "cell_type": "code",
      "source": [
        "math.sin(90)"
      ],
      "metadata": {
        "colab": {
          "base_uri": "https://localhost:8080/"
        },
        "id": "5jKjJNUfpcW9",
        "outputId": "39cd2b90-c12d-4be3-f9ec-23feb998dfe6"
      },
      "execution_count": 27,
      "outputs": [
        {
          "output_type": "execute_result",
          "data": {
            "text/plain": [
              "0.8939966636005579"
            ]
          },
          "metadata": {},
          "execution_count": 27
        }
      ]
    },
    {
      "cell_type": "markdown",
      "source": [
        "# Prática - Mini Calculadora"
      ],
      "metadata": {
        "id": "8nzNUo_8qZgK"
      }
    },
    {
      "cell_type": "markdown",
      "source": [
        "## Definindo as operações"
      ],
      "metadata": {
        "id": "udcGcUfeqdtl"
      }
    },
    {
      "cell_type": "code",
      "source": [
        "def soma(x, y):\n",
        "  return (x+y)\n",
        "\n",
        "def subtrai(x, y):\n",
        "  return (x-y)\n",
        "\n",
        "def multiplica(x, y):\n",
        "  return (x*y)\n",
        "\n",
        "def divide(x, y):\n",
        "  resultado = 0\n",
        "  try:\n",
        "    resultado = x/y\n",
        "  except: \n",
        "    print(\"Erro! Não pode dividir por zero!\")\n",
        "  return x/y\n",
        "\n",
        "valor1 = 5\n",
        "valor2 = 6\n",
        "\n",
        "print(f\"soma de {valor1} e {valor2} é: {soma(valor1, valor2)}\")\n",
        "print(f\"subtração de {valor1} e {valor2} é: {subtrai(valor1, valor2)}\")\n",
        "print(f\"multiplicação de {valor1} e {valor2} é: {multiplica(valor1, valor2)}\")\n",
        "print(f\"divisão de {valor1} e {valor2} é: {divide(valor1, valor2):.3f}\")\n",
        "\n",
        "\n"
      ],
      "metadata": {
        "colab": {
          "base_uri": "https://localhost:8080/"
        },
        "id": "gcsWC-y9qbv4",
        "outputId": "ef0878ef-24b0-4b6c-aab5-38dcb7889573"
      },
      "execution_count": 31,
      "outputs": [
        {
          "output_type": "stream",
          "name": "stdout",
          "text": [
            "soma de 5 e 6 é: 11\n",
            "subtração de 5 e 6 é: -1\n",
            "multiplicação de 5 e 6 é: 30\n",
            "divisão de 5 e 6 é: 0.833\n"
          ]
        }
      ]
    },
    {
      "cell_type": "markdown",
      "source": [
        "# Prática - Mini Agenda de Contatos"
      ],
      "metadata": {
        "id": "Pb-VIUHI6wKK"
      }
    },
    {
      "cell_type": "code",
      "source": [
        "contato1 = ('maria', 'm@g.com', ['1234567', '23456788'])\n",
        "contato2 = ('calos', 'c@g.com', ['12345678', '823456788'])\n",
        "contato3 = ('ana', 'a@g.com', ['212345678', '7823456788'])"
      ],
      "metadata": {
        "id": "jGCTPMqMqpay"
      },
      "execution_count": 48,
      "outputs": []
    },
    {
      "cell_type": "code",
      "source": [
        "print(contato1)\n",
        "print(contato2)"
      ],
      "metadata": {
        "colab": {
          "base_uri": "https://localhost:8080/"
        },
        "id": "jwR_t5ksu4d2",
        "outputId": "6f99a444-f7e9-4da8-cb33-fffc9083ffd4"
      },
      "execution_count": 49,
      "outputs": [
        {
          "output_type": "stream",
          "name": "stdout",
          "text": [
            "('maria', 'm@g.com', ['1234567', '23456788'])\n",
            "('calos', 'c@g.com', ['12345678', '823456788'])\n"
          ]
        }
      ]
    },
    {
      "cell_type": "code",
      "source": [
        "contato1[0]"
      ],
      "metadata": {
        "colab": {
          "base_uri": "https://localhost:8080/",
          "height": 35
        },
        "id": "VG1G8Ikhu8vy",
        "outputId": "0f267028-74c8-402e-c1be-7d1d24f3d919"
      },
      "execution_count": 36,
      "outputs": [
        {
          "output_type": "execute_result",
          "data": {
            "text/plain": [
              "'maria'"
            ],
            "application/vnd.google.colaboratory.intrinsic+json": {
              "type": "string"
            }
          },
          "metadata": {},
          "execution_count": 36
        }
      ]
    },
    {
      "cell_type": "code",
      "source": [
        "contato1[1]"
      ],
      "metadata": {
        "colab": {
          "base_uri": "https://localhost:8080/",
          "height": 35
        },
        "id": "wv-ijMqAvENN",
        "outputId": "0b70d4a4-c303-4964-a986-1d20d5cf04ed"
      },
      "execution_count": 37,
      "outputs": [
        {
          "output_type": "execute_result",
          "data": {
            "text/plain": [
              "'m@g.com'"
            ],
            "application/vnd.google.colaboratory.intrinsic+json": {
              "type": "string"
            }
          },
          "metadata": {},
          "execution_count": 37
        }
      ]
    },
    {
      "cell_type": "code",
      "source": [
        "agenda = {}"
      ],
      "metadata": {
        "id": "nws4fnsXvHQM"
      },
      "execution_count": 50,
      "outputs": []
    },
    {
      "cell_type": "code",
      "source": [
        "agenda[1] = contato1\n",
        "agenda[2] = contato2\n",
        "agenda[3] = contato3\n"
      ],
      "metadata": {
        "id": "UQ0jkEIyvQoK"
      },
      "execution_count": 51,
      "outputs": []
    },
    {
      "cell_type": "code",
      "source": [
        "print(agenda)"
      ],
      "metadata": {
        "colab": {
          "base_uri": "https://localhost:8080/"
        },
        "id": "BNGX6q98vjxu",
        "outputId": "564a098d-5fbf-456d-ad65-a916116737ee"
      },
      "execution_count": 52,
      "outputs": [
        {
          "output_type": "stream",
          "name": "stdout",
          "text": [
            "{1: ('maria', 'm@g.com', ['1234567', '23456788']), 2: ('calos', 'c@g.com', ['12345678', '823456788']), 3: ('ana', 'a@g.com', ['212345678', '7823456788'])}\n"
          ]
        }
      ]
    },
    {
      "cell_type": "code",
      "source": [
        "agenda = {}"
      ],
      "metadata": {
        "id": "wzY5F9zC0S2R"
      },
      "execution_count": 65,
      "outputs": []
    },
    {
      "cell_type": "code",
      "source": [
        "lista_ids = [0]\n",
        "\n",
        "def gerar_id_contato(lista_ids):\n",
        "  id_contato = lista_ids[-1] + 1\n",
        "  lista_ids.append(id_contato)\n",
        "  return id_contato\n"
      ],
      "metadata": {
        "id": "PUdoM6VUwUVv"
      },
      "execution_count": 60,
      "outputs": []
    },
    {
      "cell_type": "code",
      "source": [
        "gerar_id_contato(lista_ids)"
      ],
      "metadata": {
        "colab": {
          "base_uri": "https://localhost:8080/"
        },
        "id": "jIxqhcm2ybkZ",
        "outputId": "e0acdaae-576d-4aac-c7e8-2f251c4b6d6c"
      },
      "execution_count": 59,
      "outputs": [
        {
          "output_type": "execute_result",
          "data": {
            "text/plain": [
              "3"
            ]
          },
          "metadata": {},
          "execution_count": 59
        }
      ]
    },
    {
      "cell_type": "code",
      "source": [
        "def ler_dados_contato():\n",
        "  nome = input(\"Nome: \")\n",
        "  email = input(\"E-mail: \")\n",
        "  telefone = ['234234123', '234234']\n",
        "  dados_contato = (nome, email, telefone)\n",
        "  return dados_contato"
      ],
      "metadata": {
        "id": "QnYGxKnEyjcv"
      },
      "execution_count": 62,
      "outputs": []
    },
    {
      "cell_type": "code",
      "source": [
        "ler_dados_contato()"
      ],
      "metadata": {
        "colab": {
          "base_uri": "https://localhost:8080/"
        },
        "id": "KkpMF0twy8eU",
        "outputId": "ee996ffe-5382-452f-f61d-3140e0768ff0"
      },
      "execution_count": 63,
      "outputs": [
        {
          "name": "stdout",
          "output_type": "stream",
          "text": [
            "Nome: Maria Joaquina\n",
            "E-mail: m@gmail.com\n"
          ]
        },
        {
          "output_type": "execute_result",
          "data": {
            "text/plain": [
              "('Maria Joaquina', 'm@gmail.com', ['234234123', '234234'])"
            ]
          },
          "metadata": {},
          "execution_count": 63
        }
      ]
    },
    {
      "cell_type": "code",
      "source": [
        "def inserir_contato(dados_contato):\n",
        "  chave_do_contato = gerar_id_contato(lista_ids)\n",
        "  agenda[chave_do_contato] =  dados_contato"
      ],
      "metadata": {
        "id": "2KNk6pYlzX53"
      },
      "execution_count": 64,
      "outputs": []
    },
    {
      "cell_type": "code",
      "source": [
        "contato1 = ler_dados_contato()\n",
        "inserir_contato(contato1)\n",
        "print(agenda)"
      ],
      "metadata": {
        "colab": {
          "base_uri": "https://localhost:8080/"
        },
        "id": "-ICLE4cLz7F9",
        "outputId": "cd1a60a2-623a-4a9a-d5e9-4570e7625bc3"
      },
      "execution_count": 66,
      "outputs": [
        {
          "output_type": "stream",
          "name": "stdout",
          "text": [
            "Nome: maria\n",
            "E-mail: m@gmail.com\n",
            "{1: ('maria', 'm@gmail.com', ['234234123', '234234'])}\n"
          ]
        }
      ]
    },
    {
      "cell_type": "code",
      "source": [
        "contato1 = ler_dados_contato()\n",
        "inserir_contato(contato1)\n",
        "print(agenda)"
      ],
      "metadata": {
        "colab": {
          "base_uri": "https://localhost:8080/"
        },
        "id": "CV4qVrgl0Y8U",
        "outputId": "b452fbd6-9891-4822-a020-ad7e125a5144"
      },
      "execution_count": 67,
      "outputs": [
        {
          "output_type": "stream",
          "name": "stdout",
          "text": [
            "Nome: carlos\n",
            "E-mail: c@g.com\n",
            "{1: ('maria', 'm@gmail.com', ['234234123', '234234']), 2: ('carlos', 'c@g.com', ['234234123', '234234'])}\n"
          ]
        }
      ]
    },
    {
      "cell_type": "code",
      "source": [
        "def mostra_menu():\n",
        "  print(\"Opções da Agenda:\")\n",
        "  print(\"1 - Inserir contato\")\n",
        "  print(\"2 - Listar contato\")\n",
        "  print(\"3 - Sair\")"
      ],
      "metadata": {
        "id": "lWEYkPi-0u0t"
      },
      "execution_count": 68,
      "outputs": []
    },
    {
      "cell_type": "code",
      "source": [
        "mostra_menu()"
      ],
      "metadata": {
        "colab": {
          "base_uri": "https://localhost:8080/"
        },
        "id": "8MNm8KVZ05vW",
        "outputId": "8e40311d-e518-4ffb-8012-8e24ae2e5476"
      },
      "execution_count": 69,
      "outputs": [
        {
          "output_type": "stream",
          "name": "stdout",
          "text": [
            "Opções da Agenda:\n",
            "1 - Inserir contato\n",
            "2 - Listar contato\n",
            "3 - Sair\n"
          ]
        }
      ]
    },
    {
      "cell_type": "code",
      "source": [
        "mostra_menu()\n",
        "ler_opcao = input(\"Qual a sua opção? \")\n",
        "opcao = int(ler_opcao)\n",
        "\n",
        "while(opcao != 3):\n",
        "  if (opcao == 1):\n",
        "    print(\"Inserir contato\")\n",
        "    dados_contato = ler_dados_contato()\n",
        "    inserir_contato(dados_contato)\n",
        "  if (opcao == 2):\n",
        "    print(\"Listar contatos\")\n",
        "    print(agenda)\n",
        "  if (opcao == 3):\n",
        "    print(\"Fim do programa\")\n",
        "  mostra_menu()\n",
        "  ler_opcao = input(\"Qual a sua opção? \")\n",
        "  opcao = int(ler_opcao)"
      ],
      "metadata": {
        "id": "LjcoiH8R070t"
      },
      "execution_count": null,
      "outputs": []
    },
    {
      "cell_type": "code",
      "source": [
        "!python --version"
      ],
      "metadata": {
        "colab": {
          "base_uri": "https://localhost:8080/"
        },
        "id": "-nxUtEgc1LQl",
        "outputId": "3b314d4a-459a-4a68-b6a1-e315514b2797"
      },
      "execution_count": 71,
      "outputs": [
        {
          "output_type": "stream",
          "name": "stdout",
          "text": [
            "Python 3.8.15\n"
          ]
        }
      ]
    },
    {
      "cell_type": "code",
      "source": [],
      "metadata": {
        "id": "5j4rUsXE1bTK"
      },
      "execution_count": null,
      "outputs": []
    }
  ]
}