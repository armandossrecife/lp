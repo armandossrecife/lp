{
  "nbformat": 4,
  "nbformat_minor": 0,
  "metadata": {
    "colab": {
      "provenance": [],
      "authorship_tag": "ABX9TyORvlotBFSbr/aVUYjkBN4C",
      "include_colab_link": true
    },
    "kernelspec": {
      "name": "python3",
      "display_name": "Python 3"
    },
    "language_info": {
      "name": "python"
    }
  },
  "cells": [
    {
      "cell_type": "markdown",
      "metadata": {
        "id": "view-in-github",
        "colab_type": "text"
      },
      "source": [
        "<a href=\"https://colab.research.google.com/github/armandossrecife/lp/blob/main/pratica_2.ipynb\" target=\"_parent\"><img src=\"https://colab.research.google.com/assets/colab-badge.svg\" alt=\"Open In Colab\"/></a>"
      ]
    },
    {
      "cell_type": "markdown",
      "source": [
        "Prática 2 - Criando um registro simplificado de alunos e notas de uma disciplina"
      ],
      "metadata": {
        "id": "13Z_9U18BddJ"
      }
    },
    {
      "cell_type": "markdown",
      "source": [
        "# 1) Defina uma tupla para representar os dados de um Aluno"
      ],
      "metadata": {
        "id": "TURBOeD8-RZB"
      }
    },
    {
      "cell_type": "markdown",
      "source": [
        "## Dados: matricula, nome, e-mail\n",
        "\n",
        "### Crie 3 alunos fictícios (sugestão: use uma tupla para representar um aluno)"
      ],
      "metadata": {
        "id": "64MxGInm-m_b"
      }
    },
    {
      "cell_type": "code",
      "execution_count": null,
      "metadata": {
        "id": "D7BOQ_a3-QGu"
      },
      "outputs": [],
      "source": []
    },
    {
      "cell_type": "markdown",
      "source": [
        "# 2) Crie uma lista para representar os alunos matriculados na disciplina"
      ],
      "metadata": {
        "id": "yIrIhYB0-syB"
      }
    },
    {
      "cell_type": "code",
      "source": [],
      "metadata": {
        "id": "R3kfNF-e-rnC"
      },
      "execution_count": null,
      "outputs": []
    },
    {
      "cell_type": "markdown",
      "source": [
        "## Adicione os 3 alunos na lista"
      ],
      "metadata": {
        "id": "MPk4zvWA-_pr"
      }
    },
    {
      "cell_type": "code",
      "source": [],
      "metadata": {
        "id": "59bs2oS4-1Rc"
      },
      "execution_count": null,
      "outputs": []
    },
    {
      "cell_type": "markdown",
      "source": [
        "## Mostre os alunos da lista"
      ],
      "metadata": {
        "id": "2qWEe-TUBIdm"
      }
    },
    {
      "cell_type": "code",
      "source": [],
      "metadata": {
        "id": "AQJzIdgvBM3N"
      },
      "execution_count": null,
      "outputs": []
    },
    {
      "cell_type": "markdown",
      "source": [
        "# 3) Crie uma lista de 4 notas para cada aluno"
      ],
      "metadata": {
        "id": "U5gFwJ0z_SzX"
      }
    },
    {
      "cell_type": "code",
      "source": [],
      "metadata": {
        "id": "kDFD7W5K_J6X"
      },
      "execution_count": null,
      "outputs": []
    },
    {
      "cell_type": "markdown",
      "source": [
        "# 4) Crie uma tupla que represente um aluno e suas notas"
      ],
      "metadata": {
        "id": "urrRPpPG_ibQ"
      }
    },
    {
      "cell_type": "code",
      "source": [],
      "metadata": {
        "id": "6q27K107_bZg"
      },
      "execution_count": null,
      "outputs": []
    },
    {
      "cell_type": "markdown",
      "source": [
        "# 5) Crie uma lista que represente os alunos e as notas da disciplina"
      ],
      "metadata": {
        "id": "yHgE4mAP_5A6"
      }
    },
    {
      "cell_type": "code",
      "source": [],
      "metadata": {
        "id": "kZzgAWoa_9N7"
      },
      "execution_count": null,
      "outputs": []
    },
    {
      "cell_type": "markdown",
      "source": [
        "## Adicione os alunos e suas notas na lista de notas da disciplina"
      ],
      "metadata": {
        "id": "w7lvy2ULABkk"
      }
    },
    {
      "cell_type": "code",
      "source": [],
      "metadata": {
        "id": "5fkWkxPFAAAD"
      },
      "execution_count": null,
      "outputs": []
    },
    {
      "cell_type": "markdown",
      "source": [
        "# 6) Imprima os alunos com suas respectivas notas"
      ],
      "metadata": {
        "id": "bYQJko6NAUZm"
      }
    },
    {
      "cell_type": "code",
      "source": [],
      "metadata": {
        "id": "1EgBiBIUAk2w"
      },
      "execution_count": null,
      "outputs": []
    }
  ]
}