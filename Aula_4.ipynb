{
  "nbformat": 4,
  "nbformat_minor": 0,
  "metadata": {
    "colab": {
      "provenance": [],
      "authorship_tag": "ABX9TyMuiaNMA1QOvC8DPXsniCV4",
      "include_colab_link": true
    },
    "kernelspec": {
      "name": "python3",
      "display_name": "Python 3"
    },
    "language_info": {
      "name": "python"
    }
  },
  "cells": [
    {
      "cell_type": "markdown",
      "metadata": {
        "id": "view-in-github",
        "colab_type": "text"
      },
      "source": [
        "<a href=\"https://colab.research.google.com/github/armandossrecife/lp/blob/main/Aula_4.ipynb\" target=\"_parent\"><img src=\"https://colab.research.google.com/assets/colab-badge.svg\" alt=\"Open In Colab\"/></a>"
      ]
    },
    {
      "cell_type": "markdown",
      "source": [
        "# Trabalhando com dicionários"
      ],
      "metadata": {
        "id": "OzTUC7b0L3jI"
      }
    },
    {
      "cell_type": "code",
      "execution_count": 8,
      "metadata": {
        "id": "zDTZfsL8LAfw"
      },
      "outputs": [],
      "source": [
        "thisdict = {\n",
        "  \"brand\": \"Ford\",\n",
        "  \"model\": \"Mustang\",\n",
        "  \"year\": 1964\n",
        "}"
      ]
    },
    {
      "cell_type": "code",
      "source": [
        "meus_alunos = {\n",
        "    '2022-2-10': 'Maria Joaquina',\n",
        "    '2022-2-11': 'Francisco Carvalho',\n",
        "    '2022-2-12': 'Antônio da Silva' \n",
        "    }"
      ],
      "metadata": {
        "id": "7ncjpmHqLLif"
      },
      "execution_count": 9,
      "outputs": []
    },
    {
      "cell_type": "code",
      "source": [
        "print(thisdict)"
      ],
      "metadata": {
        "colab": {
          "base_uri": "https://localhost:8080/"
        },
        "id": "apk_f-tALgL3",
        "outputId": "6595147c-4b1f-4906-9c0a-2fb23061fdae"
      },
      "execution_count": 10,
      "outputs": [
        {
          "output_type": "stream",
          "name": "stdout",
          "text": [
            "{'brand': 'Ford', 'model': 'Mustang', 'year': 1964}\n"
          ]
        }
      ]
    },
    {
      "cell_type": "code",
      "source": [
        "print(meus_alunos)"
      ],
      "metadata": {
        "colab": {
          "base_uri": "https://localhost:8080/"
        },
        "id": "q9Zh3_-6raRO",
        "outputId": "0f74b8f4-89d3-4a4a-dcc3-baa1ad277d20"
      },
      "execution_count": 11,
      "outputs": [
        {
          "output_type": "stream",
          "name": "stdout",
          "text": [
            "{'2022-2-10': 'Maria Joaquina', '2022-2-11': 'Francisco Carvalho', '2022-2-12': 'Antônio da Silva'}\n"
          ]
        }
      ]
    },
    {
      "cell_type": "code",
      "source": [
        "thisdict[\"year\"]"
      ],
      "metadata": {
        "colab": {
          "base_uri": "https://localhost:8080/"
        },
        "id": "AaBSsW21ref6",
        "outputId": "4309a489-2b89-40df-8335-8dee20063693"
      },
      "execution_count": 12,
      "outputs": [
        {
          "output_type": "execute_result",
          "data": {
            "text/plain": [
              "1964"
            ]
          },
          "metadata": {},
          "execution_count": 12
        }
      ]
    },
    {
      "cell_type": "code",
      "source": [
        "thisdict[\"model\"]"
      ],
      "metadata": {
        "colab": {
          "base_uri": "https://localhost:8080/",
          "height": 35
        },
        "id": "TXytXmckru97",
        "outputId": "e2bda6cb-d039-4dee-f3fb-f736411147d4"
      },
      "execution_count": 13,
      "outputs": [
        {
          "output_type": "execute_result",
          "data": {
            "text/plain": [
              "'Mustang'"
            ],
            "application/vnd.google.colaboratory.intrinsic+json": {
              "type": "string"
            }
          },
          "metadata": {},
          "execution_count": 13
        }
      ]
    },
    {
      "cell_type": "code",
      "source": [
        "len(meus_alunos)"
      ],
      "metadata": {
        "colab": {
          "base_uri": "https://localhost:8080/"
        },
        "id": "SV7s0h4Gry4c",
        "outputId": "47c7f61c-c612-4615-bdb3-267aa860b8d1"
      },
      "execution_count": 14,
      "outputs": [
        {
          "output_type": "execute_result",
          "data": {
            "text/plain": [
              "3"
            ]
          },
          "metadata": {},
          "execution_count": 14
        }
      ]
    },
    {
      "cell_type": "code",
      "source": [
        "thisdict"
      ],
      "metadata": {
        "colab": {
          "base_uri": "https://localhost:8080/"
        },
        "id": "qc_IFOHOsCo9",
        "outputId": "1e906abd-880b-4221-bd65-dcd2cff102c9"
      },
      "execution_count": 15,
      "outputs": [
        {
          "output_type": "execute_result",
          "data": {
            "text/plain": [
              "{'brand': 'Ford', 'model': 'Mustang', 'year': 1964}"
            ]
          },
          "metadata": {},
          "execution_count": 15
        }
      ]
    },
    {
      "cell_type": "code",
      "source": [
        "for each in thisdict:\n",
        "  print(each)"
      ],
      "metadata": {
        "colab": {
          "base_uri": "https://localhost:8080/"
        },
        "id": "KKXbf70WswrU",
        "outputId": "20174da7-f497-43ba-f4b1-409d8a85d95e"
      },
      "execution_count": 16,
      "outputs": [
        {
          "output_type": "stream",
          "name": "stdout",
          "text": [
            "brand\n",
            "model\n",
            "year\n"
          ]
        }
      ]
    },
    {
      "cell_type": "code",
      "source": [
        "for item in thisdict.items():\n",
        "  print(item)"
      ],
      "metadata": {
        "colab": {
          "base_uri": "https://localhost:8080/"
        },
        "id": "cJSModRbs1LI",
        "outputId": "befa1510-098d-4ddb-a60f-e728ca8b463c"
      },
      "execution_count": 17,
      "outputs": [
        {
          "output_type": "stream",
          "name": "stdout",
          "text": [
            "('brand', 'Ford')\n",
            "('model', 'Mustang')\n",
            "('year', 1964)\n"
          ]
        }
      ]
    },
    {
      "cell_type": "code",
      "source": [
        "for chave, valor in thisdict.items():\n",
        "  print(chave, valor)"
      ],
      "metadata": {
        "colab": {
          "base_uri": "https://localhost:8080/"
        },
        "id": "dq63OcOStJQq",
        "outputId": "d3ccad9c-4f90-4a57-dd5b-d9dd39ac9cde"
      },
      "execution_count": 18,
      "outputs": [
        {
          "output_type": "stream",
          "name": "stdout",
          "text": [
            "brand Ford\n",
            "model Mustang\n",
            "year 1964\n"
          ]
        }
      ]
    },
    {
      "cell_type": "code",
      "source": [
        "contatos = {}"
      ],
      "metadata": {
        "id": "Ziuw3uZ3thBf"
      },
      "execution_count": 19,
      "outputs": []
    },
    {
      "cell_type": "code",
      "source": [
        "contato1 = ('1234567910', 'Mario de Andrade', '86-88345678')\n",
        "contato2 = ('1234567988', 'Carlos da Silva', '86-88887654')"
      ],
      "metadata": {
        "id": "Y5Jny_uHt7IH"
      },
      "execution_count": 20,
      "outputs": []
    },
    {
      "cell_type": "code",
      "source": [
        "contatos[1] = contato1"
      ],
      "metadata": {
        "id": "ZH7GbiBbuSCz"
      },
      "execution_count": 21,
      "outputs": []
    },
    {
      "cell_type": "code",
      "source": [
        "contatos[2] = contato2"
      ],
      "metadata": {
        "id": "gQKoTa9eudc3"
      },
      "execution_count": 22,
      "outputs": []
    },
    {
      "cell_type": "code",
      "source": [
        "print(contatos)"
      ],
      "metadata": {
        "colab": {
          "base_uri": "https://localhost:8080/"
        },
        "id": "GnXOEt22ugOv",
        "outputId": "089f9369-87b9-4d58-c64f-fa5028a9cf8d"
      },
      "execution_count": 23,
      "outputs": [
        {
          "output_type": "stream",
          "name": "stdout",
          "text": [
            "{1: ('1234567910', 'Mario de Andrade', '86-88345678'), 2: ('1234567988', 'Carlos da Silva', '86-88887654')}\n"
          ]
        }
      ]
    },
    {
      "cell_type": "code",
      "source": [
        "for k, v in contatos.items():\n",
        "  print(k, v)"
      ],
      "metadata": {
        "colab": {
          "base_uri": "https://localhost:8080/"
        },
        "id": "GqWTByyCuhoS",
        "outputId": "4851722a-f162-4563-ecc7-2b7b0d5296f0"
      },
      "execution_count": 24,
      "outputs": [
        {
          "output_type": "stream",
          "name": "stdout",
          "text": [
            "1 ('1234567910', 'Mario de Andrade', '86-88345678')\n",
            "2 ('1234567988', 'Carlos da Silva', '86-88887654')\n"
          ]
        }
      ]
    },
    {
      "cell_type": "code",
      "source": [
        "contatos = {}"
      ],
      "metadata": {
        "id": "rojQueC3uwIK"
      },
      "execution_count": 25,
      "outputs": []
    },
    {
      "cell_type": "code",
      "source": [
        "contato1 = ('1234567910', 'Mario de Andrade', ['86-88345678', '86-99887766'])\n",
        "contato2 = ('1234567988', 'Carlos da Silva', ['86-88887654', '85-99886655'])"
      ],
      "metadata": {
        "id": "Xm7sLJnKvcAK"
      },
      "execution_count": 26,
      "outputs": []
    },
    {
      "cell_type": "code",
      "source": [
        "contatos['1'] = contato1\n",
        "contatos['2'] = contato2"
      ],
      "metadata": {
        "id": "HGLT-hVdvqmZ"
      },
      "execution_count": 27,
      "outputs": []
    },
    {
      "cell_type": "code",
      "source": [
        "for k, v in contatos.items():\n",
        "  print(f'Chave: {k}, valor: {v}')"
      ],
      "metadata": {
        "colab": {
          "base_uri": "https://localhost:8080/"
        },
        "id": "pfdubaSZvzdU",
        "outputId": "4fc2c159-f813-4c6d-8df0-ba3064ed47d2"
      },
      "execution_count": 28,
      "outputs": [
        {
          "output_type": "stream",
          "name": "stdout",
          "text": [
            "Chave: 1, valor: ('1234567910', 'Mario de Andrade', ['86-88345678', '86-99887766'])\n",
            "Chave: 2, valor: ('1234567988', 'Carlos da Silva', ['86-88887654', '85-99886655'])\n"
          ]
        }
      ]
    },
    {
      "cell_type": "code",
      "source": [
        "contatos"
      ],
      "metadata": {
        "colab": {
          "base_uri": "https://localhost:8080/"
        },
        "id": "hbKC_58rwJ75",
        "outputId": "77f2e9a9-6533-47fe-8952-8e264a92637a"
      },
      "execution_count": 29,
      "outputs": [
        {
          "output_type": "execute_result",
          "data": {
            "text/plain": [
              "{'1': ('1234567910', 'Mario de Andrade', ['86-88345678', '86-99887766']),\n",
              " '2': ('1234567988', 'Carlos da Silva', ['86-88887654', '85-99886655'])}"
            ]
          },
          "metadata": {},
          "execution_count": 29
        }
      ]
    },
    {
      "cell_type": "code",
      "source": [
        "thisdict"
      ],
      "metadata": {
        "colab": {
          "base_uri": "https://localhost:8080/"
        },
        "id": "11FdkwKLwTUA",
        "outputId": "30155e15-ca0b-4322-c58b-2c85ac068e9d"
      },
      "execution_count": 30,
      "outputs": [
        {
          "output_type": "execute_result",
          "data": {
            "text/plain": [
              "{'brand': 'Ford', 'model': 'Mustang', 'year': 1964}"
            ]
          },
          "metadata": {},
          "execution_count": 30
        }
      ]
    },
    {
      "cell_type": "code",
      "source": [
        "len(thisdict)"
      ],
      "metadata": {
        "colab": {
          "base_uri": "https://localhost:8080/"
        },
        "id": "nAtIWnzuw5hf",
        "outputId": "a24e3371-c9e5-4698-ce26-02516222ce55"
      },
      "execution_count": 31,
      "outputs": [
        {
          "output_type": "execute_result",
          "data": {
            "text/plain": [
              "3"
            ]
          },
          "metadata": {},
          "execution_count": 31
        }
      ]
    },
    {
      "cell_type": "code",
      "source": [
        "for item in thisdict.items():\n",
        "  print(item)"
      ],
      "metadata": {
        "colab": {
          "base_uri": "https://localhost:8080/"
        },
        "id": "ZKFOpDKSw8fz",
        "outputId": "2d84aa7a-632d-474d-806e-3a461b51899e"
      },
      "execution_count": 32,
      "outputs": [
        {
          "output_type": "stream",
          "name": "stdout",
          "text": [
            "('brand', 'Ford')\n",
            "('model', 'Mustang')\n",
            "('year', 1964)\n"
          ]
        }
      ]
    },
    {
      "cell_type": "code",
      "source": [
        "for chaves in thisdict:\n",
        "  print(chaves)"
      ],
      "metadata": {
        "colab": {
          "base_uri": "https://localhost:8080/"
        },
        "id": "2wiDigbWxBPG",
        "outputId": "b9eb2c00-4ef4-4e52-baa8-6b1f0e796b4d"
      },
      "execution_count": 33,
      "outputs": [
        {
          "output_type": "stream",
          "name": "stdout",
          "text": [
            "brand\n",
            "model\n",
            "year\n"
          ]
        }
      ]
    },
    {
      "cell_type": "code",
      "source": [
        "for chave in thisdict.keys():\n",
        "  print(chave)"
      ],
      "metadata": {
        "colab": {
          "base_uri": "https://localhost:8080/"
        },
        "id": "MsYOCE4rxI6U",
        "outputId": "7bbba5a0-8308-49f2-ce48-ed912922181e"
      },
      "execution_count": 34,
      "outputs": [
        {
          "output_type": "stream",
          "name": "stdout",
          "text": [
            "brand\n",
            "model\n",
            "year\n"
          ]
        }
      ]
    },
    {
      "cell_type": "code",
      "source": [
        "for valor in thisdict.values():\n",
        "  print(valor)"
      ],
      "metadata": {
        "colab": {
          "base_uri": "https://localhost:8080/"
        },
        "id": "J3Hp8twWxYkv",
        "outputId": "ec8bde55-14c7-47fa-db1f-489b40c1126f"
      },
      "execution_count": 35,
      "outputs": [
        {
          "output_type": "stream",
          "name": "stdout",
          "text": [
            "Ford\n",
            "Mustang\n",
            "1964\n"
          ]
        }
      ]
    },
    {
      "cell_type": "code",
      "source": [
        "for item in thisdict.items():\n",
        "  print(item)"
      ],
      "metadata": {
        "colab": {
          "base_uri": "https://localhost:8080/"
        },
        "id": "zVlr7UGjxnn_",
        "outputId": "8a62aeff-3872-47d9-a53f-977293759714"
      },
      "execution_count": 37,
      "outputs": [
        {
          "output_type": "stream",
          "name": "stdout",
          "text": [
            "('brand', 'Ford')\n",
            "('model', 'Mustang')\n",
            "('year', 1964)\n"
          ]
        }
      ]
    },
    {
      "cell_type": "code",
      "source": [
        "for k, v in thisdict.items():\n",
        "  print(k, v)"
      ],
      "metadata": {
        "colab": {
          "base_uri": "https://localhost:8080/"
        },
        "id": "qI6753X7ynh2",
        "outputId": "ae38aa99-8364-4a2d-cbd4-c0c97eab16a7"
      },
      "execution_count": 38,
      "outputs": [
        {
          "output_type": "stream",
          "name": "stdout",
          "text": [
            "brand Ford\n",
            "model Mustang\n",
            "year 1964\n"
          ]
        }
      ]
    },
    {
      "cell_type": "code",
      "source": [
        "\"brand\" in thisdict"
      ],
      "metadata": {
        "colab": {
          "base_uri": "https://localhost:8080/"
        },
        "id": "AcCfE_giyziz",
        "outputId": "2957796a-0f2f-4e3a-aca0-72518c954288"
      },
      "execution_count": 39,
      "outputs": [
        {
          "output_type": "execute_result",
          "data": {
            "text/plain": [
              "True"
            ]
          },
          "metadata": {},
          "execution_count": 39
        }
      ]
    },
    {
      "cell_type": "code",
      "source": [
        "\"plate\" in thisdict"
      ],
      "metadata": {
        "colab": {
          "base_uri": "https://localhost:8080/"
        },
        "id": "TujNYrjEzCy6",
        "outputId": "e610a73a-1f1a-47f6-f838-aadbb2871ca9"
      },
      "execution_count": 40,
      "outputs": [
        {
          "output_type": "execute_result",
          "data": {
            "text/plain": [
              "False"
            ]
          },
          "metadata": {},
          "execution_count": 40
        }
      ]
    },
    {
      "cell_type": "code",
      "source": [],
      "metadata": {
        "id": "IDgVvrigzGKT"
      },
      "execution_count": null,
      "outputs": []
    }
  ]
}