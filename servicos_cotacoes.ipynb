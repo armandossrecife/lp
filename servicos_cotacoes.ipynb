{
  "nbformat": 4,
  "nbformat_minor": 0,
  "metadata": {
    "colab": {
      "provenance": [],
      "authorship_tag": "ABX9TyPRWPSJfCFRDhDl1anmLsu8",
      "include_colab_link": true
    },
    "kernelspec": {
      "name": "python3",
      "display_name": "Python 3"
    },
    "language_info": {
      "name": "python"
    }
  },
  "cells": [
    {
      "cell_type": "markdown",
      "metadata": {
        "id": "view-in-github",
        "colab_type": "text"
      },
      "source": [
        "<a href=\"https://colab.research.google.com/github/armandossrecife/lp/blob/main/servicos_cotacoes.ipynb\" target=\"_parent\"><img src=\"https://colab.research.google.com/assets/colab-badge.svg\" alt=\"Open In Colab\"/></a>"
      ]
    },
    {
      "cell_type": "code",
      "execution_count": 3,
      "metadata": {
        "id": "ZJ_MlqX3Xruy"
      },
      "outputs": [],
      "source": [
        "import requests\n",
        "\n",
        "def pegar_cotacoes():\n",
        "    print('consultando...')\n",
        "\n",
        "    # Faz uma requisao para uma API na internet\n",
        "    requisicao = requests.get(\"https://economia.awesomeapi.com.br/last/USD-BRL,EUR-BRL,BTC-BRL\")\n",
        "    requisicao_dic = requisicao.json()\n",
        "\n",
        "    # Guarda as respostas da requisicao\n",
        "    cotacao_dolar = requisicao_dic['USDBRL']['bid']\n",
        "    cotacao_euro = requisicao_dic['EURBRL']['bid']\n",
        "    cotacao_btc = requisicao_dic['BTCBRL']['bid']\n",
        "\n",
        "    # converte para string\n",
        "    dolar =  f'Dólar: {cotacao_dolar}'\n",
        "    euro = f'Euro: {cotacao_euro}'\n",
        "    btc = f'BTC: {cotacao_btc}' \n",
        "\n",
        "    # Monta a resposta\n",
        "    resposta = dolar + '\\n'+ euro + '\\n'+ btc\n",
        "    print(resposta)\n",
        "    return resposta\n",
        "\n",
        "def pegar_taxa_selic():\n",
        "    resposta = ''\n",
        "    print('consultando...')\n",
        "\n",
        "    requisicao = requests.get(\"https://api.bcb.gov.br/dados/serie/bcdata.sgs.11/dados?formato=json\")\n",
        "    resposta_requisicao = requisicao.json()\n",
        "\n",
        "    for each in resposta_requisicao:\n",
        "        if each['data']== '19/12/2022': \n",
        "            data_atual = '19/12/2022'\n",
        "            valor_taxa = each['valor']\n",
        "            resposta = data_atual + ': '+ valor_taxa\n",
        "            print(resposta)\n",
        "            break\n",
        "    return resposta"
      ]
    },
    {
      "cell_type": "code",
      "source": [
        "pegar_cotacoes()"
      ],
      "metadata": {
        "colab": {
          "base_uri": "https://localhost:8080/",
          "height": 105
        },
        "id": "U0fOUuXfm0wz",
        "outputId": "9b94aabc-2d96-4bbe-dc2b-6b5636382db7"
      },
      "execution_count": 4,
      "outputs": [
        {
          "output_type": "stream",
          "name": "stdout",
          "text": [
            "consultando...\n",
            "Dólar: 5.216\n",
            "Euro: 5.5438\n",
            "BTC: 88.969\n"
          ]
        },
        {
          "output_type": "execute_result",
          "data": {
            "text/plain": [
              "'Dólar: 5.216\\nEuro: 5.5438\\nBTC: 88.969'"
            ],
            "application/vnd.google.colaboratory.intrinsic+json": {
              "type": "string"
            }
          },
          "metadata": {},
          "execution_count": 4
        }
      ]
    },
    {
      "cell_type": "code",
      "source": [
        "pegar_taxa_selic()"
      ],
      "metadata": {
        "colab": {
          "base_uri": "https://localhost:8080/",
          "height": 70
        },
        "id": "JdUhMuQwDsac",
        "outputId": "399d70cd-5098-4813-c249-0239d800b609"
      },
      "execution_count": 5,
      "outputs": [
        {
          "output_type": "stream",
          "name": "stdout",
          "text": [
            "consultando...\n",
            "19/12/2022: 0.050788\n"
          ]
        },
        {
          "output_type": "execute_result",
          "data": {
            "text/plain": [
              "'19/12/2022: 0.050788'"
            ],
            "application/vnd.google.colaboratory.intrinsic+json": {
              "type": "string"
            }
          },
          "metadata": {},
          "execution_count": 5
        }
      ]
    },
    {
      "cell_type": "code",
      "source": [],
      "metadata": {
        "id": "DBzAlpQ0Dyvb"
      },
      "execution_count": null,
      "outputs": []
    }
  ]
}