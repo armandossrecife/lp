{
  "nbformat": 4,
  "nbformat_minor": 0,
  "metadata": {
    "colab": {
      "provenance": [],
      "authorship_tag": "ABX9TyPgix7siayojTI3ArA+Ku6T",
      "include_colab_link": true
    },
    "kernelspec": {
      "name": "python3",
      "display_name": "Python 3"
    },
    "language_info": {
      "name": "python"
    }
  },
  "cells": [
    {
      "cell_type": "markdown",
      "metadata": {
        "id": "view-in-github",
        "colab_type": "text"
      },
      "source": [
        "<a href=\"https://colab.research.google.com/github/armandossrecife/lp/blob/main/Pratica_4b_My_Contacts.ipynb\" target=\"_parent\"><img src=\"https://colab.research.google.com/assets/colab-badge.svg\" alt=\"Open In Colab\"/></a>"
      ]
    },
    {
      "cell_type": "markdown",
      "source": [
        "# Prática 4 - Mini Agenda de Contatos"
      ],
      "metadata": {
        "id": "NiK8_naZ4Ynt"
      }
    },
    {
      "cell_type": "markdown",
      "source": [
        "## 1. Crie uma tupla para representar um contato da agenda.\n",
        "\n",
        "\n",
        "dados_contato = (nome, email, lista_telefones)"
      ],
      "metadata": {
        "id": "bOQSvmHx3cDm"
      }
    },
    {
      "cell_type": "code",
      "source": [],
      "metadata": {
        "id": "nZY8Zlsm-k7m"
      },
      "execution_count": null,
      "outputs": []
    },
    {
      "cell_type": "markdown",
      "source": [
        "## 2. Crie um dicionário vazio para representar a agenda de contatos.\n",
        "\n",
        "\n",
        "agenda = {}"
      ],
      "metadata": {
        "id": "UiVwYfKJ3fqX"
      }
    },
    {
      "cell_type": "code",
      "source": [],
      "metadata": {
        "id": "5eRjMvJl-lgu"
      },
      "execution_count": null,
      "outputs": []
    },
    {
      "cell_type": "markdown",
      "source": [
        "## 3. Crie uma função para gerar automaticamente identificadores inteiros para cada novo contato inserido na agenda.\n",
        "\n",
        "\n",
        "Exemplo: crie uma função que dada uma lista vazia insira uma sequência de números inteiros e retorne o último número inserido\n",
        "\n",
        "\n",
        "lista_ids = []\n",
        "\n",
        "lista_ids.append(1)\n",
        "\n",
        "lista_ids.append(2)\n",
        "\n",
        "...\n",
        "\n",
        "lista_ids.append(N)\n",
        "\n",
        "\n",
        "sugestão: \n",
        "\n",
        "\n",
        "def gerar_id_contato(lista_ids)\n",
        "\n",
        "\n",
        "  return id_contato"
      ],
      "metadata": {
        "id": "fWX9EEpQ3nQn"
      }
    },
    {
      "cell_type": "code",
      "source": [],
      "metadata": {
        "id": "T0nW_iDI-mjW"
      },
      "execution_count": null,
      "outputs": []
    },
    {
      "cell_type": "markdown",
      "source": [
        "## 4. Crie uma função para ler os dados de um contato.\n",
        "\n",
        "\n",
        "sugestão: \n",
        "\n",
        "Use o input(...) para ler o valor de cada variável\n",
        "\n",
        "def ler_dados_contato():\n",
        "\n",
        "\n",
        "return dados_contato\n"
      ],
      "metadata": {
        "id": "CmPHU28c3-s5"
      }
    },
    {
      "cell_type": "code",
      "source": [],
      "metadata": {
        "id": "i7GVUtB1-nf3"
      },
      "execution_count": null,
      "outputs": []
    },
    {
      "cell_type": "markdown",
      "source": [
        "## 5. Crie uma função que insira os dados de um novo contato na agenda de contatos.\n",
        "\n",
        "sugestão: \n",
        "\n",
        "Obs: o id_contato é a chave do dionário agenda para acessar cada contato\n",
        "\n",
        "def inserir_contato(dados_contato):\n"
      ],
      "metadata": {
        "id": "P657JQDo4J5r"
      }
    },
    {
      "cell_type": "code",
      "source": [],
      "metadata": {
        "id": "FrqsWRxh-oSW"
      },
      "execution_count": null,
      "outputs": []
    },
    {
      "cell_type": "markdown",
      "source": [
        "## 6. Crie uma função que mostre o menu de opções da agenda.\n",
        "\n",
        "\"Opções da Agenda:\"\n",
        "\n",
        "\"1 - Inserir contato\"\n",
        "\n",
        "\"2 - Listar contato\"\n",
        "\n",
        "\"3 - Sair\""
      ],
      "metadata": {
        "id": "F11bP9GH4OyN"
      }
    },
    {
      "cell_type": "code",
      "source": [],
      "metadata": {
        "id": "j-v3RZT7-pCv"
      },
      "execution_count": null,
      "outputs": []
    },
    {
      "cell_type": "markdown",
      "source": [
        "## 7. Integre todas as funções anteriores de forma que o usuário possa inserir novos contatos e listar novos contatos até desejar sair do programa.\n",
        "\n",
        "sugestão: \n",
        "\n",
        "Faça um loop para chamar as opções e respectivas funções da agenda"
      ],
      "metadata": {
        "id": "Iq8Cw6_P4VCU"
      }
    },
    {
      "cell_type": "code",
      "source": [],
      "metadata": {
        "id": "EI9t4O0s-p2p"
      },
      "execution_count": null,
      "outputs": []
    },
    {
      "cell_type": "markdown",
      "source": [
        "## 8. Crie o programa completo no seu perfil do replit (https://replit.com/)"
      ],
      "metadata": {
        "id": "SWgB9Ukf-Yvt"
      }
    }
  ]
}