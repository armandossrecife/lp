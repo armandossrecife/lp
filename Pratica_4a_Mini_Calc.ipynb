{
  "nbformat": 4,
  "nbformat_minor": 0,
  "metadata": {
    "colab": {
      "provenance": [],
      "authorship_tag": "ABX9TyOx02OA64S62u3b1FLOON54",
      "include_colab_link": true
    },
    "kernelspec": {
      "name": "python3",
      "display_name": "Python 3"
    },
    "language_info": {
      "name": "python"
    }
  },
  "cells": [
    {
      "cell_type": "markdown",
      "metadata": {
        "id": "view-in-github",
        "colab_type": "text"
      },
      "source": [
        "<a href=\"https://colab.research.google.com/github/armandossrecife/lp/blob/main/Pratica_4a_Mini_Calc.ipynb\" target=\"_parent\"><img src=\"https://colab.research.google.com/assets/colab-badge.svg\" alt=\"Open In Colab\"/></a>"
      ]
    },
    {
      "cell_type": "markdown",
      "source": [
        "# Prática 4a - Mini Calculadora"
      ],
      "metadata": {
        "id": "NiK8_naZ4Ynt"
      }
    },
    {
      "cell_type": "markdown",
      "source": [
        "## 1. Crie uma função para cada operação matemática\n",
        "\n",
        "função soma : soma de dois números reais\n",
        "\n",
        "função subtrai : subtração de dois números reais \n",
        "\n",
        "função multiplica : multiplicação de dois números reais \n",
        "\n",
        "função divide : divisão de dois números reais"
      ],
      "metadata": {
        "id": "bOQSvmHx3cDm"
      }
    },
    {
      "cell_type": "code",
      "source": [],
      "metadata": {
        "id": "nZY8Zlsm-k7m"
      },
      "execution_count": null,
      "outputs": []
    },
    {
      "cell_type": "markdown",
      "source": [
        "## 2. Solicite dois valores reais para o usuário\n"
      ],
      "metadata": {
        "id": "UiVwYfKJ3fqX"
      }
    },
    {
      "cell_type": "code",
      "source": [],
      "metadata": {
        "id": "5eRjMvJl-lgu"
      },
      "execution_count": null,
      "outputs": []
    },
    {
      "cell_type": "markdown",
      "source": [
        "## 3. Crie uma função que dado dois valores reais, chame e execute as 4 funções matemáticas criadas anteriormente.\n",
        "\n",
        "Execute as 4 operações básicas e exiba os valores dos resultados \n",
        "\n",
        "Obs: Faça as devidas formatações para a exibição dos resultados.\n",
        "\n",
        "\n"
      ],
      "metadata": {
        "id": "fWX9EEpQ3nQn"
      }
    },
    {
      "cell_type": "code",
      "source": [],
      "metadata": {
        "id": "T0nW_iDI-mjW"
      },
      "execution_count": null,
      "outputs": []
    },
    {
      "cell_type": "markdown",
      "source": [
        "## 4. Crie o programa completo no seu perfil do replit (https://replit.com/)"
      ],
      "metadata": {
        "id": "SWgB9Ukf-Yvt"
      }
    }
  ]
}