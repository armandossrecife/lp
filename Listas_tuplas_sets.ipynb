{
  "nbformat": 4,
  "nbformat_minor": 0,
  "metadata": {
    "colab": {
      "provenance": [],
      "authorship_tag": "ABX9TyNnlQJbF3pIhACmExOGWUpG",
      "include_colab_link": true
    },
    "kernelspec": {
      "name": "python3",
      "display_name": "Python 3"
    },
    "language_info": {
      "name": "python"
    }
  },
  "cells": [
    {
      "cell_type": "markdown",
      "metadata": {
        "id": "view-in-github",
        "colab_type": "text"
      },
      "source": [
        "<a href=\"https://colab.research.google.com/github/armandossrecife/lp/blob/main/Listas_tuplas_sets.ipynb\" target=\"_parent\"><img src=\"https://colab.research.google.com/assets/colab-badge.svg\" alt=\"Open In Colab\"/></a>"
      ]
    },
    {
      "cell_type": "code",
      "source": [
        "lista_nomes = ['Maria', 'João', 'Francisco']"
      ],
      "metadata": {
        "id": "8qoiSVn8jMsJ"
      },
      "execution_count": 92,
      "outputs": []
    },
    {
      "cell_type": "code",
      "source": [
        "print(lista_nomes)"
      ],
      "metadata": {
        "colab": {
          "base_uri": "https://localhost:8080/"
        },
        "id": "UqZwMLrAjqyM",
        "outputId": "ba0bc132-eb5e-4fa2-b478-e0956aa0ac8b"
      },
      "execution_count": 93,
      "outputs": [
        {
          "output_type": "stream",
          "name": "stdout",
          "text": [
            "['Maria', 'João', 'Francisco']\n"
          ]
        }
      ]
    },
    {
      "cell_type": "code",
      "source": [
        "lista_nomes[0]"
      ],
      "metadata": {
        "colab": {
          "base_uri": "https://localhost:8080/",
          "height": 35
        },
        "id": "8KJwN2uGjy7V",
        "outputId": "3d8c5dc7-50d0-4a57-bf5e-88b35b343977"
      },
      "execution_count": 94,
      "outputs": [
        {
          "output_type": "execute_result",
          "data": {
            "text/plain": [
              "'Maria'"
            ],
            "application/vnd.google.colaboratory.intrinsic+json": {
              "type": "string"
            }
          },
          "metadata": {},
          "execution_count": 94
        }
      ]
    },
    {
      "cell_type": "code",
      "source": [
        "lista_nomes[1]"
      ],
      "metadata": {
        "colab": {
          "base_uri": "https://localhost:8080/",
          "height": 35
        },
        "id": "1B2PzQrtkuLv",
        "outputId": "3faf3564-18ad-4827-bf53-7c9f70d24edf"
      },
      "execution_count": 95,
      "outputs": [
        {
          "output_type": "execute_result",
          "data": {
            "text/plain": [
              "'João'"
            ],
            "application/vnd.google.colaboratory.intrinsic+json": {
              "type": "string"
            }
          },
          "metadata": {},
          "execution_count": 95
        }
      ]
    },
    {
      "cell_type": "code",
      "source": [
        "lista_nomes[2]"
      ],
      "metadata": {
        "colab": {
          "base_uri": "https://localhost:8080/",
          "height": 35
        },
        "id": "oF-b6zZDkv3m",
        "outputId": "ec86fcae-cb38-4546-d4cd-5c58192c9e58"
      },
      "execution_count": 96,
      "outputs": [
        {
          "output_type": "execute_result",
          "data": {
            "text/plain": [
              "'Francisco'"
            ],
            "application/vnd.google.colaboratory.intrinsic+json": {
              "type": "string"
            }
          },
          "metadata": {},
          "execution_count": 96
        }
      ]
    },
    {
      "cell_type": "code",
      "source": [
        "lista_idades = [17, 20, 30, 40]\n",
        "lista_idades[0]"
      ],
      "metadata": {
        "colab": {
          "base_uri": "https://localhost:8080/"
        },
        "id": "BOEVoaOhk6GH",
        "outputId": "7b538136-95a8-4d7f-ff7e-b2ca3b635118"
      },
      "execution_count": 98,
      "outputs": [
        {
          "output_type": "execute_result",
          "data": {
            "text/plain": [
              "17"
            ]
          },
          "metadata": {},
          "execution_count": 98
        }
      ]
    },
    {
      "cell_type": "code",
      "source": [
        "lista_nomes.append('Armando')"
      ],
      "metadata": {
        "id": "79DTne-6lNBk"
      },
      "execution_count": 99,
      "outputs": []
    },
    {
      "cell_type": "code",
      "source": [
        "lista_nomes"
      ],
      "metadata": {
        "colab": {
          "base_uri": "https://localhost:8080/"
        },
        "id": "cSCBEn5TlSQM",
        "outputId": "adda46af-eaaa-4396-a479-8beadd9c4bd7"
      },
      "execution_count": 100,
      "outputs": [
        {
          "output_type": "execute_result",
          "data": {
            "text/plain": [
              "['Maria', 'João', 'Francisco', 'Armando']"
            ]
          },
          "metadata": {},
          "execution_count": 100
        }
      ]
    },
    {
      "cell_type": "code",
      "source": [
        "len(lista_nomes)"
      ],
      "metadata": {
        "colab": {
          "base_uri": "https://localhost:8080/"
        },
        "id": "j9yPKmJ-lXnT",
        "outputId": "c57361e1-ec88-4ed6-d936-087dc90346b4"
      },
      "execution_count": 101,
      "outputs": [
        {
          "output_type": "execute_result",
          "data": {
            "text/plain": [
              "4"
            ]
          },
          "metadata": {},
          "execution_count": 101
        }
      ]
    },
    {
      "cell_type": "code",
      "source": [
        "lista_de_nomes_icc = ['ANTONIO CARLOS DE FREITAS DANTAS', 'CLERISTON DE CASTRO RAMOS', 'DANILO DE OLIVEIRA SILVA', 'DEIVID DE QUEIROZ BRANDAO', 'EDMUNDO SOARES DE CARVALHO JUNIOR', 'EUCARIO MAGALHAES PEREIRA JUNIOR', 'FABRICIO ARAUJO DOS SANTOS NASCIMENTO', 'GABRIELLY JHASMIN VIEIRA DA SILVA', 'GABRIELLY LAIZ LOPES DA COSTA SILVA', 'JHON WIGLLAFFY PORTELA VIEIRA', 'JOAO HUMBERTO BARBOSA DA MOTA FILHO', 'JOAO PAULO ELPIDIO RODRIGUES DO NASCIMENTO', 'KAIQUE SAMUEL ALENCAR TORRES DANTAS', 'LUCAS COSTA RODRIGUES', 'MARCOS ROBERTO LIMA DE OLIVEIRA', 'MARIANA RIBEIRO ZACARIAS DE SOUSA', 'PALOMA CRISTINA SOUSA COSTA', 'SAULO GUERRA AGUIAR BARRETO', 'SAULO LEMOS DE OLIVEIRA', 'VALDENICE LIMA DA SILVA']"
      ],
      "metadata": {
        "id": "ayrA7yqJmKKB"
      },
      "execution_count": 102,
      "outputs": []
    },
    {
      "cell_type": "code",
      "source": [
        "print(lista_de_nomes_icc)"
      ],
      "metadata": {
        "colab": {
          "base_uri": "https://localhost:8080/"
        },
        "id": "UckJas7zmNcs",
        "outputId": "c614cc4b-7b63-44d4-a5c4-c2dd2d6c05f1"
      },
      "execution_count": 103,
      "outputs": [
        {
          "output_type": "stream",
          "name": "stdout",
          "text": [
            "['ANTONIO CARLOS DE FREITAS DANTAS', 'CLERISTON DE CASTRO RAMOS', 'DANILO DE OLIVEIRA SILVA', 'DEIVID DE QUEIROZ BRANDAO', 'EDMUNDO SOARES DE CARVALHO JUNIOR', 'EUCARIO MAGALHAES PEREIRA JUNIOR', 'FABRICIO ARAUJO DOS SANTOS NASCIMENTO', 'GABRIELLY JHASMIN VIEIRA DA SILVA', 'GABRIELLY LAIZ LOPES DA COSTA SILVA', 'JHON WIGLLAFFY PORTELA VIEIRA', 'JOAO HUMBERTO BARBOSA DA MOTA FILHO', 'JOAO PAULO ELPIDIO RODRIGUES DO NASCIMENTO', 'KAIQUE SAMUEL ALENCAR TORRES DANTAS', 'LUCAS COSTA RODRIGUES', 'MARCOS ROBERTO LIMA DE OLIVEIRA', 'MARIANA RIBEIRO ZACARIAS DE SOUSA', 'PALOMA CRISTINA SOUSA COSTA', 'SAULO GUERRA AGUIAR BARRETO', 'SAULO LEMOS DE OLIVEIRA', 'VALDENICE LIMA DA SILVA']\n"
          ]
        }
      ]
    },
    {
      "cell_type": "code",
      "source": [
        "len(lista_de_nomes_icc)"
      ],
      "metadata": {
        "colab": {
          "base_uri": "https://localhost:8080/"
        },
        "id": "lH829XCbmRRy",
        "outputId": "2359ef16-6a02-40b5-de19-ffaaa5f07b37"
      },
      "execution_count": 104,
      "outputs": [
        {
          "output_type": "execute_result",
          "data": {
            "text/plain": [
              "20"
            ]
          },
          "metadata": {},
          "execution_count": 104
        }
      ]
    },
    {
      "cell_type": "code",
      "source": [
        "lista_vazia = list()"
      ],
      "metadata": {
        "id": "BFHHjaU3msw-"
      },
      "execution_count": 105,
      "outputs": []
    },
    {
      "cell_type": "code",
      "source": [
        "print(lista_vazia)"
      ],
      "metadata": {
        "colab": {
          "base_uri": "https://localhost:8080/"
        },
        "id": "Br7VyErImwjB",
        "outputId": "dc42a3f6-8d1b-4677-d542-d87bbcdc8914"
      },
      "execution_count": 106,
      "outputs": [
        {
          "output_type": "stream",
          "name": "stdout",
          "text": [
            "[]\n"
          ]
        }
      ]
    },
    {
      "cell_type": "code",
      "source": [
        "len(lista_vazia)"
      ],
      "metadata": {
        "colab": {
          "base_uri": "https://localhost:8080/"
        },
        "id": "n6j6gEAWm0Pu",
        "outputId": "1e2108cc-1e59-4a4c-d9b6-7045876c042a"
      },
      "execution_count": 107,
      "outputs": [
        {
          "output_type": "execute_result",
          "data": {
            "text/plain": [
              "0"
            ]
          },
          "metadata": {},
          "execution_count": 107
        }
      ]
    },
    {
      "cell_type": "code",
      "source": [
        "lista_temperatura = [30.5, 40.5, 45, 50, 25.3]\n",
        "lista_temperatura"
      ],
      "metadata": {
        "colab": {
          "base_uri": "https://localhost:8080/"
        },
        "id": "GIkCLVcHm9Ev",
        "outputId": "a32bdc1f-db45-448e-cf72-dda7531b339d"
      },
      "execution_count": 108,
      "outputs": [
        {
          "output_type": "execute_result",
          "data": {
            "text/plain": [
              "[30.5, 40.5, 45, 50, 25.3]"
            ]
          },
          "metadata": {},
          "execution_count": 108
        }
      ]
    },
    {
      "cell_type": "code",
      "source": [
        "lista_varios_tipos = ['ICC','Maria Joaquina', 10, 8, 9]\n",
        "\n",
        "disciplina = lista_varios_tipos[0]\n",
        "nome = lista_varios_tipos[1]\n",
        "nota1 = lista_varios_tipos[2]\n",
        "nota2 = lista_varios_tipos[3]\n",
        "nota3 = lista_varios_tipos[4]\n"
      ],
      "metadata": {
        "id": "Y7O6QHlYnT2i"
      },
      "execution_count": 109,
      "outputs": []
    },
    {
      "cell_type": "code",
      "source": [
        "print(f\"Informacoes do aluno: {disciplina}, {nome}, {nota1}, {nota2}, {nota3}\")"
      ],
      "metadata": {
        "colab": {
          "base_uri": "https://localhost:8080/"
        },
        "id": "Gi5-sAY7nx2G",
        "outputId": "f57990ed-6d97-43cc-8486-1408d35aa39a"
      },
      "execution_count": 110,
      "outputs": [
        {
          "output_type": "stream",
          "name": "stdout",
          "text": [
            "Informacoes do aluno: ICC, Maria Joaquina, 10, 8, 9\n"
          ]
        }
      ]
    },
    {
      "cell_type": "code",
      "source": [
        "lista_de_nomes_icc"
      ],
      "metadata": {
        "colab": {
          "base_uri": "https://localhost:8080/"
        },
        "id": "STFsDYMtoLJN",
        "outputId": "3d23f146-8295-4596-fbf3-c5cf7f56b2e7"
      },
      "execution_count": 111,
      "outputs": [
        {
          "output_type": "execute_result",
          "data": {
            "text/plain": [
              "['ANTONIO CARLOS DE FREITAS DANTAS',\n",
              " 'CLERISTON DE CASTRO RAMOS',\n",
              " 'DANILO DE OLIVEIRA SILVA',\n",
              " 'DEIVID DE QUEIROZ BRANDAO',\n",
              " 'EDMUNDO SOARES DE CARVALHO JUNIOR',\n",
              " 'EUCARIO MAGALHAES PEREIRA JUNIOR',\n",
              " 'FABRICIO ARAUJO DOS SANTOS NASCIMENTO',\n",
              " 'GABRIELLY JHASMIN VIEIRA DA SILVA',\n",
              " 'GABRIELLY LAIZ LOPES DA COSTA SILVA',\n",
              " 'JHON WIGLLAFFY PORTELA VIEIRA',\n",
              " 'JOAO HUMBERTO BARBOSA DA MOTA FILHO',\n",
              " 'JOAO PAULO ELPIDIO RODRIGUES DO NASCIMENTO',\n",
              " 'KAIQUE SAMUEL ALENCAR TORRES DANTAS',\n",
              " 'LUCAS COSTA RODRIGUES',\n",
              " 'MARCOS ROBERTO LIMA DE OLIVEIRA',\n",
              " 'MARIANA RIBEIRO ZACARIAS DE SOUSA',\n",
              " 'PALOMA CRISTINA SOUSA COSTA',\n",
              " 'SAULO GUERRA AGUIAR BARRETO',\n",
              " 'SAULO LEMOS DE OLIVEIRA',\n",
              " 'VALDENICE LIMA DA SILVA']"
            ]
          },
          "metadata": {},
          "execution_count": 111
        }
      ]
    },
    {
      "cell_type": "code",
      "source": [
        "lista_de_nomes_icc[-1]"
      ],
      "metadata": {
        "colab": {
          "base_uri": "https://localhost:8080/",
          "height": 35
        },
        "id": "zJIfk60HoRg-",
        "outputId": "0f111dbe-4421-4b04-c631-d6bbe0bd956b"
      },
      "execution_count": 112,
      "outputs": [
        {
          "output_type": "execute_result",
          "data": {
            "text/plain": [
              "'VALDENICE LIMA DA SILVA'"
            ],
            "application/vnd.google.colaboratory.intrinsic+json": {
              "type": "string"
            }
          },
          "metadata": {},
          "execution_count": 112
        }
      ]
    },
    {
      "cell_type": "code",
      "source": [
        "len(lista_de_nomes_icc)"
      ],
      "metadata": {
        "colab": {
          "base_uri": "https://localhost:8080/"
        },
        "id": "3U-OAV7VocF3",
        "outputId": "496dd04a-9996-4fe9-8990-39f79bec5686"
      },
      "execution_count": 114,
      "outputs": [
        {
          "output_type": "execute_result",
          "data": {
            "text/plain": [
              "20"
            ]
          },
          "metadata": {},
          "execution_count": 114
        }
      ]
    },
    {
      "cell_type": "code",
      "source": [
        "lista_de_nomes_icc[len(lista_de_nomes_icc)-1]"
      ],
      "metadata": {
        "colab": {
          "base_uri": "https://localhost:8080/",
          "height": 35
        },
        "id": "KsAV6IR_owdC",
        "outputId": "125ae50f-b091-46a3-a990-9bb3794af087"
      },
      "execution_count": 116,
      "outputs": [
        {
          "output_type": "execute_result",
          "data": {
            "text/plain": [
              "'VALDENICE LIMA DA SILVA'"
            ],
            "application/vnd.google.colaboratory.intrinsic+json": {
              "type": "string"
            }
          },
          "metadata": {},
          "execution_count": 116
        }
      ]
    },
    {
      "cell_type": "code",
      "source": [
        "lista_de_nomes_icc[-3]"
      ],
      "metadata": {
        "colab": {
          "base_uri": "https://localhost:8080/",
          "height": 35
        },
        "id": "-T7xqQgnpICf",
        "outputId": "efe715ca-3fd7-418c-bd39-d5d06fe887c4"
      },
      "execution_count": 118,
      "outputs": [
        {
          "output_type": "execute_result",
          "data": {
            "text/plain": [
              "'SAULO GUERRA AGUIAR BARRETO'"
            ],
            "application/vnd.google.colaboratory.intrinsic+json": {
              "type": "string"
            }
          },
          "metadata": {},
          "execution_count": 118
        }
      ]
    },
    {
      "cell_type": "code",
      "source": [
        "print(lista_de_nomes_icc)"
      ],
      "metadata": {
        "colab": {
          "base_uri": "https://localhost:8080/"
        },
        "id": "K8pVq_D8p8Ez",
        "outputId": "b2935110-1f5c-4d7a-cb35-584c21360f1d"
      },
      "execution_count": 119,
      "outputs": [
        {
          "output_type": "stream",
          "name": "stdout",
          "text": [
            "['ANTONIO CARLOS DE FREITAS DANTAS', 'CLERISTON DE CASTRO RAMOS', 'DANILO DE OLIVEIRA SILVA', 'DEIVID DE QUEIROZ BRANDAO', 'EDMUNDO SOARES DE CARVALHO JUNIOR', 'EUCARIO MAGALHAES PEREIRA JUNIOR', 'FABRICIO ARAUJO DOS SANTOS NASCIMENTO', 'GABRIELLY JHASMIN VIEIRA DA SILVA', 'GABRIELLY LAIZ LOPES DA COSTA SILVA', 'JHON WIGLLAFFY PORTELA VIEIRA', 'JOAO HUMBERTO BARBOSA DA MOTA FILHO', 'JOAO PAULO ELPIDIO RODRIGUES DO NASCIMENTO', 'KAIQUE SAMUEL ALENCAR TORRES DANTAS', 'LUCAS COSTA RODRIGUES', 'MARCOS ROBERTO LIMA DE OLIVEIRA', 'MARIANA RIBEIRO ZACARIAS DE SOUSA', 'PALOMA CRISTINA SOUSA COSTA', 'SAULO GUERRA AGUIAR BARRETO', 'SAULO LEMOS DE OLIVEIRA', 'VALDENICE LIMA DA SILVA']\n"
          ]
        }
      ]
    },
    {
      "cell_type": "code",
      "source": [
        "'DANILO' in lista_de_nomes_icc"
      ],
      "metadata": {
        "colab": {
          "base_uri": "https://localhost:8080/"
        },
        "id": "bVRduv3rqhfo",
        "outputId": "ab9b2bb1-facb-4427-fe6a-43a54ddbc845"
      },
      "execution_count": 120,
      "outputs": [
        {
          "output_type": "execute_result",
          "data": {
            "text/plain": [
              "False"
            ]
          },
          "metadata": {},
          "execution_count": 120
        }
      ]
    },
    {
      "cell_type": "code",
      "source": [
        "'DANILO DE OLIVEIRA SILVA' in lista_de_nomes_icc"
      ],
      "metadata": {
        "colab": {
          "base_uri": "https://localhost:8080/"
        },
        "id": "6FvudWY_qqdi",
        "outputId": "474cfa10-401a-417b-93d6-4a2075378da3"
      },
      "execution_count": 122,
      "outputs": [
        {
          "output_type": "execute_result",
          "data": {
            "text/plain": [
              "True"
            ]
          },
          "metadata": {},
          "execution_count": 122
        }
      ]
    },
    {
      "cell_type": "code",
      "source": [
        "'ARMANDO SOARES SOUSA' in lista_de_nomes_icc"
      ],
      "metadata": {
        "colab": {
          "base_uri": "https://localhost:8080/"
        },
        "id": "YFBlT44nq7QL",
        "outputId": "93984acf-738b-447d-91cc-d0dbfe0798a5"
      },
      "execution_count": 123,
      "outputs": [
        {
          "output_type": "execute_result",
          "data": {
            "text/plain": [
              "False"
            ]
          },
          "metadata": {},
          "execution_count": 123
        }
      ]
    },
    {
      "cell_type": "code",
      "source": [
        "'ARMANDO SOARES SOUSA' not in lista_de_nomes_icc"
      ],
      "metadata": {
        "colab": {
          "base_uri": "https://localhost:8080/"
        },
        "id": "nnNqzMj7rBpU",
        "outputId": "63fa90f5-a76d-45d1-fbcf-da9137a0c876"
      },
      "execution_count": 124,
      "outputs": [
        {
          "output_type": "execute_result",
          "data": {
            "text/plain": [
              "True"
            ]
          },
          "metadata": {},
          "execution_count": 124
        }
      ]
    },
    {
      "cell_type": "code",
      "source": [],
      "metadata": {
        "id": "qqjtPHfZrwuw"
      },
      "execution_count": null,
      "outputs": []
    },
    {
      "cell_type": "code",
      "source": [
        "nome_do_aluno = 'ARMANDO SOARES SOUSA'\n",
        "\n",
        "if nome_do_aluno in lista_de_nomes_icc:\n",
        "  print(f\"O aluno {nome_do_aluno} está matriculado em ICC!\")\n",
        "else:\n",
        "  print(f\"O aluno {nome_do_aluno} não está matriculado em ICC!\")"
      ],
      "metadata": {
        "colab": {
          "base_uri": "https://localhost:8080/"
        },
        "id": "07MkWMifrKDF",
        "outputId": "0a8dcfe6-20d7-4fbc-e975-c62d581210d2"
      },
      "execution_count": 126,
      "outputs": [
        {
          "output_type": "stream",
          "name": "stdout",
          "text": [
            "O aluno ARMANDO SOARES SOUSA não está matriculado em ICC!\n"
          ]
        }
      ]
    },
    {
      "cell_type": "code",
      "source": [
        "lista_de_nomes_icc.append('MARIA JOAQUINA DE AMARAL PEREIRA GOES')"
      ],
      "metadata": {
        "id": "C8ZHjBELrxzm"
      },
      "execution_count": 127,
      "outputs": []
    },
    {
      "cell_type": "code",
      "source": [
        "lista_de_nomes_icc"
      ],
      "metadata": {
        "colab": {
          "base_uri": "https://localhost:8080/"
        },
        "id": "M5aPr2Mrr5Fv",
        "outputId": "c894e57d-6e8a-4d9d-ff9f-e89a39d79ef1"
      },
      "execution_count": 128,
      "outputs": [
        {
          "output_type": "execute_result",
          "data": {
            "text/plain": [
              "['ANTONIO CARLOS DE FREITAS DANTAS',\n",
              " 'CLERISTON DE CASTRO RAMOS',\n",
              " 'DANILO DE OLIVEIRA SILVA',\n",
              " 'DEIVID DE QUEIROZ BRANDAO',\n",
              " 'EDMUNDO SOARES DE CARVALHO JUNIOR',\n",
              " 'EUCARIO MAGALHAES PEREIRA JUNIOR',\n",
              " 'FABRICIO ARAUJO DOS SANTOS NASCIMENTO',\n",
              " 'GABRIELLY JHASMIN VIEIRA DA SILVA',\n",
              " 'GABRIELLY LAIZ LOPES DA COSTA SILVA',\n",
              " 'JHON WIGLLAFFY PORTELA VIEIRA',\n",
              " 'JOAO HUMBERTO BARBOSA DA MOTA FILHO',\n",
              " 'JOAO PAULO ELPIDIO RODRIGUES DO NASCIMENTO',\n",
              " 'KAIQUE SAMUEL ALENCAR TORRES DANTAS',\n",
              " 'LUCAS COSTA RODRIGUES',\n",
              " 'MARCOS ROBERTO LIMA DE OLIVEIRA',\n",
              " 'MARIANA RIBEIRO ZACARIAS DE SOUSA',\n",
              " 'PALOMA CRISTINA SOUSA COSTA',\n",
              " 'SAULO GUERRA AGUIAR BARRETO',\n",
              " 'SAULO LEMOS DE OLIVEIRA',\n",
              " 'VALDENICE LIMA DA SILVA',\n",
              " 'MARIA JOAQUINA DE AMARAL PEREIRA GOES']"
            ]
          },
          "metadata": {},
          "execution_count": 128
        }
      ]
    },
    {
      "cell_type": "code",
      "source": [
        "lista_de_nomes_icc.insert(0, 'JOSÉ DA SILVA SOARES')"
      ],
      "metadata": {
        "id": "3xV4ka_WsFay"
      },
      "execution_count": 129,
      "outputs": []
    },
    {
      "cell_type": "code",
      "source": [
        "lista_de_nomes_icc"
      ],
      "metadata": {
        "colab": {
          "base_uri": "https://localhost:8080/"
        },
        "id": "V4dXcDuzsWfV",
        "outputId": "1fdcc7f9-0849-4283-e945-af6a826713eb"
      },
      "execution_count": 130,
      "outputs": [
        {
          "output_type": "execute_result",
          "data": {
            "text/plain": [
              "['JOSÉ DA SILVA SOARES',\n",
              " 'ANTONIO CARLOS DE FREITAS DANTAS',\n",
              " 'CLERISTON DE CASTRO RAMOS',\n",
              " 'DANILO DE OLIVEIRA SILVA',\n",
              " 'DEIVID DE QUEIROZ BRANDAO',\n",
              " 'EDMUNDO SOARES DE CARVALHO JUNIOR',\n",
              " 'EUCARIO MAGALHAES PEREIRA JUNIOR',\n",
              " 'FABRICIO ARAUJO DOS SANTOS NASCIMENTO',\n",
              " 'GABRIELLY JHASMIN VIEIRA DA SILVA',\n",
              " 'GABRIELLY LAIZ LOPES DA COSTA SILVA',\n",
              " 'JHON WIGLLAFFY PORTELA VIEIRA',\n",
              " 'JOAO HUMBERTO BARBOSA DA MOTA FILHO',\n",
              " 'JOAO PAULO ELPIDIO RODRIGUES DO NASCIMENTO',\n",
              " 'KAIQUE SAMUEL ALENCAR TORRES DANTAS',\n",
              " 'LUCAS COSTA RODRIGUES',\n",
              " 'MARCOS ROBERTO LIMA DE OLIVEIRA',\n",
              " 'MARIANA RIBEIRO ZACARIAS DE SOUSA',\n",
              " 'PALOMA CRISTINA SOUSA COSTA',\n",
              " 'SAULO GUERRA AGUIAR BARRETO',\n",
              " 'SAULO LEMOS DE OLIVEIRA',\n",
              " 'VALDENICE LIMA DA SILVA',\n",
              " 'MARIA JOAQUINA DE AMARAL PEREIRA GOES']"
            ]
          },
          "metadata": {},
          "execution_count": 130
        }
      ]
    },
    {
      "cell_type": "code",
      "source": [
        "del lista_de_nomes_icc[-1]"
      ],
      "metadata": {
        "id": "UuKj8-bNszkn"
      },
      "execution_count": 131,
      "outputs": []
    },
    {
      "cell_type": "code",
      "source": [
        "lista_de_nomes_icc"
      ],
      "metadata": {
        "colab": {
          "base_uri": "https://localhost:8080/"
        },
        "id": "grwu2-yftAWq",
        "outputId": "56289dc6-8066-4c31-d1bb-900fb6b906f7"
      },
      "execution_count": 132,
      "outputs": [
        {
          "output_type": "execute_result",
          "data": {
            "text/plain": [
              "['JOSÉ DA SILVA SOARES',\n",
              " 'ANTONIO CARLOS DE FREITAS DANTAS',\n",
              " 'CLERISTON DE CASTRO RAMOS',\n",
              " 'DANILO DE OLIVEIRA SILVA',\n",
              " 'DEIVID DE QUEIROZ BRANDAO',\n",
              " 'EDMUNDO SOARES DE CARVALHO JUNIOR',\n",
              " 'EUCARIO MAGALHAES PEREIRA JUNIOR',\n",
              " 'FABRICIO ARAUJO DOS SANTOS NASCIMENTO',\n",
              " 'GABRIELLY JHASMIN VIEIRA DA SILVA',\n",
              " 'GABRIELLY LAIZ LOPES DA COSTA SILVA',\n",
              " 'JHON WIGLLAFFY PORTELA VIEIRA',\n",
              " 'JOAO HUMBERTO BARBOSA DA MOTA FILHO',\n",
              " 'JOAO PAULO ELPIDIO RODRIGUES DO NASCIMENTO',\n",
              " 'KAIQUE SAMUEL ALENCAR TORRES DANTAS',\n",
              " 'LUCAS COSTA RODRIGUES',\n",
              " 'MARCOS ROBERTO LIMA DE OLIVEIRA',\n",
              " 'MARIANA RIBEIRO ZACARIAS DE SOUSA',\n",
              " 'PALOMA CRISTINA SOUSA COSTA',\n",
              " 'SAULO GUERRA AGUIAR BARRETO',\n",
              " 'SAULO LEMOS DE OLIVEIRA',\n",
              " 'VALDENICE LIMA DA SILVA']"
            ]
          },
          "metadata": {},
          "execution_count": 132
        }
      ]
    },
    {
      "cell_type": "code",
      "source": [
        "del lista_de_nomes_icc[0]"
      ],
      "metadata": {
        "id": "z0otbvKqtGAx"
      },
      "execution_count": 133,
      "outputs": []
    },
    {
      "cell_type": "code",
      "source": [
        "lista_de_nomes_icc"
      ],
      "metadata": {
        "colab": {
          "base_uri": "https://localhost:8080/"
        },
        "id": "I6jrF7AitLEF",
        "outputId": "9956c773-219a-4652-907f-d6a7ccf5f557"
      },
      "execution_count": 134,
      "outputs": [
        {
          "output_type": "execute_result",
          "data": {
            "text/plain": [
              "['ANTONIO CARLOS DE FREITAS DANTAS',\n",
              " 'CLERISTON DE CASTRO RAMOS',\n",
              " 'DANILO DE OLIVEIRA SILVA',\n",
              " 'DEIVID DE QUEIROZ BRANDAO',\n",
              " 'EDMUNDO SOARES DE CARVALHO JUNIOR',\n",
              " 'EUCARIO MAGALHAES PEREIRA JUNIOR',\n",
              " 'FABRICIO ARAUJO DOS SANTOS NASCIMENTO',\n",
              " 'GABRIELLY JHASMIN VIEIRA DA SILVA',\n",
              " 'GABRIELLY LAIZ LOPES DA COSTA SILVA',\n",
              " 'JHON WIGLLAFFY PORTELA VIEIRA',\n",
              " 'JOAO HUMBERTO BARBOSA DA MOTA FILHO',\n",
              " 'JOAO PAULO ELPIDIO RODRIGUES DO NASCIMENTO',\n",
              " 'KAIQUE SAMUEL ALENCAR TORRES DANTAS',\n",
              " 'LUCAS COSTA RODRIGUES',\n",
              " 'MARCOS ROBERTO LIMA DE OLIVEIRA',\n",
              " 'MARIANA RIBEIRO ZACARIAS DE SOUSA',\n",
              " 'PALOMA CRISTINA SOUSA COSTA',\n",
              " 'SAULO GUERRA AGUIAR BARRETO',\n",
              " 'SAULO LEMOS DE OLIVEIRA',\n",
              " 'VALDENICE LIMA DA SILVA']"
            ]
          },
          "metadata": {},
          "execution_count": 134
        }
      ]
    },
    {
      "cell_type": "code",
      "source": [
        "del lista_de_nomes_icc[2]"
      ],
      "metadata": {
        "id": "1ht2WXwNtUfC"
      },
      "execution_count": 135,
      "outputs": []
    },
    {
      "cell_type": "code",
      "source": [
        "lista_de_nomes_icc"
      ],
      "metadata": {
        "colab": {
          "base_uri": "https://localhost:8080/"
        },
        "id": "ZWf4BQaatjrY",
        "outputId": "2aaacef4-9f24-4338-8e42-7537acb1d0cb"
      },
      "execution_count": 136,
      "outputs": [
        {
          "output_type": "execute_result",
          "data": {
            "text/plain": [
              "['ANTONIO CARLOS DE FREITAS DANTAS',\n",
              " 'CLERISTON DE CASTRO RAMOS',\n",
              " 'DEIVID DE QUEIROZ BRANDAO',\n",
              " 'EDMUNDO SOARES DE CARVALHO JUNIOR',\n",
              " 'EUCARIO MAGALHAES PEREIRA JUNIOR',\n",
              " 'FABRICIO ARAUJO DOS SANTOS NASCIMENTO',\n",
              " 'GABRIELLY JHASMIN VIEIRA DA SILVA',\n",
              " 'GABRIELLY LAIZ LOPES DA COSTA SILVA',\n",
              " 'JHON WIGLLAFFY PORTELA VIEIRA',\n",
              " 'JOAO HUMBERTO BARBOSA DA MOTA FILHO',\n",
              " 'JOAO PAULO ELPIDIO RODRIGUES DO NASCIMENTO',\n",
              " 'KAIQUE SAMUEL ALENCAR TORRES DANTAS',\n",
              " 'LUCAS COSTA RODRIGUES',\n",
              " 'MARCOS ROBERTO LIMA DE OLIVEIRA',\n",
              " 'MARIANA RIBEIRO ZACARIAS DE SOUSA',\n",
              " 'PALOMA CRISTINA SOUSA COSTA',\n",
              " 'SAULO GUERRA AGUIAR BARRETO',\n",
              " 'SAULO LEMOS DE OLIVEIRA',\n",
              " 'VALDENICE LIMA DA SILVA']"
            ]
          },
          "metadata": {},
          "execution_count": 136
        }
      ]
    },
    {
      "cell_type": "code",
      "source": [
        "lista_de_nomes_icc[2:5]"
      ],
      "metadata": {
        "colab": {
          "base_uri": "https://localhost:8080/"
        },
        "id": "eF_KUS0JtnBU",
        "outputId": "ad917dd0-07f3-4443-9664-9b8be72c3aa4"
      },
      "execution_count": 137,
      "outputs": [
        {
          "output_type": "execute_result",
          "data": {
            "text/plain": [
              "['DEIVID DE QUEIROZ BRANDAO',\n",
              " 'EDMUNDO SOARES DE CARVALHO JUNIOR',\n",
              " 'EUCARIO MAGALHAES PEREIRA JUNIOR']"
            ]
          },
          "metadata": {},
          "execution_count": 137
        }
      ]
    },
    {
      "cell_type": "code",
      "source": [
        "del lista_de_nomes_icc[2:5]"
      ],
      "metadata": {
        "id": "oL6fDOY7tssX"
      },
      "execution_count": 139,
      "outputs": []
    },
    {
      "cell_type": "code",
      "source": [
        "lista_de_nomes_icc"
      ],
      "metadata": {
        "colab": {
          "base_uri": "https://localhost:8080/"
        },
        "id": "BJz3Xb4Nt1og",
        "outputId": "9bade60a-7c74-47e1-c3d5-da275d166117"
      },
      "execution_count": 140,
      "outputs": [
        {
          "output_type": "execute_result",
          "data": {
            "text/plain": [
              "['ANTONIO CARLOS DE FREITAS DANTAS',\n",
              " 'CLERISTON DE CASTRO RAMOS',\n",
              " 'FABRICIO ARAUJO DOS SANTOS NASCIMENTO',\n",
              " 'GABRIELLY JHASMIN VIEIRA DA SILVA',\n",
              " 'GABRIELLY LAIZ LOPES DA COSTA SILVA',\n",
              " 'JHON WIGLLAFFY PORTELA VIEIRA',\n",
              " 'JOAO HUMBERTO BARBOSA DA MOTA FILHO',\n",
              " 'JOAO PAULO ELPIDIO RODRIGUES DO NASCIMENTO',\n",
              " 'KAIQUE SAMUEL ALENCAR TORRES DANTAS',\n",
              " 'LUCAS COSTA RODRIGUES',\n",
              " 'MARCOS ROBERTO LIMA DE OLIVEIRA',\n",
              " 'MARIANA RIBEIRO ZACARIAS DE SOUSA',\n",
              " 'PALOMA CRISTINA SOUSA COSTA',\n",
              " 'SAULO GUERRA AGUIAR BARRETO',\n",
              " 'SAULO LEMOS DE OLIVEIRA',\n",
              " 'VALDENICE LIMA DA SILVA']"
            ]
          },
          "metadata": {},
          "execution_count": 140
        }
      ]
    },
    {
      "cell_type": "code",
      "source": [
        "for qualquercoisa in lista_de_nomes_icc:\n",
        "  print(f\"Nome do aluno: {qualquercoisa}\")\n",
        "  print(\"---\")\n",
        "\n",
        "print(\"linha executada depois que o FOR acabou...\")"
      ],
      "metadata": {
        "colab": {
          "base_uri": "https://localhost:8080/"
        },
        "id": "-O32ATAJuVg6",
        "outputId": "7de5577f-12c4-4722-941e-a4d7efc184b3"
      },
      "execution_count": 144,
      "outputs": [
        {
          "output_type": "stream",
          "name": "stdout",
          "text": [
            "Nome do aluno: ANTONIO CARLOS DE FREITAS DANTAS\n",
            "---\n",
            "Nome do aluno: CLERISTON DE CASTRO RAMOS\n",
            "---\n",
            "Nome do aluno: FABRICIO ARAUJO DOS SANTOS NASCIMENTO\n",
            "---\n",
            "Nome do aluno: GABRIELLY JHASMIN VIEIRA DA SILVA\n",
            "---\n",
            "Nome do aluno: GABRIELLY LAIZ LOPES DA COSTA SILVA\n",
            "---\n",
            "Nome do aluno: JHON WIGLLAFFY PORTELA VIEIRA\n",
            "---\n",
            "Nome do aluno: JOAO HUMBERTO BARBOSA DA MOTA FILHO\n",
            "---\n",
            "Nome do aluno: JOAO PAULO ELPIDIO RODRIGUES DO NASCIMENTO\n",
            "---\n",
            "Nome do aluno: KAIQUE SAMUEL ALENCAR TORRES DANTAS\n",
            "---\n",
            "Nome do aluno: LUCAS COSTA RODRIGUES\n",
            "---\n",
            "Nome do aluno: MARCOS ROBERTO LIMA DE OLIVEIRA\n",
            "---\n",
            "Nome do aluno: MARIANA RIBEIRO ZACARIAS DE SOUSA\n",
            "---\n",
            "Nome do aluno: PALOMA CRISTINA SOUSA COSTA\n",
            "---\n",
            "Nome do aluno: SAULO GUERRA AGUIAR BARRETO\n",
            "---\n",
            "Nome do aluno: SAULO LEMOS DE OLIVEIRA\n",
            "---\n",
            "Nome do aluno: VALDENICE LIMA DA SILVA\n",
            "---\n",
            "linha executada depois que o FOR acabou...\n"
          ]
        }
      ]
    },
    {
      "cell_type": "code",
      "source": [
        "range(10)"
      ],
      "metadata": {
        "colab": {
          "base_uri": "https://localhost:8080/"
        },
        "id": "Oxl7sFIAvc9j",
        "outputId": "0b333fac-ae1c-4106-cded-54a29c4f303e"
      },
      "execution_count": 145,
      "outputs": [
        {
          "output_type": "execute_result",
          "data": {
            "text/plain": [
              "range(0, 10)"
            ]
          },
          "metadata": {},
          "execution_count": 145
        }
      ]
    },
    {
      "cell_type": "code",
      "source": [
        "for i in range(11):\n",
        "  print(i)"
      ],
      "metadata": {
        "colab": {
          "base_uri": "https://localhost:8080/"
        },
        "id": "0-m06cE0vmTs",
        "outputId": "3e89e099-5ef0-428b-ea64-2ee43b698134"
      },
      "execution_count": 147,
      "outputs": [
        {
          "output_type": "stream",
          "name": "stdout",
          "text": [
            "0\n",
            "1\n",
            "2\n",
            "3\n",
            "4\n",
            "5\n",
            "6\n",
            "7\n",
            "8\n",
            "9\n",
            "10\n"
          ]
        }
      ]
    },
    {
      "cell_type": "code",
      "source": [
        "for i in range(len(lista_de_nomes_icc)):\n",
        "  print(lista_de_nomes_icc[i])"
      ],
      "metadata": {
        "colab": {
          "base_uri": "https://localhost:8080/"
        },
        "id": "XG7tKSRHv4ar",
        "outputId": "91d12c3e-1614-4b06-8848-48836f484f7a"
      },
      "execution_count": 149,
      "outputs": [
        {
          "output_type": "stream",
          "name": "stdout",
          "text": [
            "ANTONIO CARLOS DE FREITAS DANTAS\n",
            "CLERISTON DE CASTRO RAMOS\n",
            "FABRICIO ARAUJO DOS SANTOS NASCIMENTO\n",
            "GABRIELLY JHASMIN VIEIRA DA SILVA\n",
            "GABRIELLY LAIZ LOPES DA COSTA SILVA\n",
            "JHON WIGLLAFFY PORTELA VIEIRA\n",
            "JOAO HUMBERTO BARBOSA DA MOTA FILHO\n",
            "JOAO PAULO ELPIDIO RODRIGUES DO NASCIMENTO\n",
            "KAIQUE SAMUEL ALENCAR TORRES DANTAS\n",
            "LUCAS COSTA RODRIGUES\n",
            "MARCOS ROBERTO LIMA DE OLIVEIRA\n",
            "MARIANA RIBEIRO ZACARIAS DE SOUSA\n",
            "PALOMA CRISTINA SOUSA COSTA\n",
            "SAULO GUERRA AGUIAR BARRETO\n",
            "SAULO LEMOS DE OLIVEIRA\n",
            "VALDENICE LIMA DA SILVA\n"
          ]
        }
      ]
    },
    {
      "cell_type": "code",
      "source": [
        "for aluno in lista_de_nomes_icc:\n",
        "  print(f\"Nome do aluno: {aluno}\")"
      ],
      "metadata": {
        "colab": {
          "base_uri": "https://localhost:8080/"
        },
        "id": "G_6CyaUtwMz5",
        "outputId": "63571ae6-7b32-4f7c-8f78-9247df3c8948"
      },
      "execution_count": 150,
      "outputs": [
        {
          "output_type": "stream",
          "name": "stdout",
          "text": [
            "Nome do aluno: ANTONIO CARLOS DE FREITAS DANTAS\n",
            "Nome do aluno: CLERISTON DE CASTRO RAMOS\n",
            "Nome do aluno: FABRICIO ARAUJO DOS SANTOS NASCIMENTO\n",
            "Nome do aluno: GABRIELLY JHASMIN VIEIRA DA SILVA\n",
            "Nome do aluno: GABRIELLY LAIZ LOPES DA COSTA SILVA\n",
            "Nome do aluno: JHON WIGLLAFFY PORTELA VIEIRA\n",
            "Nome do aluno: JOAO HUMBERTO BARBOSA DA MOTA FILHO\n",
            "Nome do aluno: JOAO PAULO ELPIDIO RODRIGUES DO NASCIMENTO\n",
            "Nome do aluno: KAIQUE SAMUEL ALENCAR TORRES DANTAS\n",
            "Nome do aluno: LUCAS COSTA RODRIGUES\n",
            "Nome do aluno: MARCOS ROBERTO LIMA DE OLIVEIRA\n",
            "Nome do aluno: MARIANA RIBEIRO ZACARIAS DE SOUSA\n",
            "Nome do aluno: PALOMA CRISTINA SOUSA COSTA\n",
            "Nome do aluno: SAULO GUERRA AGUIAR BARRETO\n",
            "Nome do aluno: SAULO LEMOS DE OLIVEIRA\n",
            "Nome do aluno: VALDENICE LIMA DA SILVA\n"
          ]
        }
      ]
    },
    {
      "cell_type": "code",
      "source": [
        "lista_de_nomes_icc.sort()"
      ],
      "metadata": {
        "id": "7scJwOP5wfmp"
      },
      "execution_count": 151,
      "outputs": []
    },
    {
      "cell_type": "code",
      "source": [
        "lista_de_nomes_icc"
      ],
      "metadata": {
        "colab": {
          "base_uri": "https://localhost:8080/"
        },
        "id": "wjGyYHWJwnAU",
        "outputId": "9f8ff218-2ecc-4aee-e0e1-551637c46c3d"
      },
      "execution_count": 152,
      "outputs": [
        {
          "output_type": "execute_result",
          "data": {
            "text/plain": [
              "['ANTONIO CARLOS DE FREITAS DANTAS',\n",
              " 'CLERISTON DE CASTRO RAMOS',\n",
              " 'FABRICIO ARAUJO DOS SANTOS NASCIMENTO',\n",
              " 'GABRIELLY JHASMIN VIEIRA DA SILVA',\n",
              " 'GABRIELLY LAIZ LOPES DA COSTA SILVA',\n",
              " 'JHON WIGLLAFFY PORTELA VIEIRA',\n",
              " 'JOAO HUMBERTO BARBOSA DA MOTA FILHO',\n",
              " 'JOAO PAULO ELPIDIO RODRIGUES DO NASCIMENTO',\n",
              " 'KAIQUE SAMUEL ALENCAR TORRES DANTAS',\n",
              " 'LUCAS COSTA RODRIGUES',\n",
              " 'MARCOS ROBERTO LIMA DE OLIVEIRA',\n",
              " 'MARIANA RIBEIRO ZACARIAS DE SOUSA',\n",
              " 'PALOMA CRISTINA SOUSA COSTA',\n",
              " 'SAULO GUERRA AGUIAR BARRETO',\n",
              " 'SAULO LEMOS DE OLIVEIRA',\n",
              " 'VALDENICE LIMA DA SILVA']"
            ]
          },
          "metadata": {},
          "execution_count": 152
        }
      ]
    },
    {
      "cell_type": "code",
      "source": [
        "lista_teste = ['Maria', 'José', 'Francisco']\n",
        "lista_teste"
      ],
      "metadata": {
        "colab": {
          "base_uri": "https://localhost:8080/"
        },
        "id": "seTZfjP-wo2O",
        "outputId": "c233771b-a394-49ab-d224-c7d8d5488b42"
      },
      "execution_count": 153,
      "outputs": [
        {
          "output_type": "execute_result",
          "data": {
            "text/plain": [
              "['Maria', 'José', 'Francisco']"
            ]
          },
          "metadata": {},
          "execution_count": 153
        }
      ]
    },
    {
      "cell_type": "code",
      "source": [
        "lista_teste.sort()"
      ],
      "metadata": {
        "id": "jQygqKDCwwCz"
      },
      "execution_count": 154,
      "outputs": []
    },
    {
      "cell_type": "code",
      "source": [
        "lista_teste"
      ],
      "metadata": {
        "colab": {
          "base_uri": "https://localhost:8080/"
        },
        "id": "OVjAUoNrwyt2",
        "outputId": "4dd675c1-3e3e-44cc-d23a-91817dcea917"
      },
      "execution_count": 155,
      "outputs": [
        {
          "output_type": "execute_result",
          "data": {
            "text/plain": [
              "['Francisco', 'José', 'Maria']"
            ]
          },
          "metadata": {},
          "execution_count": 155
        }
      ]
    },
    {
      "cell_type": "code",
      "source": [
        "lista_teste.sort(reverse=True)"
      ],
      "metadata": {
        "id": "5xiMVx8HxE4K"
      },
      "execution_count": 156,
      "outputs": []
    },
    {
      "cell_type": "code",
      "source": [
        "lista_teste"
      ],
      "metadata": {
        "colab": {
          "base_uri": "https://localhost:8080/"
        },
        "id": "NASseaxsxJ-v",
        "outputId": "420b3dda-3bab-4071-802f-104cf1a72076"
      },
      "execution_count": 157,
      "outputs": [
        {
          "output_type": "execute_result",
          "data": {
            "text/plain": [
              "['Maria', 'José', 'Francisco']"
            ]
          },
          "metadata": {},
          "execution_count": 157
        }
      ]
    },
    {
      "cell_type": "code",
      "source": [
        "lista_vogais = ['a', 'e', 'i', 'o', 'u']\n",
        "lista_vogais"
      ],
      "metadata": {
        "colab": {
          "base_uri": "https://localhost:8080/"
        },
        "id": "yHtobmXoxduJ",
        "outputId": "16e9b74c-99d0-422d-a68b-ef1e0f8e63f1"
      },
      "execution_count": 158,
      "outputs": [
        {
          "output_type": "execute_result",
          "data": {
            "text/plain": [
              "['a', 'e', 'i', 'o', 'u']"
            ]
          },
          "metadata": {},
          "execution_count": 158
        }
      ]
    },
    {
      "cell_type": "code",
      "source": [
        "lista_letras = ['a', 'b', 'c', 'o']\n",
        "lista_letras"
      ],
      "metadata": {
        "colab": {
          "base_uri": "https://localhost:8080/"
        },
        "id": "5kndp0zwxkKb",
        "outputId": "f4d66704-1d3e-4cb9-fd09-138a627fd6e6"
      },
      "execution_count": 159,
      "outputs": [
        {
          "output_type": "execute_result",
          "data": {
            "text/plain": [
              "['a', 'b', 'c', 'o']"
            ]
          },
          "metadata": {},
          "execution_count": 159
        }
      ]
    },
    {
      "cell_type": "code",
      "source": [
        "lista_resultante = lista_vogais + lista_letras\n",
        "lista_resultante"
      ],
      "metadata": {
        "colab": {
          "base_uri": "https://localhost:8080/"
        },
        "id": "EnmmPT5Uxz30",
        "outputId": "461e4f44-5fc0-4207-8e1a-f87824922297"
      },
      "execution_count": 160,
      "outputs": [
        {
          "output_type": "execute_result",
          "data": {
            "text/plain": [
              "['a', 'e', 'i', 'o', 'u', 'a', 'b', 'c', 'o']"
            ]
          },
          "metadata": {},
          "execution_count": 160
        }
      ]
    },
    {
      "cell_type": "code",
      "source": [
        "conjunto_vogais = {'a', 'e', 'i', 'o', 'u'}\n",
        "conjunto_letras = {'a', 'b', 'c', 'o'}\n",
        "conjunto_vogais.union(conjunto_letras)"
      ],
      "metadata": {
        "colab": {
          "base_uri": "https://localhost:8080/"
        },
        "id": "oq5VBuoex8Md",
        "outputId": "1e3ae620-7ab1-47b9-c030-c1918dcfe90e"
      },
      "execution_count": 161,
      "outputs": [
        {
          "output_type": "execute_result",
          "data": {
            "text/plain": [
              "{'a', 'b', 'c', 'e', 'i', 'o', 'u'}"
            ]
          },
          "metadata": {},
          "execution_count": 161
        }
      ]
    },
    {
      "cell_type": "code",
      "source": [
        "lista_resultante.count('a')"
      ],
      "metadata": {
        "colab": {
          "base_uri": "https://localhost:8080/"
        },
        "id": "BDJFRdR1ya92",
        "outputId": "0543d015-e2ce-437a-d05c-540d84b74dfb"
      },
      "execution_count": 162,
      "outputs": [
        {
          "output_type": "execute_result",
          "data": {
            "text/plain": [
              "2"
            ]
          },
          "metadata": {},
          "execution_count": 162
        }
      ]
    },
    {
      "cell_type": "code",
      "source": [
        "import random"
      ],
      "metadata": {
        "id": "b_brh8HZytfm"
      },
      "execution_count": 164,
      "outputs": []
    },
    {
      "cell_type": "code",
      "source": [
        "# embaralhar a lista de alunos de icc\n",
        "random.shuffle(lista_de_nomes_icc)\n",
        "lista_de_nomes_icc[0]\n"
      ],
      "metadata": {
        "colab": {
          "base_uri": "https://localhost:8080/",
          "height": 35
        },
        "id": "6FWYt-8gzFXZ",
        "outputId": "f127bc9d-1acc-450d-d84b-ac1ac4ba9a0e"
      },
      "execution_count": 180,
      "outputs": [
        {
          "output_type": "execute_result",
          "data": {
            "text/plain": [
              "'JOAO PAULO ELPIDIO RODRIGUES DO NASCIMENTO'"
            ],
            "application/vnd.google.colaboratory.intrinsic+json": {
              "type": "string"
            }
          },
          "metadata": {},
          "execution_count": 180
        }
      ]
    }
  ]
}