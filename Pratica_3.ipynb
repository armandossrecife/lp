{
  "nbformat": 4,
  "nbformat_minor": 0,
  "metadata": {
    "colab": {
      "provenance": [],
      "authorship_tag": "ABX9TyMt51MuiniRfFUBoaCrem1k",
      "include_colab_link": true
    },
    "kernelspec": {
      "name": "python3",
      "display_name": "Python 3"
    },
    "language_info": {
      "name": "python"
    }
  },
  "cells": [
    {
      "cell_type": "markdown",
      "metadata": {
        "id": "view-in-github",
        "colab_type": "text"
      },
      "source": [
        "<a href=\"https://colab.research.google.com/github/armandossrecife/lp/blob/main/Pratica_3.ipynb\" target=\"_parent\"><img src=\"https://colab.research.google.com/assets/colab-badge.svg\" alt=\"Open In Colab\"/></a>"
      ]
    },
    {
      "cell_type": "markdown",
      "source": [
        "# Prática 3 - Manipulando os alunos e as notas de uma disciplina"
      ],
      "metadata": {
        "id": "CURyKkWYhYO3"
      }
    },
    {
      "cell_type": "markdown",
      "source": [
        "## 1. Informações de um aluno\n",
        "Um aluno tem uma matrícula, um nome e 4 notas\n",
        "\n",
        "Um aluno pode ser representado por uma tupla ('Nome', lista_de_notas)\n",
        "\n",
        "tupla aluno = ('Nome do aluno', lista_de_notas)\n",
        "\n",
        "Por exemplo:\n",
        " \n",
        "aluno1 = ('Nome do aluno1', [10, 8, 7, 9])"
      ],
      "metadata": {
        "id": "6H01bFYYhh5K"
      }
    },
    {
      "cell_type": "code",
      "source": [],
      "metadata": {
        "id": "EJ3cTjwzzMzX"
      },
      "execution_count": null,
      "outputs": []
    },
    {
      "cell_type": "markdown",
      "source": [
        "## 2. Informações de uma disciplina\n",
        "\n",
        "Uma disciplina pode ser representada por um dicionário de alunos, onde cada item tem como chave a matrícula do aluno e o valor é a tupla que representa o aluno.\n",
        "\n",
        "Por exemplo: \n",
        "\n",
        "alunos_lp = {\n",
        "    'matricula1': ('aluno1', [10, 8, 7, 5]),\n",
        "    'matricula2': ('aluno2', [8, 8, 9, 6]),\n",
        "    'matricula3': ('aluno3', [9, 8, 6, 7]),\n",
        "}"
      ],
      "metadata": {
        "id": "IgI7BWKaysHy"
      }
    },
    {
      "cell_type": "code",
      "execution_count": null,
      "metadata": {
        "id": "zeBP7lvrcw7P"
      },
      "outputs": [],
      "source": []
    },
    {
      "cell_type": "markdown",
      "source": [
        "## 3. Liste todas as matrículas dos alunos matriculados na disciplina\n",
        "\n",
        "Dica: liste apenas as chaves (keys) do dicionário"
      ],
      "metadata": {
        "id": "2UFZaKJtzkUC"
      }
    },
    {
      "cell_type": "code",
      "source": [],
      "metadata": {
        "id": "E7SQ0QHHc_gO"
      },
      "execution_count": null,
      "outputs": []
    },
    {
      "cell_type": "markdown",
      "source": [
        "## 4. Liste todos os alunos matriculados na disciplina\n",
        "\n",
        "Dica: liste apenas os valores (values) do dicionário"
      ],
      "metadata": {
        "id": "NaU0kXBazw0D"
      }
    },
    {
      "cell_type": "code",
      "source": [],
      "metadata": {
        "id": "8JNo2FF9dso4"
      },
      "execution_count": null,
      "outputs": []
    },
    {
      "cell_type": "markdown",
      "source": [
        "## 5. Liste apenas os nomes dos alunos matriculados\n",
        "Dica: para cada valor, mostre apenas o 1o. elemento da tupla"
      ],
      "metadata": {
        "id": "ZQKJFhaSz4o9"
      }
    },
    {
      "cell_type": "code",
      "source": [],
      "metadata": {
        "id": "LO6-4EIXeOIg"
      },
      "execution_count": null,
      "outputs": []
    },
    {
      "cell_type": "markdown",
      "source": [
        "## 6. Liste os nomes dos alunos com suas respetivas notas\n",
        "\n",
        "Dica: liste apenas os valores do dicionário"
      ],
      "metadata": {
        "id": "OzY_pjVW0IlV"
      }
    },
    {
      "cell_type": "code",
      "source": [],
      "metadata": {
        "id": "6CfN1mV00NRu"
      },
      "execution_count": null,
      "outputs": []
    },
    {
      "cell_type": "markdown",
      "source": [
        "## 7. Liste os nomes dos alunos, suas notas e a média final\n",
        "\n",
        "Dica: liste apenas os valores do dicionário\n",
        "\n",
        "Obs: faça um loop dentro da lista de notas para calcular a média"
      ],
      "metadata": {
        "id": "Vimkvt3I0kML"
      }
    },
    {
      "cell_type": "code",
      "source": [],
      "metadata": {
        "id": "Jqq9G3iPeeVs"
      },
      "execution_count": null,
      "outputs": []
    },
    {
      "cell_type": "markdown",
      "source": [
        "## 8. Calcule a média aritmética geral da turma\n",
        "\n",
        "Dica: liste apenas os valores do dicionário\n",
        "\n",
        "Obs1: faça um loop dentro da lista de notas para calcular a média. Pode usar len(lista de notas) para pegar a quantidade de notas\n",
        "\n",
        "Obs2: acumule as médias dos alunos e ao final divida pela quantidade de alunos (len(dicionario))"
      ],
      "metadata": {
        "id": "xzTycItP09tN"
      }
    },
    {
      "cell_type": "code",
      "source": [],
      "metadata": {
        "id": "3gSscVrVfI87"
      },
      "execution_count": null,
      "outputs": []
    }
  ]
}