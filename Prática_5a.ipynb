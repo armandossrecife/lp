{
  "nbformat": 4,
  "nbformat_minor": 0,
  "metadata": {
    "colab": {
      "provenance": [],
      "authorship_tag": "ABX9TyO0c8k+u3KW7jVqsarfT3pJ",
      "include_colab_link": true
    },
    "kernelspec": {
      "name": "python3",
      "display_name": "Python 3"
    },
    "language_info": {
      "name": "python"
    }
  },
  "cells": [
    {
      "cell_type": "markdown",
      "metadata": {
        "id": "view-in-github",
        "colab_type": "text"
      },
      "source": [
        "<a href=\"https://colab.research.google.com/github/armandossrecife/lp/blob/main/Pr%C3%A1tica_5a.ipynb\" target=\"_parent\"><img src=\"https://colab.research.google.com/assets/colab-badge.svg\" alt=\"Open In Colab\"/></a>"
      ]
    },
    {
      "cell_type": "markdown",
      "source": [
        "# Prática 5a - Trabalhando com arquivos texto"
      ],
      "metadata": {
        "id": "S9WspJOW_1O5"
      }
    },
    {
      "cell_type": "markdown",
      "source": [
        "## 1. Crie um arquivo pronto para escrita (w - writable)"
      ],
      "metadata": {
        "id": "BqFQjaKt9q92"
      }
    },
    {
      "cell_type": "code",
      "source": [
        "# 1. Criar um novo arquivo chamado agenda.txt \n",
        "# nome_arquivo = 'agenda.txt'\n",
        "# minha_agenda = open(nome_arquivo, 'w')\n",
        "# print(f'Arquivo {nome_arquivo} criado com sucesso!')\n",
        "# minha_agenda.close()"
      ],
      "metadata": {
        "id": "t5LVbCrmuC6P"
      },
      "execution_count": null,
      "outputs": []
    },
    {
      "cell_type": "markdown",
      "source": [
        "## 2. Crie 3 contatos com a estrutura (id_contato, nome_contato)"
      ],
      "metadata": {
        "id": "KhEj4zWx9-VJ"
      }
    },
    {
      "cell_type": "code",
      "source": [
        "# 2. Crie 3 contatos\n",
        "# contato1 = ('1', 'Maria Joaquina de Amaral Pereira Goes')\n",
        "# contato2 = ('2', 'Carlos de Andrade')\n",
        "# contato3 = ('3', 'Antônio da Silva')"
      ],
      "metadata": {
        "id": "Qg1ydtnDuVmi"
      },
      "execution_count": 12,
      "outputs": []
    },
    {
      "cell_type": "markdown",
      "source": [
        "## 3. Abra o arquivo para escrever no final (a - append)"
      ],
      "metadata": {
        "id": "6A-uG7dV-OBb"
      }
    },
    {
      "cell_type": "code",
      "source": [
        "# 3. abre o arquivo para escrita ao final\n",
        "# minha_agenda = open(nome_arquivo, 'a')"
      ],
      "metadata": {
        "id": "U61GhHlN-SAD"
      },
      "execution_count": 13,
      "outputs": []
    },
    {
      "cell_type": "markdown",
      "source": [
        "## 4. Salve os 3 contatos no arquivo"
      ],
      "metadata": {
        "id": "KyNny4WL-WEs"
      }
    },
    {
      "cell_type": "code",
      "source": [
        "# 4. grava os contatos no arquivo\n",
        "# Obs: é preciso transformar cada tupla em uma string\n",
        "# meu_contato1 = contato1[0] + ',' + contato1[1] + '\\n'\n",
        "# meu_contato2 = contato2[0] + ',' + contato2[1] + '\\n'\n",
        "# meu_contato3 = contato3[0] + ',' + contato3[1] + '\\n'\n",
        "\n",
        "# minha_agenda.write(meu_contato1)\n",
        "# minha_agenda.write(meu_contato2)\n",
        "# minha_agenda.write(meu_contato3)\n",
        "\n",
        "# 4.1. Fecha o arquivo para liberar o recurso\n",
        "# minha_agenda.close()"
      ],
      "metadata": {
        "id": "GozNzAwv-als"
      },
      "execution_count": 14,
      "outputs": []
    },
    {
      "cell_type": "markdown",
      "source": [
        "## 5. Leia o conteúdo do arquivo"
      ],
      "metadata": {
        "id": "AVIGD2EF-jM_"
      }
    },
    {
      "cell_type": "code",
      "source": [
        "# 5. Ler o conteúdo do arquivo\n",
        "# minha_agenda = open(nome_arquivo, 'r')\n",
        "# for linha in minha_agenda:\n",
        "#   print(linha, end=\"\")\n",
        "# minha_agenda.close()"
      ],
      "metadata": {
        "id": "SaKjnSkCvi1S"
      },
      "execution_count": null,
      "outputs": []
    }
  ]
}