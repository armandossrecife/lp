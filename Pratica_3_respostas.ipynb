{
  "nbformat": 4,
  "nbformat_minor": 0,
  "metadata": {
    "colab": {
      "provenance": [],
      "authorship_tag": "ABX9TyPtRAZrMqOKEQkNqgKPIUBu",
      "include_colab_link": true
    },
    "kernelspec": {
      "name": "python3",
      "display_name": "Python 3"
    },
    "language_info": {
      "name": "python"
    }
  },
  "cells": [
    {
      "cell_type": "markdown",
      "metadata": {
        "id": "view-in-github",
        "colab_type": "text"
      },
      "source": [
        "<a href=\"https://colab.research.google.com/github/armandossrecife/lp/blob/main/Pratica_3_respostas.ipynb\" target=\"_parent\"><img src=\"https://colab.research.google.com/assets/colab-badge.svg\" alt=\"Open In Colab\"/></a>"
      ]
    },
    {
      "cell_type": "markdown",
      "source": [
        "# Prática 3 - Manipulando os alunos e as notas de uma disciplina"
      ],
      "metadata": {
        "id": "CURyKkWYhYO3"
      }
    },
    {
      "cell_type": "markdown",
      "source": [
        "## 1. Informações de um aluno\n",
        "Um aluno tem uma matrícula, um nome e 4 notas\n",
        "\n",
        "Um aluno pode ser representado por uma tupla ('Nome', lista_de_notas)\n",
        "\n",
        "tupla aluno = ('Nome do aluno', lista_de_notas)\n",
        "\n",
        "Por exemplo:\n",
        " \n",
        "aluno1 = ('Nome do aluno1', [10, 8, 7, 9])"
      ],
      "metadata": {
        "id": "6H01bFYYhh5K"
      }
    },
    {
      "cell_type": "code",
      "source": [
        "aluno1 = ('Maria Joaquiina', [10, 8, 9, 7])\n",
        "print(aluno1)"
      ],
      "metadata": {
        "id": "EJ3cTjwzzMzX",
        "outputId": "4256497b-ab1d-4cfe-8a8e-6fcc8aa820f6",
        "colab": {
          "base_uri": "https://localhost:8080/"
        }
      },
      "execution_count": null,
      "outputs": [
        {
          "output_type": "stream",
          "name": "stdout",
          "text": [
            "('Maria Joaquiina', [10, 8, 9, 7])\n"
          ]
        }
      ]
    },
    {
      "cell_type": "code",
      "source": [
        "nome_aluno1 = aluno1[0]\n",
        "notas_aluno1 = aluno1[1]\n",
        "\n",
        "print(f'Nome: {nome_aluno1}, Notas: {notas_aluno1}')"
      ],
      "metadata": {
        "id": "FmUvwy2K24ON",
        "outputId": "2a7fcc5a-6675-421a-abb7-779abe9e053f",
        "colab": {
          "base_uri": "https://localhost:8080/"
        }
      },
      "execution_count": null,
      "outputs": [
        {
          "output_type": "stream",
          "name": "stdout",
          "text": [
            "Nome: Maria Joaquiina, Notas: [10, 8, 9, 7]\n"
          ]
        }
      ]
    },
    {
      "cell_type": "code",
      "source": [
        "aluno1 = ('Maria Joaquiina', [10, 8, 9, 7])\n",
        "\n",
        "print(f'Nome: {aluno1[0]}, Notas: {aluno1[1]}')"
      ],
      "metadata": {
        "id": "JOQ-C_tD3UPg",
        "outputId": "1cfda24f-0b13-47cb-ceda-9a978edf4de3",
        "colab": {
          "base_uri": "https://localhost:8080/"
        }
      },
      "execution_count": null,
      "outputs": [
        {
          "output_type": "stream",
          "name": "stdout",
          "text": [
            "Nome: Maria Joaquiina, Notas: [10, 8, 9, 7]\n"
          ]
        }
      ]
    },
    {
      "cell_type": "markdown",
      "source": [
        "## 2. Informações de uma disciplina\n",
        "\n",
        "Uma disciplina pode ser representada por um dicionário de alunos, onde cada item tem como chave a matrícula do aluno e o valor é a tupla que representa o aluno.\n",
        "\n",
        "Por exemplo: \n",
        "\n",
        "alunos_lp = {\n",
        "    'matricula1': ('aluno1', [10, 8, 7, 5]),\n",
        "    'matricula2': ('aluno2', [8, 8, 9, 6]),\n",
        "    'matricula3': ('aluno3', [9, 8, 6, 7]),\n",
        "}"
      ],
      "metadata": {
        "id": "IgI7BWKaysHy"
      }
    },
    {
      "cell_type": "code",
      "source": [
        "alunos_lp = {}"
      ],
      "metadata": {
        "id": "eMy7G-hn4f6v"
      },
      "execution_count": null,
      "outputs": []
    },
    {
      "cell_type": "code",
      "execution_count": null,
      "metadata": {
        "id": "zeBP7lvrcw7P"
      },
      "outputs": [],
      "source": [
        "alunos_lp = { \n",
        "    'matricula1': ('aluno1', [10, 10, 10, 10]), \n",
        "    'matricula2': ('aluno2', [10, 10, 10, 10]), \n",
        "    'matricula3': ('aluno3', [10, 10, 10, 10]) \n",
        "}"
      ]
    },
    {
      "cell_type": "markdown",
      "source": [
        "## 3. Liste todas as matrículas dos alunos matriculados na disciplina\n",
        "\n",
        "Dica: liste apenas as chaves (keys) do dicionário"
      ],
      "metadata": {
        "id": "2UFZaKJtzkUC"
      }
    },
    {
      "cell_type": "code",
      "source": [
        "for matricula in alunos_lp:\n",
        "  print(matricula)"
      ],
      "metadata": {
        "id": "E7SQ0QHHc_gO",
        "outputId": "9f8abf07-cd7e-4985-bdb4-ff271b406831",
        "colab": {
          "base_uri": "https://localhost:8080/"
        }
      },
      "execution_count": null,
      "outputs": [
        {
          "output_type": "stream",
          "name": "stdout",
          "text": [
            "matricula1\n",
            "matricula2\n",
            "matricula3\n"
          ]
        }
      ]
    },
    {
      "cell_type": "code",
      "source": [
        "for matircula in alunos_lp.keys():\n",
        "  print(matricula)"
      ],
      "metadata": {
        "id": "2McTZo-q41ou",
        "outputId": "ff51361d-b26c-44cf-d45e-cc76574315a0",
        "colab": {
          "base_uri": "https://localhost:8080/"
        }
      },
      "execution_count": null,
      "outputs": [
        {
          "output_type": "stream",
          "name": "stdout",
          "text": [
            "matricula3\n",
            "matricula3\n",
            "matricula3\n"
          ]
        }
      ]
    },
    {
      "cell_type": "markdown",
      "source": [
        "## 4. Liste todos os alunos matriculados na disciplina\n",
        "\n",
        "Dica: liste apenas os valores (values) do dicionário"
      ],
      "metadata": {
        "id": "NaU0kXBazw0D"
      }
    },
    {
      "cell_type": "code",
      "source": [
        "for aluno in alunos_lp.values():\n",
        "  print(aluno)"
      ],
      "metadata": {
        "id": "8JNo2FF9dso4",
        "outputId": "0e232e3d-5317-4c73-dd02-ab0e6ecd1957",
        "colab": {
          "base_uri": "https://localhost:8080/"
        }
      },
      "execution_count": null,
      "outputs": [
        {
          "output_type": "stream",
          "name": "stdout",
          "text": [
            "('aluno1', [10, 10, 10, 10])\n",
            "('aluno2', [10, 10, 10, 10])\n",
            "('aluno3', [10, 10, 10, 10])\n"
          ]
        }
      ]
    },
    {
      "cell_type": "markdown",
      "source": [
        "## 5. Liste apenas os nomes dos alunos matriculados\n",
        "Dica: para cada valor, mostre apenas o 1o. elemento da tupla"
      ],
      "metadata": {
        "id": "ZQKJFhaSz4o9"
      }
    },
    {
      "cell_type": "code",
      "source": [
        "for aluno in alunos_lp.values():\n",
        "  print(aluno[0])"
      ],
      "metadata": {
        "id": "LO6-4EIXeOIg",
        "outputId": "823e30fc-1786-4a93-f946-811a6b8439d3",
        "colab": {
          "base_uri": "https://localhost:8080/"
        }
      },
      "execution_count": null,
      "outputs": [
        {
          "output_type": "stream",
          "name": "stdout",
          "text": [
            "aluno1\n",
            "aluno2\n",
            "aluno3\n"
          ]
        }
      ]
    },
    {
      "cell_type": "code",
      "source": [
        "for aluno in alunos_lp.values():\n",
        "  nome_aluno = aluno[0]\n",
        "  print(nome_aluno)"
      ],
      "metadata": {
        "id": "rXLXw_Pf5UKv",
        "outputId": "47bcafa7-34de-4341-c465-4994fa00c24b",
        "colab": {
          "base_uri": "https://localhost:8080/"
        }
      },
      "execution_count": null,
      "outputs": [
        {
          "output_type": "stream",
          "name": "stdout",
          "text": [
            "aluno1\n",
            "aluno2\n",
            "aluno3\n"
          ]
        }
      ]
    },
    {
      "cell_type": "markdown",
      "source": [
        "## 6. Liste os nomes dos alunos com suas respetivas notas\n",
        "\n",
        "Dica: liste apenas os valores do dicionário"
      ],
      "metadata": {
        "id": "OzY_pjVW0IlV"
      }
    },
    {
      "cell_type": "code",
      "source": [
        "for nome, notas in alunos_lp.values():\n",
        "  print(f'Nome: {nome}, notas: {notas}')"
      ],
      "metadata": {
        "id": "6CfN1mV00NRu",
        "outputId": "ef45f61e-8266-49da-9dab-cc9346dbe4f4",
        "colab": {
          "base_uri": "https://localhost:8080/"
        }
      },
      "execution_count": null,
      "outputs": [
        {
          "output_type": "stream",
          "name": "stdout",
          "text": [
            "Nome: aluno1, notas: [10, 10, 10, 10]\n",
            "Nome: aluno2, notas: [10, 10, 10, 10]\n",
            "Nome: aluno3, notas: [10, 10, 10, 10]\n"
          ]
        }
      ]
    },
    {
      "cell_type": "markdown",
      "source": [
        "## 7. Liste os nomes dos alunos, suas notas e a média final\n",
        "\n",
        "Dica: liste apenas os valores do dicionário\n",
        "\n",
        "Obs: faça um loop dentro da lista de notas para calcular a média"
      ],
      "metadata": {
        "id": "Vimkvt3I0kML"
      }
    },
    {
      "cell_type": "code",
      "source": [
        "for nome, notas in alunos_lp.values():\n",
        "  # Faca um for dentro da lista de notas\n",
        "  soma_notas = 0\n",
        "  media_notas = 0\n",
        "  for nota in notas:\n",
        "    soma_notas = soma_notas + nota\n",
        "  media_notas = soma_notas / 4\n",
        "  print(f'Nome: {nome}, notas: {notas}, média: {media_notas}')\n"
      ],
      "metadata": {
        "id": "Jqq9G3iPeeVs",
        "outputId": "9885f257-e51b-40c7-9abe-48f76649d782",
        "colab": {
          "base_uri": "https://localhost:8080/"
        }
      },
      "execution_count": null,
      "outputs": [
        {
          "output_type": "stream",
          "name": "stdout",
          "text": [
            "Nome: aluno1, notas: [10, 10, 10, 10], média: 10.0\n",
            "Nome: aluno2, notas: [10, 10, 10, 10], média: 10.0\n",
            "Nome: aluno3, notas: [10, 10, 10, 10], média: 10.0\n"
          ]
        }
      ]
    },
    {
      "cell_type": "markdown",
      "source": [
        "## 8. Calcule a média aritmética geral da turma\n",
        "\n",
        "Dica: liste apenas os valores do dicionário\n",
        "\n",
        "Obs1: faça um loop dentro da lista de notas para calcular a média. Pode usar len(lista de notas) para pegar a quantidade de notas\n",
        "\n",
        "Obs2: acumule as médias dos alunos e ao final divida pela quantidade de alunos (len(dicionario))"
      ],
      "metadata": {
        "id": "xzTycItP09tN"
      }
    },
    {
      "cell_type": "code",
      "source": [
        "soma_medias_alunos = 0\n",
        "media_notas_turma = 0\n",
        "\n",
        "for aluno in alunos_lp.values():\n",
        "  nome_aluno = aluno[0] # 1o. elemento da tupla\n",
        "  notas_aluno = aluno[1] # 2o. elemento da tupla\n",
        "  # Calcula a média de cada aluno\n",
        "  soma_notas_aluno = 0\n",
        "  media_notas_aluno = 0\n",
        "  for nota in notas_aluno:\n",
        "    soma_notas_aluno = soma_notas_aluno + nota\n",
        "  media_notas_aluno = soma_notas_aluno/len(notas_aluno)\n",
        "\n",
        "  soma_medias_alunos = soma_medias_alunos + media_notas_aluno \n",
        "  print(nome_aluno, notas_aluno, media_notas_aluno)\n",
        "\n",
        "media_notas_turma = soma_medias_alunos / len(alunos_lp)\n",
        "print(f'Média da turma: {media_notas_turma}')\n"
      ],
      "metadata": {
        "id": "3gSscVrVfI87",
        "outputId": "673601cc-62a4-499c-c59a-6c8177ad37ff",
        "colab": {
          "base_uri": "https://localhost:8080/"
        }
      },
      "execution_count": null,
      "outputs": [
        {
          "output_type": "stream",
          "name": "stdout",
          "text": [
            "aluno1 [10, 10, 10, 10] 10.0\n",
            "aluno2 [10, 10, 10, 10] 10.0\n",
            "aluno3 [10, 10, 10, 10] 10.0\n",
            "Média da turma: 10.0\n"
          ]
        }
      ]
    }
  ]
}