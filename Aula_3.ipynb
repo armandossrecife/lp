{
  "nbformat": 4,
  "nbformat_minor": 0,
  "metadata": {
    "colab": {
      "provenance": [],
      "authorship_tag": "ABX9TyM8YdTkB03KHj5ml69vX893",
      "include_colab_link": true
    },
    "kernelspec": {
      "name": "python3",
      "display_name": "Python 3"
    },
    "language_info": {
      "name": "python"
    }
  },
  "cells": [
    {
      "cell_type": "markdown",
      "metadata": {
        "id": "view-in-github",
        "colab_type": "text"
      },
      "source": [
        "<a href=\"https://colab.research.google.com/github/armandossrecife/lp/blob/main/Aula_3.ipynb\" target=\"_parent\"><img src=\"https://colab.research.google.com/assets/colab-badge.svg\" alt=\"Open In Colab\"/></a>"
      ]
    },
    {
      "cell_type": "code",
      "execution_count": 1,
      "metadata": {
        "id": "30ds-uepYLyI"
      },
      "outputs": [],
      "source": [
        "thislist = ['apple', 'banana', 'cheryy']"
      ]
    },
    {
      "cell_type": "code",
      "source": [
        "thislist[0]"
      ],
      "metadata": {
        "colab": {
          "base_uri": "https://localhost:8080/",
          "height": 35
        },
        "id": "qoccbie9d2J0",
        "outputId": "3e6d026a-2a14-4808-b52e-ccf5bdf8c459"
      },
      "execution_count": 2,
      "outputs": [
        {
          "output_type": "execute_result",
          "data": {
            "text/plain": [
              "'apple'"
            ],
            "application/vnd.google.colaboratory.intrinsic+json": {
              "type": "string"
            }
          },
          "metadata": {},
          "execution_count": 2
        }
      ]
    },
    {
      "cell_type": "code",
      "source": [
        "print(thislist[0])"
      ],
      "metadata": {
        "colab": {
          "base_uri": "https://localhost:8080/"
        },
        "id": "tZ8tdIZDd76V",
        "outputId": "c8a051c4-0cad-477f-9b79-869fd94a2617"
      },
      "execution_count": 3,
      "outputs": [
        {
          "output_type": "stream",
          "name": "stdout",
          "text": [
            "apple\n"
          ]
        }
      ]
    },
    {
      "cell_type": "code",
      "source": [
        "print(f\"O elemento de índice 0 corresponde a {thislist[0]}\")"
      ],
      "metadata": {
        "colab": {
          "base_uri": "https://localhost:8080/"
        },
        "id": "ExDT1Q8reD4-",
        "outputId": "ef8d7dca-db28-4dcb-e1f9-38047ccd4d8c"
      },
      "execution_count": 4,
      "outputs": [
        {
          "output_type": "stream",
          "name": "stdout",
          "text": [
            "O elemento de índice 0 corresponde a apple\n"
          ]
        }
      ]
    },
    {
      "cell_type": "code",
      "source": [
        "len(thislist)"
      ],
      "metadata": {
        "colab": {
          "base_uri": "https://localhost:8080/"
        },
        "id": "Y3J89snxekup",
        "outputId": "adb029a1-392f-4b1a-d68e-8d909e956216"
      },
      "execution_count": 5,
      "outputs": [
        {
          "output_type": "execute_result",
          "data": {
            "text/plain": [
              "3"
            ]
          },
          "metadata": {},
          "execution_count": 5
        }
      ]
    },
    {
      "cell_type": "code",
      "source": [
        "type(thislist)"
      ],
      "metadata": {
        "colab": {
          "base_uri": "https://localhost:8080/"
        },
        "id": "Yt8K6-qJe9Db",
        "outputId": "1918317b-7f4c-4119-ef97-679043195efa"
      },
      "execution_count": 6,
      "outputs": [
        {
          "output_type": "execute_result",
          "data": {
            "text/plain": [
              "list"
            ]
          },
          "metadata": {},
          "execution_count": 6
        }
      ]
    },
    {
      "cell_type": "code",
      "source": [
        "my_list = list()"
      ],
      "metadata": {
        "id": "edvnS6LPfGXF"
      },
      "execution_count": 7,
      "outputs": []
    },
    {
      "cell_type": "code",
      "source": [
        "print(my_list)"
      ],
      "metadata": {
        "colab": {
          "base_uri": "https://localhost:8080/"
        },
        "id": "t0MeOLkEfY5h",
        "outputId": "c2c76676-0c2b-4018-b1f0-33b79b26ed3b"
      },
      "execution_count": 8,
      "outputs": [
        {
          "output_type": "stream",
          "name": "stdout",
          "text": [
            "[]\n"
          ]
        }
      ]
    },
    {
      "cell_type": "code",
      "source": [
        "my_list2 = []"
      ],
      "metadata": {
        "id": "MFlTN2vJfboH"
      },
      "execution_count": null,
      "outputs": []
    },
    {
      "cell_type": "code",
      "source": [
        "thislist[-1]"
      ],
      "metadata": {
        "colab": {
          "base_uri": "https://localhost:8080/",
          "height": 35
        },
        "id": "RZzpPMfAgeRK",
        "outputId": "f98286f7-d14d-4693-da7c-61d7f17b847e"
      },
      "execution_count": 9,
      "outputs": [
        {
          "output_type": "execute_result",
          "data": {
            "text/plain": [
              "'cheryy'"
            ],
            "application/vnd.google.colaboratory.intrinsic+json": {
              "type": "string"
            }
          },
          "metadata": {},
          "execution_count": 9
        }
      ]
    },
    {
      "cell_type": "code",
      "source": [
        "if 'orange' in thislist:\n",
        "  print('OK orange está na lista!')\n",
        "else:\n",
        "  print('Ops... orange não está na lista')"
      ],
      "metadata": {
        "colab": {
          "base_uri": "https://localhost:8080/"
        },
        "id": "65P4RvAmggGP",
        "outputId": "2658dbda-314d-46cd-c52c-9bfc935eca9d"
      },
      "execution_count": 10,
      "outputs": [
        {
          "output_type": "stream",
          "name": "stdout",
          "text": [
            "Ops... orange não está na lista\n"
          ]
        }
      ]
    },
    {
      "cell_type": "code",
      "source": [
        "thislist"
      ],
      "metadata": {
        "colab": {
          "base_uri": "https://localhost:8080/"
        },
        "id": "xwlMEOpFhgTi",
        "outputId": "43c115bf-a3ff-46f0-cecc-e090cec13d9f"
      },
      "execution_count": 11,
      "outputs": [
        {
          "output_type": "execute_result",
          "data": {
            "text/plain": [
              "['apple', 'banana', 'cheryy']"
            ]
          },
          "metadata": {},
          "execution_count": 11
        }
      ]
    },
    {
      "cell_type": "code",
      "source": [
        "thislist.append('orange')"
      ],
      "metadata": {
        "id": "o3SMO38YhzUm"
      },
      "execution_count": 12,
      "outputs": []
    },
    {
      "cell_type": "code",
      "source": [
        "thislist"
      ],
      "metadata": {
        "colab": {
          "base_uri": "https://localhost:8080/"
        },
        "id": "BK_ZCquZh7k5",
        "outputId": "0e94e32e-9f6c-4fc0-c88f-b872b873c132"
      },
      "execution_count": 13,
      "outputs": [
        {
          "output_type": "execute_result",
          "data": {
            "text/plain": [
              "['apple', 'banana', 'cheryy', 'orange']"
            ]
          },
          "metadata": {},
          "execution_count": 13
        }
      ]
    },
    {
      "cell_type": "code",
      "source": [
        "thislist.insert(1,'mango')"
      ],
      "metadata": {
        "id": "jzs5nJt3h9c_"
      },
      "execution_count": 15,
      "outputs": []
    },
    {
      "cell_type": "code",
      "source": [
        "thislist"
      ],
      "metadata": {
        "colab": {
          "base_uri": "https://localhost:8080/"
        },
        "id": "Y02Ron1QiMOj",
        "outputId": "27bb6188-b0a3-4b79-8892-42dd7e8ae206"
      },
      "execution_count": 16,
      "outputs": [
        {
          "output_type": "execute_result",
          "data": {
            "text/plain": [
              "['apple', 'mango', 'banana', 'cheryy', 'orange']"
            ]
          },
          "metadata": {},
          "execution_count": 16
        }
      ]
    },
    {
      "cell_type": "code",
      "source": [
        "for fruta in thislist:\n",
        "  print(fruta)"
      ],
      "metadata": {
        "colab": {
          "base_uri": "https://localhost:8080/"
        },
        "id": "IWNNQ18eiQSy",
        "outputId": "bb24528a-c600-4927-f529-9b2fe7b27c9b"
      },
      "execution_count": 17,
      "outputs": [
        {
          "output_type": "stream",
          "name": "stdout",
          "text": [
            "apple\n",
            "mango\n",
            "banana\n",
            "cheryy\n",
            "orange\n"
          ]
        }
      ]
    },
    {
      "cell_type": "code",
      "source": [
        "thislist.sort()"
      ],
      "metadata": {
        "id": "AShT-2qbjU5T"
      },
      "execution_count": 18,
      "outputs": []
    },
    {
      "cell_type": "code",
      "source": [
        "thislist"
      ],
      "metadata": {
        "colab": {
          "base_uri": "https://localhost:8080/"
        },
        "id": "9lGCbaVXkQF6",
        "outputId": "2f526afd-26b4-46d8-e34d-2f9bda18e551"
      },
      "execution_count": 19,
      "outputs": [
        {
          "output_type": "execute_result",
          "data": {
            "text/plain": [
              "['apple', 'banana', 'cheryy', 'mango', 'orange']"
            ]
          },
          "metadata": {},
          "execution_count": 19
        }
      ]
    },
    {
      "cell_type": "code",
      "source": [
        "thislist.sort(reverse=True)"
      ],
      "metadata": {
        "id": "n27SMs-vkRky"
      },
      "execution_count": 21,
      "outputs": []
    },
    {
      "cell_type": "code",
      "source": [
        "thislist"
      ],
      "metadata": {
        "colab": {
          "base_uri": "https://localhost:8080/"
        },
        "id": "x3erh2wbkp6m",
        "outputId": "ef2b9dc5-13b4-44d1-a511-7e902feba0dd"
      },
      "execution_count": 22,
      "outputs": [
        {
          "output_type": "execute_result",
          "data": {
            "text/plain": [
              "['orange', 'mango', 'cheryy', 'banana', 'apple']"
            ]
          },
          "metadata": {},
          "execution_count": 22
        }
      ]
    },
    {
      "cell_type": "code",
      "source": [
        "thistuple = ('apple', 'banana', 'cherry')"
      ],
      "metadata": {
        "id": "_fkIx9DGkuC_"
      },
      "execution_count": 23,
      "outputs": []
    },
    {
      "cell_type": "code",
      "source": [
        "thistuple[0]"
      ],
      "metadata": {
        "colab": {
          "base_uri": "https://localhost:8080/",
          "height": 35
        },
        "id": "m3cpsHplnpfq",
        "outputId": "4c4eb6ab-2533-4485-ead4-b617573fcf0c"
      },
      "execution_count": 24,
      "outputs": [
        {
          "output_type": "execute_result",
          "data": {
            "text/plain": [
              "'apple'"
            ],
            "application/vnd.google.colaboratory.intrinsic+json": {
              "type": "string"
            }
          },
          "metadata": {},
          "execution_count": 24
        }
      ]
    },
    {
      "cell_type": "code",
      "source": [
        "len(thistuple)"
      ],
      "metadata": {
        "colab": {
          "base_uri": "https://localhost:8080/"
        },
        "id": "xVjLroe5nrJy",
        "outputId": "a7cc1675-8721-4f81-d68d-eaf376dce513"
      },
      "execution_count": 25,
      "outputs": [
        {
          "output_type": "execute_result",
          "data": {
            "text/plain": [
              "3"
            ]
          },
          "metadata": {},
          "execution_count": 25
        }
      ]
    },
    {
      "cell_type": "code",
      "source": [
        "area_retangulo = (10, 20)"
      ],
      "metadata": {
        "id": "QR9d31qeoCTW"
      },
      "execution_count": 26,
      "outputs": []
    },
    {
      "cell_type": "code",
      "source": [
        "base, altura = area_retangulo"
      ],
      "metadata": {
        "id": "D00833xmouVk"
      },
      "execution_count": 27,
      "outputs": []
    },
    {
      "cell_type": "code",
      "source": [
        "print(f\"base: {base}, altura: {altura}\")"
      ],
      "metadata": {
        "colab": {
          "base_uri": "https://localhost:8080/"
        },
        "id": "nBi9hIJIo5fv",
        "outputId": "81a941f2-3f59-4f96-df31-67e7ffe3661e"
      },
      "execution_count": 28,
      "outputs": [
        {
          "output_type": "stream",
          "name": "stdout",
          "text": [
            "base: 10, altura: 20\n"
          ]
        }
      ]
    },
    {
      "cell_type": "code",
      "source": [
        "thisset = {'apple', 'banana', 'cherry'}\n",
        "print(thisset)"
      ],
      "metadata": {
        "colab": {
          "base_uri": "https://localhost:8080/"
        },
        "id": "_bTH7zNmpBW-",
        "outputId": "043a47a3-1d67-479b-b7e0-4ab18bc7a331"
      },
      "execution_count": 29,
      "outputs": [
        {
          "output_type": "stream",
          "name": "stdout",
          "text": [
            "{'apple', 'cherry', 'banana'}\n"
          ]
        }
      ]
    },
    {
      "cell_type": "code",
      "source": [],
      "metadata": {
        "id": "SzYEc7hJrKuK"
      },
      "execution_count": null,
      "outputs": []
    },
    {
      "cell_type": "markdown",
      "source": [
        "# Prática 2 - Registro de alunos e notas"
      ],
      "metadata": {
        "id": "WEmNhvYXs-fK"
      }
    },
    {
      "cell_type": "code",
      "source": [
        "aluno1 = ('202211', 'maria', 'm@gmail.com')\n",
        "aluno2 = ('202212', 'joao', 'j@gmail.com')\n",
        "aluno3 = ('202213', 'carlos', 'c@gmail.com')"
      ],
      "metadata": {
        "id": "s1bZqRYWtBa3"
      },
      "execution_count": 30,
      "outputs": []
    },
    {
      "cell_type": "code",
      "source": [
        "lista_alunos = []"
      ],
      "metadata": {
        "id": "Vb8C9aJrtROd"
      },
      "execution_count": 31,
      "outputs": []
    },
    {
      "cell_type": "code",
      "source": [
        "lista_alunos.append(aluno1)\n",
        "lista_alunos.append(aluno2)\n",
        "lista_alunos.append(aluno3)"
      ],
      "metadata": {
        "id": "FocE504Xtpyj"
      },
      "execution_count": 32,
      "outputs": []
    },
    {
      "cell_type": "code",
      "source": [
        "lista_alunos"
      ],
      "metadata": {
        "colab": {
          "base_uri": "https://localhost:8080/"
        },
        "id": "FLqBwZvStxad",
        "outputId": "6d6241a7-b87d-402c-e8e4-50f39c7daba7"
      },
      "execution_count": 33,
      "outputs": [
        {
          "output_type": "execute_result",
          "data": {
            "text/plain": [
              "[('202211', 'maria', 'm@gmail.com'),\n",
              " ('202212', 'joao', 'j@gmail.com'),\n",
              " ('202213', 'carlos', 'c@gmail.com')]"
            ]
          },
          "metadata": {},
          "execution_count": 33
        }
      ]
    },
    {
      "cell_type": "code",
      "source": [
        "notas_aluno1 = [10, 8, 7, 6]\n",
        "notas_aluno2 = [8, 8, 7, 7]\n",
        "notas_aluno3 = [7, 7, 7, 6.5]"
      ],
      "metadata": {
        "id": "cfz4t04Rt1U1"
      },
      "execution_count": 34,
      "outputs": []
    },
    {
      "cell_type": "code",
      "source": [
        "aluno1_notas = (aluno1, notas_aluno1)\n",
        "aluno2_notas = (aluno2, notas_aluno2)\n",
        "aluno3_notas = (aluno3, notas_aluno3)"
      ],
      "metadata": {
        "id": "_6aoKjp7ua0R"
      },
      "execution_count": 37,
      "outputs": []
    },
    {
      "cell_type": "code",
      "source": [
        "lista_notas_alunos = []\n",
        "lista_notas_alunos.append(aluno1_notas)\n",
        "lista_notas_alunos.append(aluno2_notas)\n",
        "lista_notas_alunos.append(aluno3_notas)"
      ],
      "metadata": {
        "id": "yw3x5fXfvbBp"
      },
      "execution_count": 38,
      "outputs": []
    },
    {
      "cell_type": "code",
      "source": [
        "lista_notas_alunos"
      ],
      "metadata": {
        "colab": {
          "base_uri": "https://localhost:8080/"
        },
        "id": "l3fqB0Xyv6Vu",
        "outputId": "3dda0686-7b5c-402c-9318-2f7ab808b4f8"
      },
      "execution_count": 39,
      "outputs": [
        {
          "output_type": "execute_result",
          "data": {
            "text/plain": [
              "[(('202211', 'maria', 'm@gmail.com'), [10, 8, 7, 6]),\n",
              " (('202212', 'joao', 'j@gmail.com'), [8, 8, 7, 7]),\n",
              " (('202213', 'carlos', 'c@gmail.com'), [7, 7, 7, 6.5])]"
            ]
          },
          "metadata": {},
          "execution_count": 39
        }
      ]
    },
    {
      "cell_type": "code",
      "source": [
        "for each_aluno in lista_notas_alunos: \n",
        "  print(each_aluno)"
      ],
      "metadata": {
        "colab": {
          "base_uri": "https://localhost:8080/"
        },
        "id": "WK86BfziwAP0",
        "outputId": "b5b78e33-e0d8-48db-a7bb-aeaf06482c96"
      },
      "execution_count": 40,
      "outputs": [
        {
          "output_type": "stream",
          "name": "stdout",
          "text": [
            "(('202211', 'maria', 'm@gmail.com'), [10, 8, 7, 6])\n",
            "(('202212', 'joao', 'j@gmail.com'), [8, 8, 7, 7])\n",
            "(('202213', 'carlos', 'c@gmail.com'), [7, 7, 7, 6.5])\n"
          ]
        }
      ]
    },
    {
      "cell_type": "code",
      "source": [
        "for each_aluno in lista_notas_alunos: \n",
        "  print(f'Nome: {each_aluno[0][1]}, notas: {each_aluno[1]}')"
      ],
      "metadata": {
        "colab": {
          "base_uri": "https://localhost:8080/"
        },
        "id": "H54G5y4TztRL",
        "outputId": "5a1e697d-5cda-4bed-ccd2-61552861ea1e"
      },
      "execution_count": 42,
      "outputs": [
        {
          "output_type": "stream",
          "name": "stdout",
          "text": [
            "Nome: maria, notas: [10, 8, 7, 6]\n",
            "Nome: joao, notas: [8, 8, 7, 7]\n",
            "Nome: carlos, notas: [7, 7, 7, 6.5]\n"
          ]
        }
      ]
    },
    {
      "cell_type": "code",
      "source": [],
      "metadata": {
        "id": "JhsthykQ0A1Z"
      },
      "execution_count": null,
      "outputs": []
    }
  ]
}