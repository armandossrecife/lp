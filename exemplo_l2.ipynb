{
  "nbformat": 4,
  "nbformat_minor": 0,
  "metadata": {
    "colab": {
      "provenance": [],
      "authorship_tag": "ABX9TyMFac6JE8Y1Pw9Zu3ca3DEE",
      "include_colab_link": true
    },
    "kernelspec": {
      "name": "python3",
      "display_name": "Python 3"
    },
    "language_info": {
      "name": "python"
    }
  },
  "cells": [
    {
      "cell_type": "markdown",
      "metadata": {
        "id": "view-in-github",
        "colab_type": "text"
      },
      "source": [
        "<a href=\"https://colab.research.google.com/github/armandossrecife/lp/blob/main/exemplo_l2.ipynb\" target=\"_parent\"><img src=\"https://colab.research.google.com/assets/colab-badge.svg\" alt=\"Open In Colab\"/></a>"
      ]
    },
    {
      "cell_type": "code",
      "execution_count": 68,
      "metadata": {
        "id": "x73y4dKE0Ijp"
      },
      "outputs": [],
      "source": [
        "lista_disciplinas = []"
      ]
    },
    {
      "cell_type": "code",
      "source": [
        "codigo_disciplina = 1\n",
        "nome_disciplina = \"Laboratório de Programação\"\n",
        "semestre = str(2022) + '-' + str(2)\n",
        "lista_professores = list()\n",
        "lista_alunos = list()\n",
        "carga_horaria = 60\n",
        "dias_semana = [1,3]\n",
        "horario = 1\n",
        "\n",
        "disciplina1 = (codigo_disciplina, nome_disciplina, semestre, lista_professores, lista_alunos, carga_horaria, (dias_semana, horario))"
      ],
      "metadata": {
        "id": "_mGyPXsi0N1P"
      },
      "execution_count": 74,
      "outputs": []
    },
    {
      "cell_type": "code",
      "source": [
        "disciplina1"
      ],
      "metadata": {
        "colab": {
          "base_uri": "https://localhost:8080/"
        },
        "id": "iREq55IJ1s-T",
        "outputId": "09a58834-4770-4ded-ca07-3d3c690ba6e6"
      },
      "execution_count": 75,
      "outputs": [
        {
          "output_type": "execute_result",
          "data": {
            "text/plain": [
              "(1, 'Laboratório de Programação', '2022-2', [], [], 60, ([1, 3], 1))"
            ]
          },
          "metadata": {},
          "execution_count": 75
        }
      ]
    },
    {
      "cell_type": "code",
      "source": [
        "professor1 = (1, 'Armando Soares Sousa')\n",
        "professor2 = (2, 'André Macedo')\n",
        "\n",
        "aluno1 = ('20219001499', 'RAFFAEL FERREIRA FERNANDES', 'Ciência da Computação', [])\n",
        "aluno2 = ('20229001166', 'HILDA HELENA SILVA ALENCAR LUZ', 'Ciência da Computação', [])"
      ],
      "metadata": {
        "id": "mAA8Kchi1Zs-"
      },
      "execution_count": 78,
      "outputs": []
    },
    {
      "cell_type": "code",
      "source": [
        "disciplina1[3]"
      ],
      "metadata": {
        "colab": {
          "base_uri": "https://localhost:8080/"
        },
        "id": "0elGT9Us6Ydm",
        "outputId": "b7bbe3ea-2f7e-4a35-a135-0cf85a3db8c1"
      },
      "execution_count": 80,
      "outputs": [
        {
          "output_type": "execute_result",
          "data": {
            "text/plain": [
              "[]"
            ]
          },
          "metadata": {},
          "execution_count": 80
        }
      ]
    },
    {
      "cell_type": "code",
      "source": [
        "disciplina1[4]"
      ],
      "metadata": {
        "colab": {
          "base_uri": "https://localhost:8080/"
        },
        "id": "Y5JZVIZ56dIr",
        "outputId": "f400de3a-624b-49bd-aa0a-16261b1c53b5"
      },
      "execution_count": 81,
      "outputs": [
        {
          "output_type": "execute_result",
          "data": {
            "text/plain": [
              "[]"
            ]
          },
          "metadata": {},
          "execution_count": 81
        }
      ]
    },
    {
      "cell_type": "code",
      "source": [
        "disciplina1[3].append(professor1)\n",
        "disciplina1[3].append(professor2)\n",
        "disciplina1[4].append(aluno1)\n",
        "disciplina1[4].append(aluno2)"
      ],
      "metadata": {
        "id": "dh_H8QEL1yS7"
      },
      "execution_count": 82,
      "outputs": []
    },
    {
      "cell_type": "code",
      "source": [
        "disciplina1"
      ],
      "metadata": {
        "colab": {
          "base_uri": "https://localhost:8080/"
        },
        "id": "OcDMg-1c2dz5",
        "outputId": "b306b40e-6902-4d1b-c912-41c161f2222c"
      },
      "execution_count": 83,
      "outputs": [
        {
          "output_type": "execute_result",
          "data": {
            "text/plain": [
              "(1,\n",
              " 'Laboratório de Programação',\n",
              " '2022-2',\n",
              " [(1, 'Armando Soares Sousa'), (2, 'André Macedo')],\n",
              " [('20219001499', 'RAFFAEL FERREIRA FERNANDES', 'Ciência da Computação', []),\n",
              "  ('20229001166',\n",
              "   'HILDA HELENA SILVA ALENCAR LUZ',\n",
              "   'Ciência da Computação',\n",
              "   [])],\n",
              " 60,\n",
              " ([1, 3], 1))"
            ]
          },
          "metadata": {},
          "execution_count": 83
        }
      ]
    },
    {
      "cell_type": "code",
      "source": [
        "notas_a1 = [8,8,8]\n",
        "notas_a2 = [9,9,9]"
      ],
      "metadata": {
        "id": "2POY8ceg266_"
      },
      "execution_count": 84,
      "outputs": []
    },
    {
      "cell_type": "code",
      "source": [
        "disciplina1[4]"
      ],
      "metadata": {
        "colab": {
          "base_uri": "https://localhost:8080/"
        },
        "id": "-P4D9BSZ3Idw",
        "outputId": "227134a4-6af2-467b-8ac1-a2523b871e17"
      },
      "execution_count": 85,
      "outputs": [
        {
          "output_type": "execute_result",
          "data": {
            "text/plain": [
              "[('20219001499', 'RAFFAEL FERREIRA FERNANDES', 'Ciência da Computação', []),\n",
              " ('20229001166',\n",
              "  'HILDA HELENA SILVA ALENCAR LUZ',\n",
              "  'Ciência da Computação',\n",
              "  [])]"
            ]
          },
          "metadata": {},
          "execution_count": 85
        }
      ]
    },
    {
      "cell_type": "code",
      "source": [
        "disciplina1[4][0]"
      ],
      "metadata": {
        "colab": {
          "base_uri": "https://localhost:8080/"
        },
        "id": "lNzOhYua3uG_",
        "outputId": "9a63af89-71f3-4020-95eb-e5764758366e"
      },
      "execution_count": 86,
      "outputs": [
        {
          "output_type": "execute_result",
          "data": {
            "text/plain": [
              "('20219001499', 'RAFFAEL FERREIRA FERNANDES', 'Ciência da Computação', [])"
            ]
          },
          "metadata": {},
          "execution_count": 86
        }
      ]
    },
    {
      "cell_type": "code",
      "source": [
        "disciplina1[4][1]"
      ],
      "metadata": {
        "colab": {
          "base_uri": "https://localhost:8080/"
        },
        "id": "xaiYFHIc5AbR",
        "outputId": "a4747c55-a54b-4995-a48a-86e4426dd7a7"
      },
      "execution_count": 87,
      "outputs": [
        {
          "output_type": "execute_result",
          "data": {
            "text/plain": [
              "('20229001166', 'HILDA HELENA SILVA ALENCAR LUZ', 'Ciência da Computação', [])"
            ]
          },
          "metadata": {},
          "execution_count": 87
        }
      ]
    },
    {
      "cell_type": "code",
      "source": [
        "disciplina1[4][0][3].append((codigo_disciplina, notas_a1))"
      ],
      "metadata": {
        "id": "nXmy4L7g3xvH"
      },
      "execution_count": 88,
      "outputs": []
    },
    {
      "cell_type": "code",
      "source": [
        "disciplina1"
      ],
      "metadata": {
        "colab": {
          "base_uri": "https://localhost:8080/"
        },
        "id": "ZHBTLNSc3-MA",
        "outputId": "2ed5c707-88c6-40c8-9c8c-2ce30e4456a6"
      },
      "execution_count": 89,
      "outputs": [
        {
          "output_type": "execute_result",
          "data": {
            "text/plain": [
              "(1,\n",
              " 'Laboratório de Programação',\n",
              " '2022-2',\n",
              " [(1, 'Armando Soares Sousa'), (2, 'André Macedo')],\n",
              " [('20219001499',\n",
              "   'RAFFAEL FERREIRA FERNANDES',\n",
              "   'Ciência da Computação',\n",
              "   [(1, [8, 8, 8])]),\n",
              "  ('20229001166',\n",
              "   'HILDA HELENA SILVA ALENCAR LUZ',\n",
              "   'Ciência da Computação',\n",
              "   [])],\n",
              " 60,\n",
              " ([1, 3], 1))"
            ]
          },
          "metadata": {},
          "execution_count": 89
        }
      ]
    },
    {
      "cell_type": "code",
      "source": [
        "disciplina1[4][1][3].append((codigo_disciplina, notas_a2))"
      ],
      "metadata": {
        "id": "j8z9J_GM4Y9u"
      },
      "execution_count": 90,
      "outputs": []
    },
    {
      "cell_type": "code",
      "source": [
        "disciplina1"
      ],
      "metadata": {
        "colab": {
          "base_uri": "https://localhost:8080/"
        },
        "id": "lAn9_CvM4fDM",
        "outputId": "330fa37a-7e44-4e77-8ccc-b7f2abc13fb9"
      },
      "execution_count": 91,
      "outputs": [
        {
          "output_type": "execute_result",
          "data": {
            "text/plain": [
              "(1,\n",
              " 'Laboratório de Programação',\n",
              " '2022-2',\n",
              " [(1, 'Armando Soares Sousa'), (2, 'André Macedo')],\n",
              " [('20219001499',\n",
              "   'RAFFAEL FERREIRA FERNANDES',\n",
              "   'Ciência da Computação',\n",
              "   [(1, [8, 8, 8])]),\n",
              "  ('20229001166',\n",
              "   'HILDA HELENA SILVA ALENCAR LUZ',\n",
              "   'Ciência da Computação',\n",
              "   [(1, [9, 9, 9])])],\n",
              " 60,\n",
              " ([1, 3], 1))"
            ]
          },
          "metadata": {},
          "execution_count": 91
        }
      ]
    },
    {
      "cell_type": "code",
      "source": [
        "print(disciplina1)"
      ],
      "metadata": {
        "colab": {
          "base_uri": "https://localhost:8080/"
        },
        "id": "AlV_lLUa4iQ9",
        "outputId": "e4ba147a-562b-4279-d569-b17724a2ce45"
      },
      "execution_count": 92,
      "outputs": [
        {
          "output_type": "stream",
          "name": "stdout",
          "text": [
            "(1, 'Laboratório de Programação', '2022-2', [(1, 'Armando Soares Sousa'), (2, 'André Macedo')], [('20219001499', 'RAFFAEL FERREIRA FERNANDES', 'Ciência da Computação', [(1, [8, 8, 8])]), ('20229001166', 'HILDA HELENA SILVA ALENCAR LUZ', 'Ciência da Computação', [(1, [9, 9, 9])])], 60, ([1, 3], 1))\n"
          ]
        }
      ]
    },
    {
      "cell_type": "code",
      "source": [
        "lista_disciplinas.append(disciplina1)"
      ],
      "metadata": {
        "id": "kzU7taSf4i_o"
      },
      "execution_count": 93,
      "outputs": []
    },
    {
      "cell_type": "code",
      "source": [
        "lista_disciplinas"
      ],
      "metadata": {
        "colab": {
          "base_uri": "https://localhost:8080/"
        },
        "id": "67EM1WR34uMW",
        "outputId": "1c54bf87-9512-4101-9378-c7f1dbf4aa16"
      },
      "execution_count": 94,
      "outputs": [
        {
          "output_type": "execute_result",
          "data": {
            "text/plain": [
              "[(1,\n",
              "  'Laboratório de Programação',\n",
              "  '2022-2',\n",
              "  [(1, 'Armando Soares Sousa'), (2, 'André Macedo')],\n",
              "  [('20219001499',\n",
              "    'RAFFAEL FERREIRA FERNANDES',\n",
              "    'Ciência da Computação',\n",
              "    [(1, [8, 8, 8])]),\n",
              "   ('20229001166',\n",
              "    'HILDA HELENA SILVA ALENCAR LUZ',\n",
              "    'Ciência da Computação',\n",
              "    [(1, [9, 9, 9])])],\n",
              "  60,\n",
              "  ([1, 3], 1))]"
            ]
          },
          "metadata": {},
          "execution_count": 94
        }
      ]
    }
  ]
}