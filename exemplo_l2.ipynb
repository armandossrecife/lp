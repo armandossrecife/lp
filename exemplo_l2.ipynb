{
  "nbformat": 4,
  "nbformat_minor": 0,
  "metadata": {
    "colab": {
      "provenance": [],
      "authorship_tag": "ABX9TyM7EjgeYrtI8edW8F7GLlmN",
      "include_colab_link": true
    },
    "kernelspec": {
      "name": "python3",
      "display_name": "Python 3"
    },
    "language_info": {
      "name": "python"
    }
  },
  "cells": [
    {
      "cell_type": "markdown",
      "metadata": {
        "id": "view-in-github",
        "colab_type": "text"
      },
      "source": [
        "<a href=\"https://colab.research.google.com/github/armandossrecife/lp/blob/main/exemplo_l2.ipynb\" target=\"_parent\"><img src=\"https://colab.research.google.com/assets/colab-badge.svg\" alt=\"Open In Colab\"/></a>"
      ]
    },
    {
      "cell_type": "code",
      "execution_count": 40,
      "metadata": {
        "id": "x73y4dKE0Ijp"
      },
      "outputs": [],
      "source": [
        "lista_disciplinas = []"
      ]
    },
    {
      "cell_type": "code",
      "source": [
        "codigo_disciplina = 1\n",
        "nome_disciplina = \"Laboratório de Programação\"\n",
        "semestre = str(2022) + '-' + str(2)\n",
        "lista_professores = list()\n",
        "lista_alunos = list()\n",
        "carga_horaria = 60\n",
        "dias_semana = [1,3]\n",
        "horario = 1\n",
        "\n",
        "disciplina1 = (codigo_disciplina, nome_disciplina, semestre, lista_professores, lista_alunos, carga_horaria, (dias_semana, horario))"
      ],
      "metadata": {
        "id": "_mGyPXsi0N1P"
      },
      "execution_count": 41,
      "outputs": []
    },
    {
      "cell_type": "code",
      "source": [
        "disciplina1"
      ],
      "metadata": {
        "colab": {
          "base_uri": "https://localhost:8080/"
        },
        "id": "iREq55IJ1s-T",
        "outputId": "0e473596-fc95-4087-c739-ef3ee4fa8154"
      },
      "execution_count": 42,
      "outputs": [
        {
          "output_type": "execute_result",
          "data": {
            "text/plain": [
              "(1, 'Laboratório de Programação', '2022-2', [], [], 60, ([1, 3], 1))"
            ]
          },
          "metadata": {},
          "execution_count": 42
        }
      ]
    },
    {
      "cell_type": "code",
      "source": [
        "professor1 = (1, 'Armando Soares Sousa')\n",
        "professor2 = (2, 'André Macedo')\n",
        "\n",
        "aluno1 = ('20219001499', 'RAFFAEL FERREIRA FERNANDES', 'Ciência da Computação', [])\n",
        "aluno2 = ('20229001166', 'HILDA HELENA SILVA ALENCAR LUZ', 'Ciência da Computação', [])"
      ],
      "metadata": {
        "id": "mAA8Kchi1Zs-"
      },
      "execution_count": 43,
      "outputs": []
    },
    {
      "cell_type": "code",
      "source": [
        "disciplina1[3]"
      ],
      "metadata": {
        "colab": {
          "base_uri": "https://localhost:8080/"
        },
        "id": "0elGT9Us6Ydm",
        "outputId": "7af4b498-1d5d-4c30-f18b-cb5e293ea731"
      },
      "execution_count": 44,
      "outputs": [
        {
          "output_type": "execute_result",
          "data": {
            "text/plain": [
              "[]"
            ]
          },
          "metadata": {},
          "execution_count": 44
        }
      ]
    },
    {
      "cell_type": "code",
      "source": [
        "disciplina1[4]"
      ],
      "metadata": {
        "colab": {
          "base_uri": "https://localhost:8080/"
        },
        "id": "Y5JZVIZ56dIr",
        "outputId": "39658850-a8a7-49af-9b66-b1723abb5d3c"
      },
      "execution_count": 45,
      "outputs": [
        {
          "output_type": "execute_result",
          "data": {
            "text/plain": [
              "[]"
            ]
          },
          "metadata": {},
          "execution_count": 45
        }
      ]
    },
    {
      "cell_type": "code",
      "source": [
        "disciplina1[3].append(professor1)\n",
        "disciplina1[3].append(professor2)\n",
        "disciplina1[4].append(aluno1)\n",
        "disciplina1[4].append(aluno2)"
      ],
      "metadata": {
        "id": "dh_H8QEL1yS7"
      },
      "execution_count": 46,
      "outputs": []
    },
    {
      "cell_type": "code",
      "source": [
        "disciplina1"
      ],
      "metadata": {
        "colab": {
          "base_uri": "https://localhost:8080/"
        },
        "id": "OcDMg-1c2dz5",
        "outputId": "70fce5c0-8273-4f26-f9da-3ac19c52a851"
      },
      "execution_count": 47,
      "outputs": [
        {
          "output_type": "execute_result",
          "data": {
            "text/plain": [
              "(1,\n",
              " 'Laboratório de Programação',\n",
              " '2022-2',\n",
              " [(1, 'Armando Soares Sousa'), (2, 'André Macedo')],\n",
              " [('20219001499', 'RAFFAEL FERREIRA FERNANDES', 'Ciência da Computação', []),\n",
              "  ('20229001166',\n",
              "   'HILDA HELENA SILVA ALENCAR LUZ',\n",
              "   'Ciência da Computação',\n",
              "   [])],\n",
              " 60,\n",
              " ([1, 3], 1))"
            ]
          },
          "metadata": {},
          "execution_count": 47
        }
      ]
    },
    {
      "cell_type": "code",
      "source": [
        "notas_a1_1 = 9\n",
        "notas_a1_2 = 9\n",
        "notas_a1_3 = 9\n",
        "\n",
        "notas_a2_1 = 8\n",
        "notas_a2_2 = 8\n",
        "notas_a2_3 = 8"
      ],
      "metadata": {
        "id": "2POY8ceg266_"
      },
      "execution_count": 48,
      "outputs": []
    },
    {
      "cell_type": "code",
      "source": [
        "disciplina1[4]"
      ],
      "metadata": {
        "colab": {
          "base_uri": "https://localhost:8080/"
        },
        "id": "-P4D9BSZ3Idw",
        "outputId": "7fa7db48-b045-4643-d172-672e382f425c"
      },
      "execution_count": 49,
      "outputs": [
        {
          "output_type": "execute_result",
          "data": {
            "text/plain": [
              "[('20219001499', 'RAFFAEL FERREIRA FERNANDES', 'Ciência da Computação', []),\n",
              " ('20229001166',\n",
              "  'HILDA HELENA SILVA ALENCAR LUZ',\n",
              "  'Ciência da Computação',\n",
              "  [])]"
            ]
          },
          "metadata": {},
          "execution_count": 49
        }
      ]
    },
    {
      "cell_type": "code",
      "source": [
        "disciplina1[4][0]"
      ],
      "metadata": {
        "colab": {
          "base_uri": "https://localhost:8080/"
        },
        "id": "lNzOhYua3uG_",
        "outputId": "cbc813a2-7138-444c-a781-a66764ef8c74"
      },
      "execution_count": 50,
      "outputs": [
        {
          "output_type": "execute_result",
          "data": {
            "text/plain": [
              "('20219001499', 'RAFFAEL FERREIRA FERNANDES', 'Ciência da Computação', [])"
            ]
          },
          "metadata": {},
          "execution_count": 50
        }
      ]
    },
    {
      "cell_type": "code",
      "source": [
        "disciplina1[4][1]"
      ],
      "metadata": {
        "colab": {
          "base_uri": "https://localhost:8080/"
        },
        "id": "xaiYFHIc5AbR",
        "outputId": "54ca40d1-e683-4417-d7a8-5d3269777d86"
      },
      "execution_count": 51,
      "outputs": [
        {
          "output_type": "execute_result",
          "data": {
            "text/plain": [
              "('20229001166', 'HILDA HELENA SILVA ALENCAR LUZ', 'Ciência da Computação', [])"
            ]
          },
          "metadata": {},
          "execution_count": 51
        }
      ]
    },
    {
      "cell_type": "code",
      "source": [
        "disciplina1[4][0][3].append(notas_a1_1)\n",
        "disciplina1[4][0][3].append(notas_a1_2)\n",
        "disciplina1[4][0][3].append(notas_a1_2)"
      ],
      "metadata": {
        "id": "nXmy4L7g3xvH"
      },
      "execution_count": 52,
      "outputs": []
    },
    {
      "cell_type": "code",
      "source": [
        "disciplina1"
      ],
      "metadata": {
        "colab": {
          "base_uri": "https://localhost:8080/"
        },
        "id": "ZHBTLNSc3-MA",
        "outputId": "92e6492c-1e65-4394-c771-db32fe3294bd"
      },
      "execution_count": 53,
      "outputs": [
        {
          "output_type": "execute_result",
          "data": {
            "text/plain": [
              "(1,\n",
              " 'Laboratório de Programação',\n",
              " '2022-2',\n",
              " [(1, 'Armando Soares Sousa'), (2, 'André Macedo')],\n",
              " [('20219001499',\n",
              "   'RAFFAEL FERREIRA FERNANDES',\n",
              "   'Ciência da Computação',\n",
              "   [9, 9, 9]),\n",
              "  ('20229001166',\n",
              "   'HILDA HELENA SILVA ALENCAR LUZ',\n",
              "   'Ciência da Computação',\n",
              "   [])],\n",
              " 60,\n",
              " ([1, 3], 1))"
            ]
          },
          "metadata": {},
          "execution_count": 53
        }
      ]
    },
    {
      "cell_type": "code",
      "source": [
        "disciplina1[4][1][3].append(notas_a2_1)\n",
        "disciplina1[4][1][3].append(notas_a2_2)\n",
        "disciplina1[4][1][3].append(notas_a2_3)"
      ],
      "metadata": {
        "id": "j8z9J_GM4Y9u"
      },
      "execution_count": 54,
      "outputs": []
    },
    {
      "cell_type": "code",
      "source": [
        "disciplina1"
      ],
      "metadata": {
        "colab": {
          "base_uri": "https://localhost:8080/"
        },
        "id": "lAn9_CvM4fDM",
        "outputId": "4a7928f4-5dc4-46c2-dd9f-a05b9bce8796"
      },
      "execution_count": 55,
      "outputs": [
        {
          "output_type": "execute_result",
          "data": {
            "text/plain": [
              "(1,\n",
              " 'Laboratório de Programação',\n",
              " '2022-2',\n",
              " [(1, 'Armando Soares Sousa'), (2, 'André Macedo')],\n",
              " [('20219001499',\n",
              "   'RAFFAEL FERREIRA FERNANDES',\n",
              "   'Ciência da Computação',\n",
              "   [9, 9, 9]),\n",
              "  ('20229001166',\n",
              "   'HILDA HELENA SILVA ALENCAR LUZ',\n",
              "   'Ciência da Computação',\n",
              "   [8, 8, 8])],\n",
              " 60,\n",
              " ([1, 3], 1))"
            ]
          },
          "metadata": {},
          "execution_count": 55
        }
      ]
    },
    {
      "cell_type": "code",
      "source": [
        "print(disciplina1)"
      ],
      "metadata": {
        "colab": {
          "base_uri": "https://localhost:8080/"
        },
        "id": "AlV_lLUa4iQ9",
        "outputId": "71fc81d0-d996-4940-be5a-f8aa4e5407ab"
      },
      "execution_count": 56,
      "outputs": [
        {
          "output_type": "stream",
          "name": "stdout",
          "text": [
            "(1, 'Laboratório de Programação', '2022-2', [(1, 'Armando Soares Sousa'), (2, 'André Macedo')], [('20219001499', 'RAFFAEL FERREIRA FERNANDES', 'Ciência da Computação', [9, 9, 9]), ('20229001166', 'HILDA HELENA SILVA ALENCAR LUZ', 'Ciência da Computação', [8, 8, 8])], 60, ([1, 3], 1))\n"
          ]
        }
      ]
    },
    {
      "cell_type": "code",
      "source": [
        "lista_disciplinas.append(disciplina1)"
      ],
      "metadata": {
        "id": "kzU7taSf4i_o"
      },
      "execution_count": 57,
      "outputs": []
    },
    {
      "cell_type": "code",
      "source": [
        "lista_disciplinas"
      ],
      "metadata": {
        "colab": {
          "base_uri": "https://localhost:8080/"
        },
        "id": "67EM1WR34uMW",
        "outputId": "b4bfaf78-6249-47e6-893e-4e5a8c242d23"
      },
      "execution_count": 58,
      "outputs": [
        {
          "output_type": "execute_result",
          "data": {
            "text/plain": [
              "[(1,\n",
              "  'Laboratório de Programação',\n",
              "  '2022-2',\n",
              "  [(1, 'Armando Soares Sousa'), (2, 'André Macedo')],\n",
              "  [('20219001499',\n",
              "    'RAFFAEL FERREIRA FERNANDES',\n",
              "    'Ciência da Computação',\n",
              "    [9, 9, 9]),\n",
              "   ('20229001166',\n",
              "    'HILDA HELENA SILVA ALENCAR LUZ',\n",
              "    'Ciência da Computação',\n",
              "    [8, 8, 8])],\n",
              "  60,\n",
              "  ([1, 3], 1))]"
            ]
          },
          "metadata": {},
          "execution_count": 58
        }
      ]
    }
  ]
}