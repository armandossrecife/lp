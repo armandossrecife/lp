{
  "nbformat": 4,
  "nbformat_minor": 0,
  "metadata": {
    "interpreter": {
      "hash": "58bc13ec4dd135858b8220102d0ad3358f57eb64d131366ec25c4d4365eacf63"
    },
    "kernelspec": {
      "display_name": "Python 3.6.3 64-bit",
      "name": "python3"
    },
    "language_info": {
      "codemirror_mode": {
        "name": "ipython",
        "version": 3
      },
      "file_extension": ".py",
      "mimetype": "text/x-python",
      "name": "python",
      "nbconvert_exporter": "python",
      "pygments_lexer": "ipython3",
      "version": "3.6.3"
    },
    "orig_nbformat": 4,
    "colab": {
      "provenance": [],
      "include_colab_link": true
    }
  },
  "cells": [
    {
      "cell_type": "markdown",
      "metadata": {
        "id": "view-in-github",
        "colab_type": "text"
      },
      "source": [
        "<a href=\"https://colab.research.google.com/github/armandossrecife/lp/blob/main/IntroducaoaPOOcomPython.ipynb\" target=\"_parent\"><img src=\"https://colab.research.google.com/assets/colab-badge.svg\" alt=\"Open In Colab\"/></a>"
      ]
    },
    {
      "cell_type": "markdown",
      "metadata": {
        "id": "0j7wFxlhJd0j"
      },
      "source": [
        "# Fundamentos de Programação Orientada a Objetos com Python"
      ]
    },
    {
      "cell_type": "markdown",
      "metadata": {
        "id": "vLP_so5FJd0o"
      },
      "source": [
        "## POO com Python\n",
        "\n",
        "Paradigma que trabalha baseado em objetos. Os objetos podem conter dados e operações.\n",
        "\n",
        "Um objeto pode conter propriedades (atributos) ou operações (métodos)"
      ]
    },
    {
      "cell_type": "markdown",
      "metadata": {
        "id": "fBWYIvDAJd0p"
      },
      "source": [
        "https://docs.python.org/3/tutorial/classes.html"
      ]
    },
    {
      "cell_type": "markdown",
      "metadata": {
        "id": "z8LnL6scJd0q"
      },
      "source": [
        "### Definição de classe"
      ]
    },
    {
      "cell_type": "code",
      "metadata": {
        "id": "2rxvm0ehJd0q",
        "colab": {
          "base_uri": "https://localhost:8080/"
        },
        "outputId": "7e3f06aa-73f5-4d1c-c0e3-9bade19aaf99"
      },
      "source": [
        "class Pessoa:\n",
        "    pass\n",
        "\n",
        "p = Pessoa()\n",
        "\n",
        "print(p)"
      ],
      "execution_count": null,
      "outputs": [
        {
          "output_type": "stream",
          "name": "stdout",
          "text": [
            "<__main__.Pessoa object at 0x7fe58ac36be0>\n"
          ]
        }
      ]
    },
    {
      "cell_type": "markdown",
      "source": [
        "Definindo **atributos** de uma classe\n",
        "\n",
        "Obs: os atributos de uma classe, por padrão, devem ser inicializados. "
      ],
      "metadata": {
        "id": "4dQYMk1O1NwN"
      }
    },
    {
      "cell_type": "code",
      "source": [
        "class Pessoa:\n",
        "  cpf=''\n",
        "  nome='' \n",
        "  data_nascimento=''\n",
        "\n",
        "# Instancionando um objeto Pessoa\n",
        "p = Pessoa()\n",
        "\n",
        "# Mostrando o conteudo do objeto p\n",
        "print(p)\n",
        "print(f'cpf: {p.cpf}')\n",
        "print(f'nome: {p.nome}')\n",
        "print(f'data_nascimento: {p.data_nascimento}')\n",
        "\n",
        "# atribuindo valores as propriedades do objeto p\n",
        "p.cpf = '12345678901'\n",
        "p.nome = 'Maria'\n",
        "p.data_nascimento = '19/12/2000'\n",
        "\n",
        "# Mostrando os dados atualizados do objeto p\n",
        "print(p)\n",
        "print(f'cpf: {p.cpf}')\n",
        "print(f'nome: {p.nome}')\n",
        "print(f'data_nascimento: {p.data_nascimento}')"
      ],
      "metadata": {
        "id": "3YOpYeI81SL-",
        "outputId": "79d55ad1-34a2-4899-bf58-dfef94eaecdd",
        "colab": {
          "base_uri": "https://localhost:8080/"
        }
      },
      "execution_count": null,
      "outputs": [
        {
          "output_type": "stream",
          "name": "stdout",
          "text": [
            "<__main__.Pessoa object at 0x7fe58ac9b910>\n",
            "cpf: \n",
            "nome: \n",
            "data_nascimento: \n",
            "<__main__.Pessoa object at 0x7fe58ac9b910>\n",
            "cpf: 12345678901\n",
            "nome: Maria\n",
            "data_nascimento: 19/12/2000\n"
          ]
        }
      ]
    },
    {
      "cell_type": "markdown",
      "source": [
        "Definindo uma classe com um **construtor** __init__ inicializando abributos\n",
        "\n",
        "Obs: Neste caso, ao instanciar uma classe é preciso informar os valores dos atributos"
      ],
      "metadata": {
        "id": "x7zxw0f23P3g"
      }
    },
    {
      "cell_type": "code",
      "source": [
        "class Pessoa:\n",
        "  def __init__(self, cpf, nome, dia_nascimento, mes_nascimento, ano_nascimento):\n",
        "    self.cpf = cpf\n",
        "    self.nome = nome\n",
        "    self.dia_nascimento = dia_nascimento\n",
        "    self.mes_nascimento = mes_nascimento\n",
        "    self.ano_nascimento = ano_nascimento"
      ],
      "metadata": {
        "id": "3WmzsF2o3TEv"
      },
      "execution_count": null,
      "outputs": []
    },
    {
      "cell_type": "code",
      "source": [
        "# Instancionando um objeto Pessoa\n",
        "p = Pessoa('12345678901', 'Maria', 19, 12, 2000)\n",
        "\n",
        "# Mostra os dados do objeto p\n",
        "print(p)\n",
        "print(f'cpf: {p.cpf}')\n",
        "print(f'nome: {p.nome}')\n",
        "\n",
        "data_nascimento = str(p.dia_nascimento) + '/' + str(p.mes_nascimento) + '/' + str(p.ano_nascimento)\n",
        "print(f'data_nascimento: {data_nascimento}')"
      ],
      "metadata": {
        "id": "4otxnmle5ktH",
        "outputId": "8400f2fd-dcac-46d7-a01f-507a5a02afba",
        "colab": {
          "base_uri": "https://localhost:8080/"
        }
      },
      "execution_count": null,
      "outputs": [
        {
          "output_type": "stream",
          "name": "stdout",
          "text": [
            "<__main__.Pessoa object at 0x7fe58ac36400>\n",
            "cpf: 12345678901\n",
            "nome: Maria\n",
            "data_nascimento: 19/12/2000\n"
          ]
        }
      ]
    },
    {
      "cell_type": "markdown",
      "source": [
        "**Métodos** de uma classe\n",
        "\n",
        "Obs: Para criar um método de uma classe é preciso passar o parâmetro **self** na definição do método.\n",
        "\n",
        "O self permite acessar as propriedades e outros métodos da classe"
      ],
      "metadata": {
        "id": "xUSzkFrX2aBe"
      }
    },
    {
      "cell_type": "code",
      "source": [
        "import datetime\n",
        "\n",
        "class Pessoa:\n",
        "  def __init__(self, cpf, nome, dia_nascimento, mes_nascimento, ano_nascimento):\n",
        "    self.cpf = cpf\n",
        "    self.nome = nome\n",
        "    self.dia_nascimento = dia_nascimento\n",
        "    self.mes_nascimento = mes_nascimento\n",
        "    self.ano_nascimento = ano_nascimento\n",
        "    \n",
        "  def get_idade(self):\n",
        "    ano_atual = int(datetime.datetime.now().year)\n",
        "    return (ano_atual-self.ano_nascimento)"
      ],
      "metadata": {
        "id": "InZPly_t2cls"
      },
      "execution_count": null,
      "outputs": []
    },
    {
      "cell_type": "code",
      "source": [
        "p = Pessoa('12345678901', 'Maria', 19, 12, 2000)\n",
        "\n",
        "print(p)\n",
        "print(f'cpf: {p.cpf}')\n",
        "print(f'nome: {p.nome}')\n",
        "\n",
        "data_nascimento = str(p.dia_nascimento) + '/' + str(p.mes_nascimento) + '/' + str(p.ano_nascimento)\n",
        "print(f'data_nascimento: {data_nascimento}')\n",
        "\n",
        "# Chamando o método get_idade()\n",
        "print(f'Idade: {p.get_idade()}')"
      ],
      "metadata": {
        "id": "loWJr0z-60Cv",
        "outputId": "0db47195-0241-4b58-809b-9dae51b239bc",
        "colab": {
          "base_uri": "https://localhost:8080/"
        }
      },
      "execution_count": null,
      "outputs": [
        {
          "output_type": "stream",
          "name": "stdout",
          "text": [
            "<__main__.Pessoa object at 0x7fe58ad9b9a0>\n",
            "cpf: 12345678901\n",
            "nome: Maria\n",
            "data_nascimento: 19/12/2000\n",
            "Idade: 22\n"
          ]
        }
      ]
    },
    {
      "cell_type": "markdown",
      "source": [
        "Atualizando valores das propriedades de um Objeto"
      ],
      "metadata": {
        "id": "llzXtwaY8a-Y"
      }
    },
    {
      "cell_type": "code",
      "source": [
        "import datetime\n",
        "\n",
        "class Pessoa:\n",
        "  # uma pessoa pode mudar de endereco, cidade ou estado ao longo do tempo\n",
        "  endereco='' \n",
        "  cidade=''\n",
        "  estado=''\n",
        "\n",
        "  def __init__(self, cpf, nome, dia_nascimento, mes_nascimento, ano_nascimento):\n",
        "    self.cpf = cpf\n",
        "    self.nome = nome\n",
        "    self.dia_nascimento = dia_nascimento\n",
        "    self.mes_nascimento = mes_nascimento\n",
        "    self.ano_nascimento = ano_nascimento\n",
        "\n",
        "  def get_idade(self):\n",
        "    ano_atual = int(datetime.datetime.now().year)\n",
        "    return (ano_atual-self.ano_nascimento)\n",
        "\n",
        "  def set_endereco(self, endereco):\n",
        "    self.endereco = endereco\n",
        "\n",
        "  def set_cidade(self, cidade):\n",
        "    self.cidade = cidade\n",
        "    \n",
        "  def set_estado(self, estado):\n",
        "    self.estado = estado"
      ],
      "metadata": {
        "id": "PMopHMPZ8r1H"
      },
      "execution_count": null,
      "outputs": []
    },
    {
      "cell_type": "code",
      "source": [
        "p = Pessoa('12345678901', 'Maria', 19, 12, 2000)\n",
        "\n",
        "print(p)\n",
        "print(f'cpf: {p.cpf}')\n",
        "print(f'nome: {p.nome}')\n",
        "\n",
        "data_nascimento = str(p.dia_nascimento) + '/' + str(p.mes_nascimento) + '/' + str(p.ano_nascimento)\n",
        "print(f'data_nascimento: {data_nascimento}')\n",
        "\n",
        "print(f'Idade: {p.get_idade()}')\n",
        "\n",
        "# Atualizando os valores dos atributos endereco, cidade e estado\n",
        "p.set_endereco('Rua xyz')\n",
        "p.set_cidade('Teresina')\n",
        "p.set_estado('PI')\n",
        "\n",
        "print(f'Endereço: {p.endereco}')\n",
        "print(f'Cidade: {p.cidade}')\n",
        "print(f'Estado: {p.estado}')"
      ],
      "metadata": {
        "id": "XdnZKHOr9NRw",
        "outputId": "f5a3951a-0092-4297-90b9-0585b96a0928",
        "colab": {
          "base_uri": "https://localhost:8080/"
        }
      },
      "execution_count": null,
      "outputs": [
        {
          "output_type": "stream",
          "name": "stdout",
          "text": [
            "<__main__.Pessoa object at 0x7fe58f2d3eb0>\n",
            "cpf: 12345678901\n",
            "nome: Maria\n",
            "data_nascimento: 19/12/2000\n",
            "Idade: 22\n",
            "Endereço: Rua xyz\n",
            "Cidade: Teresina\n",
            "Estado: PI\n"
          ]
        }
      ]
    },
    {
      "cell_type": "markdown",
      "source": [
        "Método especial __str__\n",
        "\n",
        "Obs: Mostra os dados definidos no método ao imprimir(exibir) a referência do objeto"
      ],
      "metadata": {
        "id": "ILuT_UaXBglT"
      }
    },
    {
      "cell_type": "code",
      "source": [
        "class Pessoa:\n",
        "  # uma pessoa pode mudar de endereco, cidade ou estado ao longo do tempo\n",
        "  endereco='' \n",
        "  cidade=''\n",
        "  estado=''\n",
        "\n",
        "  def __init__(self, cpf, nome, dia_nascimento, mes_nascimento, ano_nascimento):\n",
        "    self.cpf = cpf\n",
        "    self.nome = nome\n",
        "    self.dia_nascimento = dia_nascimento\n",
        "    self.mes_nascimento = mes_nascimento\n",
        "    self.ano_nascimento = ano_nascimento\n",
        "  \n",
        "  def get_idade(self):\n",
        "    ano_atual = int(datetime.datetime.now().year)\n",
        "    return (ano_atual-self.ano_nascimento)\n",
        "  \n",
        "  def set_endereco(self, endereco):\n",
        "    self.endereco = endereco\n",
        "  \n",
        "  def set_cidade(self, cidade):\n",
        "    self.cidade = cidade\n",
        "  \n",
        "  def set_estado(self, estado):\n",
        "    self.estado = estado\n",
        "\n",
        "  def __str__(self):\n",
        "    return f'CPF: {self.cpf}, Nome: {self.nome}, Endereço: {self.endereco}, {self.cidade}, {self.estado}'"
      ],
      "metadata": {
        "id": "r9fybf19BkKA"
      },
      "execution_count": null,
      "outputs": []
    },
    {
      "cell_type": "code",
      "source": [
        "p = Pessoa('12345678901', 'Maria', 19, 12, 2000)\n",
        "p.set_endereco('Rua xyz')\n",
        "p.set_cidade('Teresina')\n",
        "p.set_estado('PI')\n",
        "\n",
        "# Mostra as informacoes definidas no metodo __str__ ao inves da referencia de memoria do objeto\n",
        "print(p)"
      ],
      "metadata": {
        "id": "XPc5d5l_CMDJ",
        "outputId": "8253fa41-eb4f-4983-b61a-f8afef98f64e",
        "colab": {
          "base_uri": "https://localhost:8080/"
        }
      },
      "execution_count": null,
      "outputs": [
        {
          "output_type": "stream",
          "name": "stdout",
          "text": [
            "CPF: 12345678901, Nome: Maria, Endereço: Rua xyz, Teresina, PI\n"
          ]
        }
      ]
    },
    {
      "cell_type": "markdown",
      "source": [
        "Criando uma Classe Endereco"
      ],
      "metadata": {
        "id": "2Ki3YEUECj1Z"
      }
    },
    {
      "cell_type": "code",
      "source": [
        "class Endereco:\n",
        "    def __init__(self, rua, numero, complemento=None, cep=None, cidade=None, estado=None):\n",
        "        self.rua = rua\n",
        "        self.numero = numero\n",
        "        self.complemento = complemento\n",
        "        self.cep = cep\n",
        "        self.cidade = cidade\n",
        "        self.estado = estado\n",
        "\n",
        "    def __str__(self):\n",
        "        return f'Rua: {self.rua} - n.o: {self.numero} - Cpl: {self.complemento} - CEP: {self.cep} - cidade: {self.cidade} - estado: {self.estado}'"
      ],
      "metadata": {
        "id": "SVgifEOJCmnM"
      },
      "execution_count": null,
      "outputs": []
    },
    {
      "cell_type": "markdown",
      "source": [
        "### Composição de classes\n",
        "\n",
        "Alterando a Classe Pessoa para compor com a Classe Endereco"
      ],
      "metadata": {
        "id": "k0XHmpnUCzy5"
      }
    },
    {
      "cell_type": "code",
      "source": [
        "class Pessoa:\n",
        "  endereco=None # Aloca um espaco (None signifca Vazio) para endereco \n",
        "\n",
        "  def __init__(self, cpf, nome, dia_nascimento, mes_nascimento, ano_nascimento):\n",
        "    self.cpf = cpf\n",
        "    self.nome = nome\n",
        "    self.dia_nascimento = dia_nascimento\n",
        "    self.mes_nascimento = mes_nascimento\n",
        "    self.ano_nascimento = ano_nascimento\n",
        "\n",
        "  def get_idade(self):\n",
        "    ano_atual = int(datetime.datetime.now().year)\n",
        "    return (ano_atual-self.ano_nascimento)\n",
        "\n",
        "  def set_endereco(self, endereco):\n",
        "    self.endereco = endereco\n",
        "\n",
        "  def __str__(self):\n",
        "    return f'CPF: {self.cpf}, Nome: {self.nome}'"
      ],
      "metadata": {
        "id": "6P1RANJGCyvi"
      },
      "execution_count": null,
      "outputs": []
    },
    {
      "cell_type": "code",
      "source": [
        "# instancia um novo Endereco\n",
        "meu_endereco = Endereco('Rua xyz', 122345, 'Próximo ao Posto BR', '640007234', 'Teresina', 'PI')\n",
        "\n",
        "print(meu_endereco)"
      ],
      "metadata": {
        "id": "Rnez53dFDI5S",
        "outputId": "620a5160-69f1-475e-a92e-3c602791c3d0",
        "colab": {
          "base_uri": "https://localhost:8080/"
        }
      },
      "execution_count": null,
      "outputs": [
        {
          "output_type": "stream",
          "name": "stdout",
          "text": [
            "Rua: Rua xyz - n.o: 122345 - Cpl: Próximo ao Posto BR - CEP: 640007234 - cidade: Teresina - estado: PI\n"
          ]
        }
      ]
    },
    {
      "cell_type": "code",
      "source": [
        "# Instancia uma nova pessoa\n",
        "p = Pessoa('12345678901', 'Maria', 19, 12, 2000)\n",
        "\n",
        "print(f'cpf: {p.cpf}')\n",
        "print(f'nome: {p.nome}')\n",
        "\n",
        "data_nascimento = str(p.dia_nascimento) + '/' + str(p.mes_nascimento) + '/' + str(p.ano_nascimento)\n",
        "print(f'data_nascimento: {data_nascimento}')\n",
        "\n",
        "print(f'Idade: {p.get_idade()}')\n",
        "\n",
        "# associa o endereco (meu_endereco) a pessoa (p)\n",
        "p.set_endereco(meu_endereco)"
      ],
      "metadata": {
        "id": "LPBerpasDaYD",
        "outputId": "d427515c-321c-40e2-e8c6-f5e60781a92c",
        "colab": {
          "base_uri": "https://localhost:8080/"
        }
      },
      "execution_count": null,
      "outputs": [
        {
          "output_type": "stream",
          "name": "stdout",
          "text": [
            "cpf: 12345678901\n",
            "nome: Maria\n",
            "data_nascimento: 19/12/2000\n",
            "Idade: 22\n"
          ]
        }
      ]
    },
    {
      "cell_type": "code",
      "source": [
        "# Mostra o endereco da pessoa (p)\n",
        "print(p.endereco)"
      ],
      "metadata": {
        "id": "65jf0ypyDwx0",
        "outputId": "128b5aaa-1645-4344-f3b1-4a825fda8b23",
        "colab": {
          "base_uri": "https://localhost:8080/"
        }
      },
      "execution_count": null,
      "outputs": [
        {
          "output_type": "stream",
          "name": "stdout",
          "text": [
            "Rua: Rua xyz - n.o: 122345 - Cpl: Próximo ao Posto BR - CEP: 640007234 - cidade: Teresina - estado: PI\n"
          ]
        }
      ]
    },
    {
      "cell_type": "code",
      "source": [
        "print(p.endereco.rua)"
      ],
      "metadata": {
        "id": "b11jo7H-D276",
        "outputId": "90a1011f-c883-4ed6-87d5-b37325042249",
        "colab": {
          "base_uri": "https://localhost:8080/"
        }
      },
      "execution_count": null,
      "outputs": [
        {
          "output_type": "stream",
          "name": "stdout",
          "text": [
            "Rua xyz\n"
          ]
        }
      ]
    },
    {
      "cell_type": "code",
      "source": [
        "print(p.endereco.numero)"
      ],
      "metadata": {
        "id": "7TaMeUoXD68b",
        "outputId": "e4bd5bae-7268-45ea-9312-be17321de913",
        "colab": {
          "base_uri": "https://localhost:8080/"
        }
      },
      "execution_count": null,
      "outputs": [
        {
          "output_type": "stream",
          "name": "stdout",
          "text": [
            "122345\n"
          ]
        }
      ]
    },
    {
      "cell_type": "markdown",
      "source": [
        "Adicionando Telefones e E-mails para a Classe Pessoa"
      ],
      "metadata": {
        "id": "aQuSav_1EQbc"
      }
    },
    {
      "cell_type": "code",
      "source": [
        "class Pessoa:\n",
        "  endereco = None\n",
        "  lista_telefones = None # Aloca um espaco (None=Vazio) para uma lista de telefones\n",
        "  lista_emails = None # Aloca um espaco (None=Vazio) para uma lista de emails\n",
        "\n",
        "  def __init__(self, cpf, nome, dia_nascimento, mes_nascimento, ano_nascimento):\n",
        "    self.cpf = cpf\n",
        "    self.nome = nome\n",
        "    self.dia_nascimento = dia_nascimento\n",
        "    self.mes_nascimento = mes_nascimento\n",
        "    self.ano_nascimento = ano_nascimento\n",
        "  \n",
        "  def get_idade(self):\n",
        "    ano_atual = int(datetime.datetime.now().year)\n",
        "    return (ano_atual-self.ano_nascimento)\n",
        "  \n",
        "  def set_endereco(self, endereco):\n",
        "    self.endereco = endereco\n",
        "  \n",
        "  def set_telefones(self, telefones):\n",
        "    self.lista_telefones = telefones\n",
        "  \n",
        "  def set_emails(self, emails):\n",
        "    self.lista_emails = emails\n",
        "  \n",
        "  def __str__(self):\n",
        "    return f'CPF: {self.cpf}, Nome: {self.nome}'"
      ],
      "metadata": {
        "id": "nXnBGs7SEUxK"
      },
      "execution_count": null,
      "outputs": []
    },
    {
      "cell_type": "code",
      "source": [
        "meu_endereco = Endereco('Rua xyz', 122345, 'Próximo ao Posto BR', '640007234', 'Teresina', 'PI')\n",
        "meus_telefones = ['(86)-988776655', '(86)-989876543']\n",
        "meus_emails = ['as@gmail.com', 'ss@gmail.com']\n",
        "\n",
        "p = Pessoa('12345678901', 'Maria', 19, 12, 2000)\n",
        "p.set_endereco(meu_endereco)\n",
        "p.set_telefones(meus_telefones)\n",
        "p.set_emails(meus_emails)\n",
        "\n",
        "print(p.lista_telefones)\n",
        "print(p.lista_emails)"
      ],
      "metadata": {
        "id": "a4FLJA6uFDwd",
        "outputId": "74935521-86ec-4780-8fc2-ee53e9b7b7fc",
        "colab": {
          "base_uri": "https://localhost:8080/"
        }
      },
      "execution_count": null,
      "outputs": [
        {
          "output_type": "stream",
          "name": "stdout",
          "text": [
            "['(86)-988776655', '(86)-989876543']\n",
            "['as@gmail.com', 'ss@gmail.com']\n"
          ]
        }
      ]
    },
    {
      "cell_type": "markdown",
      "metadata": {
        "id": "mbocZkAFJd01"
      },
      "source": [
        "## Herança"
      ]
    },
    {
      "cell_type": "markdown",
      "metadata": {
        "id": "DXbCV0ErJd01"
      },
      "source": [
        "### Criando a classe Cliente herdando da classe Pessoa"
      ]
    },
    {
      "cell_type": "code",
      "metadata": {
        "id": "j621x9TAJd02"
      },
      "source": [
        "class Cliente(Pessoa):\n",
        "    pass\n",
        "\n",
        "# A classe Cliente herda todas as propriedades e metodos da classe Pessoa"
      ],
      "execution_count": null,
      "outputs": []
    },
    {
      "cell_type": "code",
      "source": [
        "# para instanciar um novo objeto da classe Cliente, é preciso passar os dados do método construtor __init__ da classe Pessoa\n",
        "\n",
        "# Instanciando novos cliente via herança da Classe Pessoa\n",
        "cliente1 = Cliente('12345678901', 'Maria', 19, 12, 2000)\n",
        "cliente2 = Cliente('88888883333', 'Francisco', 10, 10, 2005)"
      ],
      "metadata": {
        "id": "Arxxa2YXGx1q"
      },
      "execution_count": null,
      "outputs": []
    },
    {
      "cell_type": "code",
      "source": [
        "meu_endereco = Endereco('Rua xyz', 122345, 'Próximo ao Posto BR', '640007234', 'Teresina', 'PI')\n",
        "meus_telefones = ['(86)-988776655', '(86)-989876543']\n",
        "meus_emails = ['as@gmail.com', 'ss@gmail.com']\n",
        "\n",
        "cliente1 = Cliente('12345678901', 'Maria', 19, 12, 2000)\n",
        "\n",
        "cliente1.set_endereco(meu_endereco)\n",
        "cliente1.set_telefones(meus_telefones)\n",
        "cliente1.set_emails(meus_emails)\n",
        "\n",
        "print(\"Dados do cliente1: \")\n",
        "print(cliente1.cpf)\n",
        "print(cliente1.nome)\n",
        "print(cliente1.lista_emails)\n",
        "print(cliente1.lista_telefones)\n",
        "print(cliente1.endereco)"
      ],
      "metadata": {
        "id": "iCaycn0JGXp8",
        "outputId": "229955b5-f2b9-4426-f97d-8203189871ba",
        "colab": {
          "base_uri": "https://localhost:8080/"
        }
      },
      "execution_count": null,
      "outputs": [
        {
          "output_type": "stream",
          "name": "stdout",
          "text": [
            "Dados do cliente1: \n",
            "12345678901\n",
            "Maria\n",
            "['as@gmail.com', 'ss@gmail.com']\n",
            "['(86)-988776655', '(86)-989876543']\n",
            "Rua: Rua xyz - n.o: 122345 - Cpl: Próximo ao Posto BR - CEP: 640007234 - cidade: Teresina - estado: PI\n"
          ]
        }
      ]
    },
    {
      "cell_type": "markdown",
      "metadata": {
        "id": "NM-XgZf3Jd03"
      },
      "source": [
        "### Criando a classe Usuario"
      ]
    },
    {
      "cell_type": "code",
      "metadata": {
        "id": "Jyky7cxoJd03"
      },
      "source": [
        "class Usuario:\n",
        "    def __init__(self, user, password, acesso=None):\n",
        "        self.user = user\n",
        "        self.password = password\n",
        "        self.acesso = acesso"
      ],
      "execution_count": null,
      "outputs": []
    },
    {
      "cell_type": "markdown",
      "metadata": {
        "id": "1TygpXRPJd03"
      },
      "source": [
        "### Criando a classe Cliente herdando da classe Pessoa e fazendo composição com a classe Usuario"
      ]
    },
    {
      "cell_type": "code",
      "metadata": {
        "id": "Soft7jq4Jd03"
      },
      "source": [
        "class Cliente(Pessoa):\n",
        "    usuario = None\n",
        "\n",
        "    def set_usuario(self, usuario):\n",
        "        self.usuario = usuario"
      ],
      "execution_count": null,
      "outputs": []
    },
    {
      "cell_type": "markdown",
      "metadata": {
        "id": "bmrVhkRSJd04"
      },
      "source": [
        "### Instanciando um usuário"
      ]
    },
    {
      "cell_type": "code",
      "metadata": {
        "id": "v8j-xfyOJd04"
      },
      "source": [
        "usuario1 = Usuario('maria', 'hojetalvezamanha', 1)"
      ],
      "execution_count": null,
      "outputs": []
    },
    {
      "cell_type": "markdown",
      "metadata": {
        "id": "5B1NUmG_Jd04"
      },
      "source": [
        "### Atualizando os dados de usuário do cliente1"
      ]
    },
    {
      "cell_type": "code",
      "metadata": {
        "id": "a6GbG4EjJd04",
        "outputId": "48a93389-ef09-4f50-de77-27e0780cc212",
        "colab": {
          "base_uri": "https://localhost:8080/"
        }
      },
      "source": [
        "meu_endereco = Endereco('Rua xyz', 122345, 'Próximo ao Posto BR', '640007234', 'Teresina', 'PI')\n",
        "meus_telefones = ['(86)-988776655', '(86)-989876543']\n",
        "meus_emails = ['as@gmail.com', 'ss@gmail.com']\n",
        "\n",
        "cliente1 = Cliente('12345678901', 'Maria', 19, 12, 2000)\n",
        "\n",
        "cliente1.set_endereco(meu_endereco)\n",
        "cliente1.set_telefones(meus_telefones)\n",
        "cliente1.set_emails(meus_emails)\n",
        "\n",
        "print(\"Dados do cliente1: \")\n",
        "print(cliente1.cpf)\n",
        "print(cliente1.nome)\n",
        "print(cliente1.lista_emails)\n",
        "print(cliente1.lista_telefones)\n",
        "print(cliente1.endereco)"
      ],
      "execution_count": null,
      "outputs": [
        {
          "output_type": "stream",
          "name": "stdout",
          "text": [
            "Dados do cliente1: \n",
            "12345678901\n",
            "Maria\n",
            "['as@gmail.com', 'ss@gmail.com']\n",
            "['(86)-988776655', '(86)-989876543']\n",
            "Rua: Rua xyz - n.o: 122345 - Cpl: Próximo ao Posto BR - CEP: 640007234 - cidade: Teresina - estado: PI\n"
          ]
        }
      ]
    },
    {
      "cell_type": "code",
      "source": [
        "cliente1.set_usuario(usuario1)\n",
        "\n",
        "print(f'Usuário do cliente1: {cliente1.usuario.user}')\n",
        "print(f'Senha do Usuário do cliente1: {cliente1.usuario.password}')\n",
        "print(f'Acesso do Usuário do cliente1: {cliente1.usuario.acesso}')"
      ],
      "metadata": {
        "id": "VLugFJafIjH-",
        "outputId": "428f1c3f-ebec-4972-9482-6f48760a9133",
        "colab": {
          "base_uri": "https://localhost:8080/"
        }
      },
      "execution_count": null,
      "outputs": [
        {
          "output_type": "stream",
          "name": "stdout",
          "text": [
            "Usuário do cliente1: maria\n",
            "Senha do Usuário do cliente1: hojetalvezamanha\n",
            "Acesso do Usuário do cliente1: 1\n"
          ]
        }
      ]
    }
  ]
}